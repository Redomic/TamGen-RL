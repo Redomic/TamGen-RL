{
 "cells": [
  {
   "cell_type": "markdown",
   "metadata": {},
   "source": [
    "Initialize the environment"
   ]
  },
  {
   "cell_type": "code",
   "execution_count": 1,
   "metadata": {},
   "outputs": [
    {
     "name": "stdout",
     "output_type": "stream",
     "text": [
      "Namespace(no_progress_bar=False, log_interval=1000, log_format=None, tensorboard_logdir='', tbmf_wrapper=False, seed=1, cpu=False, fp16=False, memory_efficient_fp16=False, fp16_init_scale=128, fp16_scale_window=None, fp16_scale_tolerance=0.0, min_loss_scale=0.0001, threshold_loss_scale=None, user_dir=None, criterion='cross_entropy', tokenizer=None, bpe=None, optimizer='nag', lr_scheduler='fixed', task='translation_coord', num_workers=1, skip_invalid_size_inputs_valid_test=False, max_tokens=1024, max_sentences=None, required_batch_size_multiple=8, dataset_impl=None, gen_subset='gen_8fln', num_shards=1, shard_id=0, path='checkpoints/crossdock_pdb_A10/checkpoint_best.pt', remove_bpe=None, quiet=False, model_overrides='{}', results_path=None, beam=20, nbest=20, max_len_a=0, max_len_b=200, min_len=1, match_source_len=False, no_early_stop=False, unnormalized=False, no_beamable_mm=False, lenpen=1, unkpen=0, replace_unk=None, sacrebleu=False, score_reference=False, prefix_size=0, prefix_string=None, tag_prefix_token=False, no_repeat_ngram_size=0, sampling=False, sampling_topk=-1, sampling_topp=-1.0, temperature=1.0, diverse_beam_groups=-1, diverse_beam_strength=0.5, print_alignment=False, scorer='bleu', codegen_pov_replace_unk=True, dump_hyp=None, momentum=0.99, weight_decay=0.0, force_anneal=None, lr_shrink=0.1, warmup_updates=0, data='./TamGen_Demo_Data', source_lang='tg', target_lang='m1', lazy_load=False, raw_text=False, left_pad_source='True', left_pad_target='False', max_source_positions=1024, max_target_positions=1024, upsample_primary=1, coord_mode='raw', use_src_coord=True, use_tgt_coord=False, shuffle_input=False, vae=False, sample_beta=1.0, hint=False, hint_rate=0.5, gen_coord_noise=False, gen_rot=False, gen_vae=True, remove_prefix_fragment=False)\n",
      "| [tg] dictionary: 25 types\n",
      "| [m1] dictionary: 962 types\n",
      "| loading model(s) from checkpoints/crossdock_pdb_A10/checkpoint_best.pt\n",
      "checkpoints/crossdock_pdb_A10/checkpoint_best.pt\n",
      "gpt_model/checkpoint_best.pt\n",
      "1HVH is downloaded\n",
      "| loaded 1 examples from: ./TamGen_Demo_Data/gen_1hvh.tg-m1.tg\n",
      "| loaded 1 examples from: ./TamGen_Demo_Data/gen_1hvh.tg-m1.m1\n",
      "| ./TamGen_Demo_Data gen_1hvh tg-m1 1 examples\n",
      "| loaded 1 examples from: ./TamGen_Demo_Data/gen_1hvh.tg-m1.tg.coord\n"
     ]
    }
   ],
   "source": [
    "from TamGen_Demo import TamGenDemo, prepare_pdb_data\n",
    "import os\n",
    "\n",
    "os.environ[\"CUDA_VISIBLE_DEVICES\"] = \"0\"\n",
    "\n",
    "worker = TamGenDemo(\n",
    "    data=\"./TamGen_Demo_Data\",\n",
    "    ckpt=\"checkpoints/crossdock_pdb_A10/checkpoint_best.pt\",\n",
    "    use_conditional=True\n",
    ")\n",
    "\n",
    "pdb_id = \"1HVH\"\n",
    "prepare_pdb_data(pdb_id,)\n",
    "worker.reload_data(subset=\"gen_\" + pdb_id.lower())"
   ]
  },
  {
   "cell_type": "code",
   "execution_count": 2,
   "metadata": {},
   "outputs": [
    {
     "name": "stdout",
     "output_type": "stream",
     "text": [
      "Namespace(no_progress_bar=False, log_interval=1000, log_format=None, tensorboard_logdir='', tbmf_wrapper=False, seed=1, cpu=False, fp16=False, memory_efficient_fp16=False, fp16_init_scale=128, fp16_scale_window=None, fp16_scale_tolerance=0.0, min_loss_scale=0.0001, threshold_loss_scale=None, user_dir=None, criterion='cross_entropy', tokenizer=None, bpe=None, optimizer='nag', lr_scheduler='fixed', task='translation_coord', num_workers=1, skip_invalid_size_inputs_valid_test=False, max_tokens=1024, max_sentences=None, required_batch_size_multiple=8, dataset_impl=None, gen_subset='gen_8fln', num_shards=1, shard_id=0, path='checkpoints/crossdocked_model/checkpoint_best.pt', remove_bpe=None, quiet=False, model_overrides='{}', results_path=None, beam=20, nbest=20, max_len_a=0, max_len_b=200, min_len=1, match_source_len=False, no_early_stop=False, unnormalized=False, no_beamable_mm=False, lenpen=1, unkpen=0, replace_unk=None, sacrebleu=False, score_reference=False, prefix_size=0, prefix_string=None, tag_prefix_token=False, no_repeat_ngram_size=0, sampling=False, sampling_topk=-1, sampling_topp=-1.0, temperature=1.0, diverse_beam_groups=-1, diverse_beam_strength=0.5, print_alignment=False, scorer='bleu', codegen_pov_replace_unk=True, dump_hyp=None, momentum=0.99, weight_decay=0.0, force_anneal=None, lr_shrink=0.1, warmup_updates=0, data='./TamGen_Demo_Data', source_lang='tg', target_lang='m1', lazy_load=False, raw_text=False, left_pad_source='True', left_pad_target='False', max_source_positions=1024, max_target_positions=1024, upsample_primary=1, coord_mode='raw', use_src_coord=True, use_tgt_coord=False, shuffle_input=False, vae=False, sample_beta=1.0, hint=False, hint_rate=0.5, gen_coord_noise=False, gen_rot=False, gen_vae=True, remove_prefix_fragment=False)\n",
      "| [tg] dictionary: 25 types\n",
      "| [m1] dictionary: 962 types\n",
      "| loading model(s) from checkpoints/crossdocked_model/checkpoint_best.pt\n",
      "checkpoints/crossdocked_model/checkpoint_best.pt\n",
      "gpt_model/checkpoint_best.pt\n"
     ]
    },
    {
     "name": "stderr",
     "output_type": "stream",
     "text": [
      "2025-06-07 19:08:05,116 [INFO] TamGenRL initialized on device: cuda:0\n",
      "2025-06-07 19:08:05,117 [INFO] Detected latent dimension: 256\n"
     ]
    }
   ],
   "source": [
    "from TamGen_RL import TamGenRL\n",
    "import torch\n",
    "import os\n",
    "\n",
    "os.environ[\"CUDA_VISIBLE_DEVICES\"] = \"0\"\n",
    "\n",
    "worker = TamGenRL(\n",
    "    data=\"./TamGen_Demo_Data\",\n",
    "    ckpt=\"checkpoints/crossdocked_model/checkpoint_best.pt\",\n",
    "    use_conditional=True\n",
    ")"
   ]
  },
  {
   "cell_type": "markdown",
   "metadata": {},
   "source": [
    "Set the PDB you want to generate cmpds"
   ]
  },
  {
   "cell_type": "code",
   "execution_count": null,
   "metadata": {},
   "outputs": [],
   "source": [
    "worker.reload_data(subset=\"gen_\" + pdb_id.lower())\n",
    "\n",
    "final_smiles = worker.sample(\n",
    "    m_sample=10000,      # Tiny\n",
    "    num_iter=30,      # Just 2 iterations  \n",
    "    latent_dim=256,\n",
    "    alpha=0.4,\n",
    "    top_k=10,\n",
    "    lambda_sas=0.3,\n",
    "    lambda_logp=0.1,\n",
    "    lambda_mw=0.1,\n",
    "    maxseed=50,       # Just 2 seeds\n",
    "    use_cuda=torch.cuda.is_available()\n",
    ")"
   ]
  },
  {
   "cell_type": "markdown",
   "metadata": {},
   "source": [
    "Visualize"
   ]
  },
  {
   "cell_type": "code",
   "execution_count": null,
   "metadata": {},
   "outputs": [],
   "source": [
    "for i in final_smiles:\n",
    "    print(i)"
   ]
  },
  {
   "cell_type": "code",
   "execution_count": null,
   "metadata": {},
   "outputs": [],
   "source": [
    "from rdkit import Chem\n",
    "\n",
    "valid_smiles = []\n",
    "invalid_smiles = []\n",
    "\n",
    "for smi in final_smiles:\n",
    "    mol = Chem.MolFromSmiles(smi)\n",
    "    if mol:\n",
    "        valid_smiles.append(smi)\n",
    "    else:\n",
    "        invalid_smiles.append(smi)\n",
    "for i in final_smiles:\n",
    "    print(i)\n",
    "print(f\"✅ Valid: {len(valid_smiles)}\")\n",
    "print(f\"❌ Invalid: {len(invalid_smiles)}\")"
   ]
  },
  {
   "cell_type": "code",
   "execution_count": 4,
   "metadata": {},
   "outputs": [
    {
     "name": "stdout",
     "output_type": "stream",
     "text": [
      "🔬 REWARD CONVERGENCE ANALYSIS\n",
      "============================================================\n",
      "📊 Found 10 iteration files\n",
      "   Iter 1: 19 molecules, 1 unique, reward range [-3.104, -3.104]\n",
      "   Iter 2: 19 molecules, 10 unique, reward range [-3.051, -2.414]\n",
      "   Iter 3: 19 molecules, 10 unique, reward range [-3.682, -2.461]\n",
      "   Iter 4: 19 molecules, 9 unique, reward range [-2.925, -2.458]\n",
      "   Iter 5: 19 molecules, 10 unique, reward range [-2.800, -2.400]\n",
      "   Iter 6: 19 molecules, 6 unique, reward range [-2.800, -2.461]\n",
      "   Iter 7: 19 molecules, 10 unique, reward range [-2.800, -2.458]\n",
      "   Iter 8: 19 molecules, 8 unique, reward range [-2.800, -2.414]\n",
      "   Iter 9: 19 molecules, 7 unique, reward range [-2.925, -2.458]\n",
      "   Iter 10: 19 molecules, 12 unique, reward range [-2.800, -2.378]\n"
     ]
    },
    {
     "ename": "KeyboardInterrupt",
     "evalue": "",
     "output_type": "error",
     "traceback": [
      "\u001b[0;31m---------------------------------------------------------------------------\u001b[0m",
      "\u001b[0;31mAttributeError\u001b[0m                            Traceback (most recent call last)",
      "File \u001b[0;32m~/miniconda3/envs/TamGen/lib/python3.9/site-packages/PIL/ImageFile.py:554\u001b[0m, in \u001b[0;36m_save\u001b[0;34m(im, fp, tile, bufsize)\u001b[0m\n\u001b[1;32m    553\u001b[0m \u001b[38;5;28;01mtry\u001b[39;00m:\n\u001b[0;32m--> 554\u001b[0m     fh \u001b[38;5;241m=\u001b[39m \u001b[43mfp\u001b[49m\u001b[38;5;241;43m.\u001b[39;49m\u001b[43mfileno\u001b[49m()\n\u001b[1;32m    555\u001b[0m     fp\u001b[38;5;241m.\u001b[39mflush()\n",
      "\u001b[0;31mAttributeError\u001b[0m: '_idat' object has no attribute 'fileno'",
      "\nDuring handling of the above exception, another exception occurred:\n",
      "\u001b[0;31mKeyboardInterrupt\u001b[0m                         Traceback (most recent call last)",
      "Cell \u001b[0;32mIn[4], line 371\u001b[0m\n\u001b[1;32m    368\u001b[0m     \u001b[38;5;28;01mreturn\u001b[39;00m iteration_data\n\u001b[1;32m    370\u001b[0m \u001b[38;5;28;01mif\u001b[39;00m \u001b[38;5;18m__name__\u001b[39m \u001b[38;5;241m==\u001b[39m \u001b[38;5;124m\"\u001b[39m\u001b[38;5;124m__main__\u001b[39m\u001b[38;5;124m\"\u001b[39m:\n\u001b[0;32m--> 371\u001b[0m     result \u001b[38;5;241m=\u001b[39m \u001b[43manalyze_reward_convergence\u001b[49m\u001b[43m(\u001b[49m\u001b[43m)\u001b[49m\n\u001b[1;32m    372\u001b[0m     \u001b[38;5;28;01mif\u001b[39;00m result \u001b[38;5;129;01mis\u001b[39;00m \u001b[38;5;129;01mnot\u001b[39;00m \u001b[38;5;28;01mNone\u001b[39;00m:\n\u001b[1;32m    373\u001b[0m         \u001b[38;5;28mprint\u001b[39m(\u001b[38;5;124m\"\u001b[39m\u001b[38;5;124m✅ Analysis completed successfully!\u001b[39m\u001b[38;5;124m\"\u001b[39m)\n",
      "Cell \u001b[0;32mIn[4], line 273\u001b[0m, in \u001b[0;36manalyze_reward_convergence\u001b[0;34m()\u001b[0m\n\u001b[1;32m    271\u001b[0m \u001b[38;5;66;03m# Save plot with error handling\u001b[39;00m\n\u001b[1;32m    272\u001b[0m \u001b[38;5;28;01mtry\u001b[39;00m:\n\u001b[0;32m--> 273\u001b[0m     \u001b[43mplt\u001b[49m\u001b[38;5;241;43m.\u001b[39;49m\u001b[43msavefig\u001b[49m\u001b[43m(\u001b[49m\u001b[38;5;124;43m'\u001b[39;49m\u001b[38;5;124;43mlatent_logs/reward_analysis.png\u001b[39;49m\u001b[38;5;124;43m'\u001b[39;49m\u001b[43m,\u001b[49m\u001b[43m \u001b[49m\u001b[43mdpi\u001b[49m\u001b[38;5;241;43m=\u001b[39;49m\u001b[38;5;241;43m300\u001b[39;49m\u001b[43m,\u001b[49m\u001b[43m \u001b[49m\u001b[43mbbox_inches\u001b[49m\u001b[38;5;241;43m=\u001b[39;49m\u001b[38;5;124;43m'\u001b[39;49m\u001b[38;5;124;43mtight\u001b[39;49m\u001b[38;5;124;43m'\u001b[39;49m\u001b[43m)\u001b[49m\n\u001b[1;32m    274\u001b[0m     \u001b[38;5;28mprint\u001b[39m(\u001b[38;5;124m\"\u001b[39m\u001b[38;5;124m📊 Analysis plot saved to \u001b[39m\u001b[38;5;124m'\u001b[39m\u001b[38;5;124mlatent_logs/reward_analysis.png\u001b[39m\u001b[38;5;124m'\u001b[39m\u001b[38;5;124m\"\u001b[39m)\n\u001b[1;32m    275\u001b[0m \u001b[38;5;28;01mexcept\u001b[39;00m \u001b[38;5;167;01mException\u001b[39;00m \u001b[38;5;28;01mas\u001b[39;00m e:\n",
      "File \u001b[0;32m~/miniconda3/envs/TamGen/lib/python3.9/site-packages/matplotlib/pyplot.py:1228\u001b[0m, in \u001b[0;36msavefig\u001b[0;34m(*args, **kwargs)\u001b[0m\n\u001b[1;32m   1225\u001b[0m fig \u001b[38;5;241m=\u001b[39m gcf()\n\u001b[1;32m   1226\u001b[0m \u001b[38;5;66;03m# savefig default implementation has no return, so mypy is unhappy\u001b[39;00m\n\u001b[1;32m   1227\u001b[0m \u001b[38;5;66;03m# presumably this is here because subclasses can return?\u001b[39;00m\n\u001b[0;32m-> 1228\u001b[0m res \u001b[38;5;241m=\u001b[39m \u001b[43mfig\u001b[49m\u001b[38;5;241;43m.\u001b[39;49m\u001b[43msavefig\u001b[49m\u001b[43m(\u001b[49m\u001b[38;5;241;43m*\u001b[39;49m\u001b[43margs\u001b[49m\u001b[43m,\u001b[49m\u001b[43m \u001b[49m\u001b[38;5;241;43m*\u001b[39;49m\u001b[38;5;241;43m*\u001b[39;49m\u001b[43mkwargs\u001b[49m\u001b[43m)\u001b[49m  \u001b[38;5;66;03m# type: ignore[func-returns-value]\u001b[39;00m\n\u001b[1;32m   1229\u001b[0m fig\u001b[38;5;241m.\u001b[39mcanvas\u001b[38;5;241m.\u001b[39mdraw_idle()  \u001b[38;5;66;03m# Need this if 'transparent=True', to reset colors.\u001b[39;00m\n\u001b[1;32m   1230\u001b[0m \u001b[38;5;28;01mreturn\u001b[39;00m res\n",
      "File \u001b[0;32m~/miniconda3/envs/TamGen/lib/python3.9/site-packages/matplotlib/figure.py:3395\u001b[0m, in \u001b[0;36mFigure.savefig\u001b[0;34m(self, fname, transparent, **kwargs)\u001b[0m\n\u001b[1;32m   3393\u001b[0m     \u001b[38;5;28;01mfor\u001b[39;00m ax \u001b[38;5;129;01min\u001b[39;00m \u001b[38;5;28mself\u001b[39m\u001b[38;5;241m.\u001b[39maxes:\n\u001b[1;32m   3394\u001b[0m         _recursively_make_axes_transparent(stack, ax)\n\u001b[0;32m-> 3395\u001b[0m \u001b[38;5;28;43mself\u001b[39;49m\u001b[38;5;241;43m.\u001b[39;49m\u001b[43mcanvas\u001b[49m\u001b[38;5;241;43m.\u001b[39;49m\u001b[43mprint_figure\u001b[49m\u001b[43m(\u001b[49m\u001b[43mfname\u001b[49m\u001b[43m,\u001b[49m\u001b[43m \u001b[49m\u001b[38;5;241;43m*\u001b[39;49m\u001b[38;5;241;43m*\u001b[39;49m\u001b[43mkwargs\u001b[49m\u001b[43m)\u001b[49m\n",
      "File \u001b[0;32m~/miniconda3/envs/TamGen/lib/python3.9/site-packages/matplotlib/backend_bases.py:2204\u001b[0m, in \u001b[0;36mFigureCanvasBase.print_figure\u001b[0;34m(self, filename, dpi, facecolor, edgecolor, orientation, format, bbox_inches, pad_inches, bbox_extra_artists, backend, **kwargs)\u001b[0m\n\u001b[1;32m   2200\u001b[0m \u001b[38;5;28;01mtry\u001b[39;00m:\n\u001b[1;32m   2201\u001b[0m     \u001b[38;5;66;03m# _get_renderer may change the figure dpi (as vector formats\u001b[39;00m\n\u001b[1;32m   2202\u001b[0m     \u001b[38;5;66;03m# force the figure dpi to 72), so we need to set it again here.\u001b[39;00m\n\u001b[1;32m   2203\u001b[0m     \u001b[38;5;28;01mwith\u001b[39;00m cbook\u001b[38;5;241m.\u001b[39m_setattr_cm(\u001b[38;5;28mself\u001b[39m\u001b[38;5;241m.\u001b[39mfigure, dpi\u001b[38;5;241m=\u001b[39mdpi):\n\u001b[0;32m-> 2204\u001b[0m         result \u001b[38;5;241m=\u001b[39m \u001b[43mprint_method\u001b[49m\u001b[43m(\u001b[49m\n\u001b[1;32m   2205\u001b[0m \u001b[43m            \u001b[49m\u001b[43mfilename\u001b[49m\u001b[43m,\u001b[49m\n\u001b[1;32m   2206\u001b[0m \u001b[43m            \u001b[49m\u001b[43mfacecolor\u001b[49m\u001b[38;5;241;43m=\u001b[39;49m\u001b[43mfacecolor\u001b[49m\u001b[43m,\u001b[49m\n\u001b[1;32m   2207\u001b[0m \u001b[43m            \u001b[49m\u001b[43medgecolor\u001b[49m\u001b[38;5;241;43m=\u001b[39;49m\u001b[43medgecolor\u001b[49m\u001b[43m,\u001b[49m\n\u001b[1;32m   2208\u001b[0m \u001b[43m            \u001b[49m\u001b[43morientation\u001b[49m\u001b[38;5;241;43m=\u001b[39;49m\u001b[43morientation\u001b[49m\u001b[43m,\u001b[49m\n\u001b[1;32m   2209\u001b[0m \u001b[43m            \u001b[49m\u001b[43mbbox_inches_restore\u001b[49m\u001b[38;5;241;43m=\u001b[39;49m\u001b[43m_bbox_inches_restore\u001b[49m\u001b[43m,\u001b[49m\n\u001b[1;32m   2210\u001b[0m \u001b[43m            \u001b[49m\u001b[38;5;241;43m*\u001b[39;49m\u001b[38;5;241;43m*\u001b[39;49m\u001b[43mkwargs\u001b[49m\u001b[43m)\u001b[49m\n\u001b[1;32m   2211\u001b[0m \u001b[38;5;28;01mfinally\u001b[39;00m:\n\u001b[1;32m   2212\u001b[0m     \u001b[38;5;28;01mif\u001b[39;00m bbox_inches \u001b[38;5;129;01mand\u001b[39;00m restore_bbox:\n",
      "File \u001b[0;32m~/miniconda3/envs/TamGen/lib/python3.9/site-packages/matplotlib/backend_bases.py:2054\u001b[0m, in \u001b[0;36mFigureCanvasBase._switch_canvas_and_return_print_method.<locals>.<lambda>\u001b[0;34m(*args, **kwargs)\u001b[0m\n\u001b[1;32m   2050\u001b[0m     optional_kws \u001b[38;5;241m=\u001b[39m {  \u001b[38;5;66;03m# Passed by print_figure for other renderers.\u001b[39;00m\n\u001b[1;32m   2051\u001b[0m         \u001b[38;5;124m\"\u001b[39m\u001b[38;5;124mdpi\u001b[39m\u001b[38;5;124m\"\u001b[39m, \u001b[38;5;124m\"\u001b[39m\u001b[38;5;124mfacecolor\u001b[39m\u001b[38;5;124m\"\u001b[39m, \u001b[38;5;124m\"\u001b[39m\u001b[38;5;124medgecolor\u001b[39m\u001b[38;5;124m\"\u001b[39m, \u001b[38;5;124m\"\u001b[39m\u001b[38;5;124morientation\u001b[39m\u001b[38;5;124m\"\u001b[39m,\n\u001b[1;32m   2052\u001b[0m         \u001b[38;5;124m\"\u001b[39m\u001b[38;5;124mbbox_inches_restore\u001b[39m\u001b[38;5;124m\"\u001b[39m}\n\u001b[1;32m   2053\u001b[0m     skip \u001b[38;5;241m=\u001b[39m optional_kws \u001b[38;5;241m-\u001b[39m {\u001b[38;5;241m*\u001b[39minspect\u001b[38;5;241m.\u001b[39msignature(meth)\u001b[38;5;241m.\u001b[39mparameters}\n\u001b[0;32m-> 2054\u001b[0m     print_method \u001b[38;5;241m=\u001b[39m functools\u001b[38;5;241m.\u001b[39mwraps(meth)(\u001b[38;5;28;01mlambda\u001b[39;00m \u001b[38;5;241m*\u001b[39margs, \u001b[38;5;241m*\u001b[39m\u001b[38;5;241m*\u001b[39mkwargs: \u001b[43mmeth\u001b[49m\u001b[43m(\u001b[49m\n\u001b[1;32m   2055\u001b[0m \u001b[43m        \u001b[49m\u001b[38;5;241;43m*\u001b[39;49m\u001b[43margs\u001b[49m\u001b[43m,\u001b[49m\u001b[43m \u001b[49m\u001b[38;5;241;43m*\u001b[39;49m\u001b[38;5;241;43m*\u001b[39;49m\u001b[43m{\u001b[49m\u001b[43mk\u001b[49m\u001b[43m:\u001b[49m\u001b[43m \u001b[49m\u001b[43mv\u001b[49m\u001b[43m \u001b[49m\u001b[38;5;28;43;01mfor\u001b[39;49;00m\u001b[43m \u001b[49m\u001b[43mk\u001b[49m\u001b[43m,\u001b[49m\u001b[43m \u001b[49m\u001b[43mv\u001b[49m\u001b[43m \u001b[49m\u001b[38;5;129;43;01min\u001b[39;49;00m\u001b[43m \u001b[49m\u001b[43mkwargs\u001b[49m\u001b[38;5;241;43m.\u001b[39;49m\u001b[43mitems\u001b[49m\u001b[43m(\u001b[49m\u001b[43m)\u001b[49m\u001b[43m \u001b[49m\u001b[38;5;28;43;01mif\u001b[39;49;00m\u001b[43m \u001b[49m\u001b[43mk\u001b[49m\u001b[43m \u001b[49m\u001b[38;5;129;43;01mnot\u001b[39;49;00m\u001b[43m \u001b[49m\u001b[38;5;129;43;01min\u001b[39;49;00m\u001b[43m \u001b[49m\u001b[43mskip\u001b[49m\u001b[43m}\u001b[49m\u001b[43m)\u001b[49m)\n\u001b[1;32m   2056\u001b[0m \u001b[38;5;28;01melse\u001b[39;00m:  \u001b[38;5;66;03m# Let third-parties do as they see fit.\u001b[39;00m\n\u001b[1;32m   2057\u001b[0m     print_method \u001b[38;5;241m=\u001b[39m meth\n",
      "File \u001b[0;32m~/miniconda3/envs/TamGen/lib/python3.9/site-packages/matplotlib/backends/backend_agg.py:496\u001b[0m, in \u001b[0;36mFigureCanvasAgg.print_png\u001b[0;34m(self, filename_or_obj, metadata, pil_kwargs)\u001b[0m\n\u001b[1;32m    449\u001b[0m \u001b[38;5;28;01mdef\u001b[39;00m\u001b[38;5;250m \u001b[39m\u001b[38;5;21mprint_png\u001b[39m(\u001b[38;5;28mself\u001b[39m, filename_or_obj, \u001b[38;5;241m*\u001b[39m, metadata\u001b[38;5;241m=\u001b[39m\u001b[38;5;28;01mNone\u001b[39;00m, pil_kwargs\u001b[38;5;241m=\u001b[39m\u001b[38;5;28;01mNone\u001b[39;00m):\n\u001b[1;32m    450\u001b[0m \u001b[38;5;250m    \u001b[39m\u001b[38;5;124;03m\"\"\"\u001b[39;00m\n\u001b[1;32m    451\u001b[0m \u001b[38;5;124;03m    Write the figure to a PNG file.\u001b[39;00m\n\u001b[1;32m    452\u001b[0m \n\u001b[0;32m   (...)\u001b[0m\n\u001b[1;32m    494\u001b[0m \u001b[38;5;124;03m        *metadata*, including the default 'Software' key.\u001b[39;00m\n\u001b[1;32m    495\u001b[0m \u001b[38;5;124;03m    \"\"\"\u001b[39;00m\n\u001b[0;32m--> 496\u001b[0m     \u001b[38;5;28;43mself\u001b[39;49m\u001b[38;5;241;43m.\u001b[39;49m\u001b[43m_print_pil\u001b[49m\u001b[43m(\u001b[49m\u001b[43mfilename_or_obj\u001b[49m\u001b[43m,\u001b[49m\u001b[43m \u001b[49m\u001b[38;5;124;43m\"\u001b[39;49m\u001b[38;5;124;43mpng\u001b[39;49m\u001b[38;5;124;43m\"\u001b[39;49m\u001b[43m,\u001b[49m\u001b[43m \u001b[49m\u001b[43mpil_kwargs\u001b[49m\u001b[43m,\u001b[49m\u001b[43m \u001b[49m\u001b[43mmetadata\u001b[49m\u001b[43m)\u001b[49m\n",
      "File \u001b[0;32m~/miniconda3/envs/TamGen/lib/python3.9/site-packages/matplotlib/backends/backend_agg.py:445\u001b[0m, in \u001b[0;36mFigureCanvasAgg._print_pil\u001b[0;34m(self, filename_or_obj, fmt, pil_kwargs, metadata)\u001b[0m\n\u001b[1;32m    440\u001b[0m \u001b[38;5;250m\u001b[39m\u001b[38;5;124;03m\"\"\"\u001b[39;00m\n\u001b[1;32m    441\u001b[0m \u001b[38;5;124;03mDraw the canvas, then save it using `.image.imsave` (to which\u001b[39;00m\n\u001b[1;32m    442\u001b[0m \u001b[38;5;124;03m*pil_kwargs* and *metadata* are forwarded).\u001b[39;00m\n\u001b[1;32m    443\u001b[0m \u001b[38;5;124;03m\"\"\"\u001b[39;00m\n\u001b[1;32m    444\u001b[0m FigureCanvasAgg\u001b[38;5;241m.\u001b[39mdraw(\u001b[38;5;28mself\u001b[39m)\n\u001b[0;32m--> 445\u001b[0m \u001b[43mmpl\u001b[49m\u001b[38;5;241;43m.\u001b[39;49m\u001b[43mimage\u001b[49m\u001b[38;5;241;43m.\u001b[39;49m\u001b[43mimsave\u001b[49m\u001b[43m(\u001b[49m\n\u001b[1;32m    446\u001b[0m \u001b[43m    \u001b[49m\u001b[43mfilename_or_obj\u001b[49m\u001b[43m,\u001b[49m\u001b[43m \u001b[49m\u001b[38;5;28;43mself\u001b[39;49m\u001b[38;5;241;43m.\u001b[39;49m\u001b[43mbuffer_rgba\u001b[49m\u001b[43m(\u001b[49m\u001b[43m)\u001b[49m\u001b[43m,\u001b[49m\u001b[43m \u001b[49m\u001b[38;5;28;43mformat\u001b[39;49m\u001b[38;5;241;43m=\u001b[39;49m\u001b[43mfmt\u001b[49m\u001b[43m,\u001b[49m\u001b[43m \u001b[49m\u001b[43morigin\u001b[49m\u001b[38;5;241;43m=\u001b[39;49m\u001b[38;5;124;43m\"\u001b[39;49m\u001b[38;5;124;43mupper\u001b[39;49m\u001b[38;5;124;43m\"\u001b[39;49m\u001b[43m,\u001b[49m\n\u001b[1;32m    447\u001b[0m \u001b[43m    \u001b[49m\u001b[43mdpi\u001b[49m\u001b[38;5;241;43m=\u001b[39;49m\u001b[38;5;28;43mself\u001b[39;49m\u001b[38;5;241;43m.\u001b[39;49m\u001b[43mfigure\u001b[49m\u001b[38;5;241;43m.\u001b[39;49m\u001b[43mdpi\u001b[49m\u001b[43m,\u001b[49m\u001b[43m \u001b[49m\u001b[43mmetadata\u001b[49m\u001b[38;5;241;43m=\u001b[39;49m\u001b[43mmetadata\u001b[49m\u001b[43m,\u001b[49m\u001b[43m \u001b[49m\u001b[43mpil_kwargs\u001b[49m\u001b[38;5;241;43m=\u001b[39;49m\u001b[43mpil_kwargs\u001b[49m\u001b[43m)\u001b[49m\n",
      "File \u001b[0;32m~/miniconda3/envs/TamGen/lib/python3.9/site-packages/matplotlib/image.py:1676\u001b[0m, in \u001b[0;36mimsave\u001b[0;34m(fname, arr, vmin, vmax, cmap, format, origin, dpi, metadata, pil_kwargs)\u001b[0m\n\u001b[1;32m   1674\u001b[0m pil_kwargs\u001b[38;5;241m.\u001b[39msetdefault(\u001b[38;5;124m\"\u001b[39m\u001b[38;5;124mformat\u001b[39m\u001b[38;5;124m\"\u001b[39m, \u001b[38;5;28mformat\u001b[39m)\n\u001b[1;32m   1675\u001b[0m pil_kwargs\u001b[38;5;241m.\u001b[39msetdefault(\u001b[38;5;124m\"\u001b[39m\u001b[38;5;124mdpi\u001b[39m\u001b[38;5;124m\"\u001b[39m, (dpi, dpi))\n\u001b[0;32m-> 1676\u001b[0m \u001b[43mimage\u001b[49m\u001b[38;5;241;43m.\u001b[39;49m\u001b[43msave\u001b[49m\u001b[43m(\u001b[49m\u001b[43mfname\u001b[49m\u001b[43m,\u001b[49m\u001b[43m \u001b[49m\u001b[38;5;241;43m*\u001b[39;49m\u001b[38;5;241;43m*\u001b[39;49m\u001b[43mpil_kwargs\u001b[49m\u001b[43m)\u001b[49m\n",
      "File \u001b[0;32m~/miniconda3/envs/TamGen/lib/python3.9/site-packages/PIL/Image.py:2596\u001b[0m, in \u001b[0;36mImage.save\u001b[0;34m(self, fp, format, **params)\u001b[0m\n\u001b[1;32m   2593\u001b[0m     fp \u001b[38;5;241m=\u001b[39m cast(IO[\u001b[38;5;28mbytes\u001b[39m], fp)\n\u001b[1;32m   2595\u001b[0m \u001b[38;5;28;01mtry\u001b[39;00m:\n\u001b[0;32m-> 2596\u001b[0m     \u001b[43msave_handler\u001b[49m\u001b[43m(\u001b[49m\u001b[38;5;28;43mself\u001b[39;49m\u001b[43m,\u001b[49m\u001b[43m \u001b[49m\u001b[43mfp\u001b[49m\u001b[43m,\u001b[49m\u001b[43m \u001b[49m\u001b[43mfilename\u001b[49m\u001b[43m)\u001b[49m\n\u001b[1;32m   2597\u001b[0m \u001b[38;5;28;01mexcept\u001b[39;00m \u001b[38;5;167;01mException\u001b[39;00m:\n\u001b[1;32m   2598\u001b[0m     \u001b[38;5;28;01mif\u001b[39;00m open_fp:\n",
      "File \u001b[0;32m~/miniconda3/envs/TamGen/lib/python3.9/site-packages/PIL/PngImagePlugin.py:1488\u001b[0m, in \u001b[0;36m_save\u001b[0;34m(im, fp, filename, chunk, save_all)\u001b[0m\n\u001b[1;32m   1484\u001b[0m     single_im \u001b[38;5;241m=\u001b[39m _write_multiple_frames(\n\u001b[1;32m   1485\u001b[0m         im, fp, chunk, mode, rawmode, default_image, append_images\n\u001b[1;32m   1486\u001b[0m     )\n\u001b[1;32m   1487\u001b[0m \u001b[38;5;28;01mif\u001b[39;00m single_im:\n\u001b[0;32m-> 1488\u001b[0m     \u001b[43mImageFile\u001b[49m\u001b[38;5;241;43m.\u001b[39;49m\u001b[43m_save\u001b[49m\u001b[43m(\u001b[49m\n\u001b[1;32m   1489\u001b[0m \u001b[43m        \u001b[49m\u001b[43msingle_im\u001b[49m\u001b[43m,\u001b[49m\n\u001b[1;32m   1490\u001b[0m \u001b[43m        \u001b[49m\u001b[43mcast\u001b[49m\u001b[43m(\u001b[49m\u001b[43mIO\u001b[49m\u001b[43m[\u001b[49m\u001b[38;5;28;43mbytes\u001b[39;49m\u001b[43m]\u001b[49m\u001b[43m,\u001b[49m\u001b[43m \u001b[49m\u001b[43m_idat\u001b[49m\u001b[43m(\u001b[49m\u001b[43mfp\u001b[49m\u001b[43m,\u001b[49m\u001b[43m \u001b[49m\u001b[43mchunk\u001b[49m\u001b[43m)\u001b[49m\u001b[43m)\u001b[49m\u001b[43m,\u001b[49m\n\u001b[1;32m   1491\u001b[0m \u001b[43m        \u001b[49m\u001b[43m[\u001b[49m\u001b[43mImageFile\u001b[49m\u001b[38;5;241;43m.\u001b[39;49m\u001b[43m_Tile\u001b[49m\u001b[43m(\u001b[49m\u001b[38;5;124;43m\"\u001b[39;49m\u001b[38;5;124;43mzip\u001b[39;49m\u001b[38;5;124;43m\"\u001b[39;49m\u001b[43m,\u001b[49m\u001b[43m \u001b[49m\u001b[43m(\u001b[49m\u001b[38;5;241;43m0\u001b[39;49m\u001b[43m,\u001b[49m\u001b[43m \u001b[49m\u001b[38;5;241;43m0\u001b[39;49m\u001b[43m)\u001b[49m\u001b[43m \u001b[49m\u001b[38;5;241;43m+\u001b[39;49m\u001b[43m \u001b[49m\u001b[43msingle_im\u001b[49m\u001b[38;5;241;43m.\u001b[39;49m\u001b[43msize\u001b[49m\u001b[43m,\u001b[49m\u001b[43m \u001b[49m\u001b[38;5;241;43m0\u001b[39;49m\u001b[43m,\u001b[49m\u001b[43m \u001b[49m\u001b[43mrawmode\u001b[49m\u001b[43m)\u001b[49m\u001b[43m]\u001b[49m\u001b[43m,\u001b[49m\n\u001b[1;32m   1492\u001b[0m \u001b[43m    \u001b[49m\u001b[43m)\u001b[49m\n\u001b[1;32m   1494\u001b[0m \u001b[38;5;28;01mif\u001b[39;00m info:\n\u001b[1;32m   1495\u001b[0m     \u001b[38;5;28;01mfor\u001b[39;00m info_chunk \u001b[38;5;129;01min\u001b[39;00m info\u001b[38;5;241m.\u001b[39mchunks:\n",
      "File \u001b[0;32m~/miniconda3/envs/TamGen/lib/python3.9/site-packages/PIL/ImageFile.py:558\u001b[0m, in \u001b[0;36m_save\u001b[0;34m(im, fp, tile, bufsize)\u001b[0m\n\u001b[1;32m    556\u001b[0m     _encode_tile(im, fp, tile, bufsize, fh)\n\u001b[1;32m    557\u001b[0m \u001b[38;5;28;01mexcept\u001b[39;00m (\u001b[38;5;167;01mAttributeError\u001b[39;00m, io\u001b[38;5;241m.\u001b[39mUnsupportedOperation) \u001b[38;5;28;01mas\u001b[39;00m exc:\n\u001b[0;32m--> 558\u001b[0m     \u001b[43m_encode_tile\u001b[49m\u001b[43m(\u001b[49m\u001b[43mim\u001b[49m\u001b[43m,\u001b[49m\u001b[43m \u001b[49m\u001b[43mfp\u001b[49m\u001b[43m,\u001b[49m\u001b[43m \u001b[49m\u001b[43mtile\u001b[49m\u001b[43m,\u001b[49m\u001b[43m \u001b[49m\u001b[43mbufsize\u001b[49m\u001b[43m,\u001b[49m\u001b[43m \u001b[49m\u001b[38;5;28;43;01mNone\u001b[39;49;00m\u001b[43m,\u001b[49m\u001b[43m \u001b[49m\u001b[43mexc\u001b[49m\u001b[43m)\u001b[49m\n\u001b[1;32m    559\u001b[0m \u001b[38;5;28;01mif\u001b[39;00m \u001b[38;5;28mhasattr\u001b[39m(fp, \u001b[38;5;124m\"\u001b[39m\u001b[38;5;124mflush\u001b[39m\u001b[38;5;124m\"\u001b[39m):\n\u001b[1;32m    560\u001b[0m     fp\u001b[38;5;241m.\u001b[39mflush()\n",
      "File \u001b[0;32m~/miniconda3/envs/TamGen/lib/python3.9/site-packages/PIL/ImageFile.py:584\u001b[0m, in \u001b[0;36m_encode_tile\u001b[0;34m(im, fp, tile, bufsize, fh, exc)\u001b[0m\n\u001b[1;32m    581\u001b[0m \u001b[38;5;28;01mif\u001b[39;00m exc:\n\u001b[1;32m    582\u001b[0m     \u001b[38;5;66;03m# compress to Python file-compatible object\u001b[39;00m\n\u001b[1;32m    583\u001b[0m     \u001b[38;5;28;01mwhile\u001b[39;00m \u001b[38;5;28;01mTrue\u001b[39;00m:\n\u001b[0;32m--> 584\u001b[0m         errcode, data \u001b[38;5;241m=\u001b[39m \u001b[43mencoder\u001b[49m\u001b[38;5;241;43m.\u001b[39;49m\u001b[43mencode\u001b[49m\u001b[43m(\u001b[49m\u001b[43mbufsize\u001b[49m\u001b[43m)\u001b[49m[\u001b[38;5;241m1\u001b[39m:]\n\u001b[1;32m    585\u001b[0m         fp\u001b[38;5;241m.\u001b[39mwrite(data)\n\u001b[1;32m    586\u001b[0m         \u001b[38;5;28;01mif\u001b[39;00m errcode:\n",
      "\u001b[0;31mKeyboardInterrupt\u001b[0m: "
     ]
    },
    {
     "data": {
      "image/png": "[encoded data removed]",
      "text/plain": [
       "<Figure size 2000x1200 with 8 Axes>"
      ]
     },
     "metadata": {},
     "output_type": "display_data"
    }
   ],
   "source": [
    "import glob\n",
    "import numpy as np\n",
    "import matplotlib.pyplot as plt\n",
    "from collections import defaultdict\n",
    "from rdkit import Chem\n",
    "from rdkit.Chem import Descriptors, rdMolDescriptors\n",
    "import seaborn as sns\n",
    "import warnings\n",
    "warnings.filterwarnings('ignore')\n",
    "\n",
    "def analyze_reward_convergence():\n",
    "    \"\"\"\n",
    "    Comprehensive analysis of reward function convergence and molecular properties\n",
    "    \"\"\"\n",
    "    \n",
    "    print(\"🔬 REWARD CONVERGENCE ANALYSIS\")\n",
    "    print(\"=\" * 60)\n",
    "    \n",
    "    # Load reward files\n",
    "    reward_files = sorted(glob.glob('latent_logs/rewards_iter_*.tsv'))\n",
    "    if not reward_files:\n",
    "        print(\"❌ No reward files found in latent_logs/\")\n",
    "        return\n",
    "    \n",
    "    print(f\"📊 Found {len(reward_files)} iteration files\")\n",
    "    \n",
    "    # Parse data with robust error handling\n",
    "    iteration_data = {}\n",
    "    all_molecules = set()\n",
    "    \n",
    "    for i, f in enumerate(reward_files):\n",
    "        rewards = []\n",
    "        molecules = []\n",
    "        try:\n",
    "            with open(f, 'r', encoding='utf-8') as fin:\n",
    "                for line_num, line in enumerate(fin):\n",
    "                    line = line.strip()\n",
    "                    if not line:  # Skip empty lines\n",
    "                        continue\n",
    "                    parts = line.split('\\t')\n",
    "                    if len(parts) >= 2:\n",
    "                        mol_smiles = parts[0].strip()\n",
    "                        try:\n",
    "                            reward = float(parts[1])\n",
    "                            # Basic sanity check on reward values\n",
    "                            if not np.isnan(reward) and not np.isinf(reward):\n",
    "                                rewards.append(reward)\n",
    "                                molecules.append(mol_smiles)\n",
    "                                all_molecules.add(mol_smiles)\n",
    "                        except (ValueError, TypeError):\n",
    "                            print(f\"   ⚠️ Warning: Invalid reward value at line {line_num+1} in {f}\")\n",
    "                            continue\n",
    "        except Exception as e:\n",
    "            print(f\"   ❌ Error reading {f}: {e}\")\n",
    "            continue\n",
    "        \n",
    "        if rewards:  # Only add if we have valid data\n",
    "            iteration_data[i+1] = {\n",
    "                'rewards': np.array(rewards),\n",
    "                'molecules': molecules,\n",
    "                'mean': np.mean(rewards),\n",
    "                'max': np.max(rewards),\n",
    "                'median': np.median(rewards),\n",
    "                'std': np.std(rewards),\n",
    "                'unique_count': len(set(molecules))\n",
    "            }\n",
    "            \n",
    "            print(f\"   Iter {i+1}: {len(rewards)} molecules, {len(set(molecules))} unique, \"\n",
    "                  f\"reward range [{np.min(rewards):.3f}, {np.max(rewards):.3f}]\")\n",
    "        else:\n",
    "            print(f\"   ❌ No valid data in {f}\")\n",
    "    \n",
    "    if not iteration_data:\n",
    "        print(\"❌ No valid iteration data found!\")\n",
    "        return None\n",
    "    \n",
    "    # Create comprehensive plots\n",
    "    fig, axes = plt.subplots(2, 3, figsize=(20, 12))\n",
    "    fig.suptitle('TamGen RL Optimization Analysis', fontsize=16)\n",
    "    \n",
    "    iterations = sorted(list(iteration_data.keys()))\n",
    "    n_iterations = len(iterations)\n",
    "    \n",
    "    # 1. Reward Statistics Over Time\n",
    "    ax1 = axes[0, 0]\n",
    "    means = [iteration_data[i]['mean'] for i in iterations]\n",
    "    maxs = [iteration_data[i]['max'] for i in iterations]\n",
    "    medians = [iteration_data[i]['median'] for i in iterations]\n",
    "    stds = [iteration_data[i]['std'] for i in iterations]\n",
    "    \n",
    "    ax1.plot(iterations, means, 'o-', label='Mean', linewidth=2)\n",
    "    ax1.plot(iterations, maxs, 's-', label='Max', linewidth=2)\n",
    "    ax1.plot(iterations, medians, '^-', label='Median', linewidth=2)\n",
    "    ax1.fill_between(iterations, \n",
    "                     [m - s for m, s in zip(means, stds)],\n",
    "                     [m + s for m, s in zip(means, stds)],\n",
    "                     alpha=0.3, label='±1 Std')\n",
    "    ax1.set_xlabel('Iteration')\n",
    "    ax1.set_ylabel('Reward')\n",
    "    ax1.set_title('Reward Statistics Over Time')\n",
    "    ax1.legend()\n",
    "    ax1.grid(True, alpha=0.3)\n",
    "    \n",
    "    # 2. Diversity Analysis\n",
    "    ax2 = axes[0, 1]\n",
    "    total_counts = [len(iteration_data[i]['molecules']) for i in iterations]\n",
    "    unique_counts = [iteration_data[i]['unique_count'] for i in iterations]\n",
    "    diversity_ratios = [u/t for u, t in zip(unique_counts, total_counts)]\n",
    "    \n",
    "    ax2.bar(iterations, diversity_ratios, alpha=0.7, color='orange')\n",
    "    ax2.set_xlabel('Iteration')\n",
    "    ax2.set_ylabel('Diversity Ratio (Unique/Total)')\n",
    "    ax2.set_title('Molecular Diversity Over Time')\n",
    "    ax2.grid(True, alpha=0.3)\n",
    "    ax2.set_ylim(0, 1)\n",
    "    \n",
    "    # Add text annotations\n",
    "    for i, ratio in zip(iterations, diversity_ratios):\n",
    "        ax2.text(i, ratio + 0.02, f'{ratio:.2f}', ha='center', va='bottom')\n",
    "    \n",
    "    # 3. Reward Distribution Evolution (sample for high iteration counts)\n",
    "    ax3 = axes[0, 2]\n",
    "    # For many iterations, only show a subset to avoid cluttered plot\n",
    "    if n_iterations > 10:\n",
    "        step = max(1, n_iterations // 8)  # Show max 8 distributions\n",
    "        sample_iterations = iterations[::step]\n",
    "        colors = plt.cm.viridis(np.linspace(0, 1, len(sample_iterations)))\n",
    "        for iter_idx, color in zip(sample_iterations, colors):\n",
    "            rewards = iteration_data[iter_idx]['rewards']\n",
    "            ax3.hist(rewards, bins=min(20, len(rewards)//2), alpha=0.6, \n",
    "                    label=f'Iter {iter_idx}', color=color, density=True)\n",
    "        ax3.set_title(f'Reward Distribution Evolution (sampled)')\n",
    "    else:\n",
    "        colors = plt.cm.viridis(np.linspace(0, 1, len(iterations)))\n",
    "        for i, color in zip(iterations, colors):\n",
    "            rewards = iteration_data[i]['rewards']\n",
    "            ax3.hist(rewards, bins=min(20, len(rewards)//2), alpha=0.6, \n",
    "                    label=f'Iter {i}', color=color, density=True)\n",
    "        ax3.set_title('Reward Distribution Evolution')\n",
    "    \n",
    "    ax3.set_xlabel('Reward')\n",
    "    ax3.set_ylabel('Density')\n",
    "    ax3.legend(bbox_to_anchor=(1.05, 1), loc='upper left')\n",
    "    ax3.grid(True, alpha=0.3)\n",
    "    \n",
    "    # 4. Convergence Analysis\n",
    "    ax4 = axes[1, 0]\n",
    "    # Calculate running improvement\n",
    "    improvements = []\n",
    "    base_mean = means[0]\n",
    "    for mean in means:\n",
    "        improvements.append((mean - base_mean) / abs(base_mean) * 100)\n",
    "    \n",
    "    ax4.plot(iterations, improvements, 'o-', linewidth=2, color='green')\n",
    "    ax4.axhline(y=0, color='red', linestyle='--', alpha=0.7)\n",
    "    ax4.set_xlabel('Iteration')\n",
    "    ax4.set_ylabel('Improvement from Baseline (%)')\n",
    "    ax4.set_title('Optimization Progress')\n",
    "    ax4.grid(True, alpha=0.3)\n",
    "    \n",
    "    # Add trend line\n",
    "    if len(iterations) > 2:\n",
    "        try:\n",
    "            z = np.polyfit(iterations, improvements, 1)\n",
    "            p = np.poly1d(z)\n",
    "            ax4.plot(iterations, p(iterations), '--', alpha=0.7, color='red',\n",
    "                    label=f'Trend: {z[0]:.3f}%/iter')\n",
    "            ax4.legend()\n",
    "        except np.RankWarning:\n",
    "            pass  # Skip trend line if fitting fails\n",
    "    \n",
    "    # 5. Molecular Property Analysis (if we can parse SMILES)\n",
    "    ax5 = axes[1, 1]\n",
    "    try:\n",
    "        # Analyze molecular properties for last iteration\n",
    "        last_iter = max(iterations)\n",
    "        last_molecules = iteration_data[last_iter]['molecules']\n",
    "        last_rewards = iteration_data[last_iter]['rewards']\n",
    "        \n",
    "        # Calculate molecular properties\n",
    "        mw_values = []\n",
    "        logp_values = []\n",
    "        valid_rewards = []\n",
    "        \n",
    "        for mol_smiles, reward in zip(last_molecules, last_rewards):\n",
    "            mol = Chem.MolFromSmiles(mol_smiles)\n",
    "            if mol is not None:\n",
    "                mw = Descriptors.MolWt(mol)\n",
    "                logp = Descriptors.MolLogP(mol)\n",
    "                mw_values.append(mw)\n",
    "                logp_values.append(logp)\n",
    "                valid_rewards.append(reward)\n",
    "        \n",
    "        if mw_values:\n",
    "            scatter = ax5.scatter(mw_values, logp_values, c=valid_rewards, \n",
    "                                cmap='viridis', alpha=0.7, s=50)\n",
    "            ax5.set_xlabel('Molecular Weight')\n",
    "            ax5.set_ylabel('LogP')\n",
    "            ax5.set_title(f'Property Space (Iter {last_iter})')\n",
    "            plt.colorbar(scatter, ax=ax5, label='Reward')\n",
    "            ax5.grid(True, alpha=0.3)\n",
    "        else:\n",
    "            ax5.text(0.5, 0.5, 'No valid molecules\\nfor property analysis', \n",
    "                    ha='center', va='center', transform=ax5.transAxes)\n",
    "            ax5.set_title('Property Analysis Failed')\n",
    "    \n",
    "    except Exception as e:\n",
    "        ax5.text(0.5, 0.5, f'Property analysis failed:\\n{str(e)}', \n",
    "                ha='center', va='center', transform=ax5.transAxes)\n",
    "        ax5.set_title('Property Analysis Error')\n",
    "    \n",
    "    # 6. Molecule Overlap Analysis (optimize for many iterations)\n",
    "    ax6 = axes[1, 2]\n",
    "    if len(iterations) > 1:\n",
    "        # For many iterations, sample to keep matrix readable\n",
    "        if n_iterations > 15:\n",
    "            step = max(1, n_iterations // 10)  # Show max 10x10 matrix\n",
    "            sample_iters = iterations[::step]\n",
    "            overlap_matrix = np.zeros((len(sample_iters), len(sample_iters)))\n",
    "            for i, iter1 in enumerate(sample_iters):\n",
    "                for j, iter2 in enumerate(sample_iters):\n",
    "                    set1 = set(iteration_data[iter1]['molecules'])\n",
    "                    set2 = set(iteration_data[iter2]['molecules'])\n",
    "                    if len(set1.union(set2)) > 0:\n",
    "                        overlap = len(set1.intersection(set2)) / len(set1.union(set2))\n",
    "                    else:\n",
    "                        overlap = 0\n",
    "                    overlap_matrix[i, j] = overlap\n",
    "            \n",
    "            im = ax6.imshow(overlap_matrix, cmap='Blues', vmin=0, vmax=1)\n",
    "            ax6.set_xticks(range(len(sample_iters)))\n",
    "            ax6.set_yticks(range(len(sample_iters)))\n",
    "            ax6.set_xticklabels([f'{i}' for i in sample_iters], rotation=45)\n",
    "            ax6.set_yticklabels([f'{i}' for i in sample_iters])\n",
    "            ax6.set_title(f'Molecule Overlap (sampled)')\n",
    "        else:\n",
    "            overlap_matrix = np.zeros((len(iterations), len(iterations)))\n",
    "            for i, iter1 in enumerate(iterations):\n",
    "                for j, iter2 in enumerate(iterations):\n",
    "                    set1 = set(iteration_data[iter1]['molecules'])\n",
    "                    set2 = set(iteration_data[iter2]['molecules'])\n",
    "                    if len(set1.union(set2)) > 0:\n",
    "                        overlap = len(set1.intersection(set2)) / len(set1.union(set2))\n",
    "                    else:\n",
    "                        overlap = 0\n",
    "                    overlap_matrix[i, j] = overlap\n",
    "            \n",
    "            im = ax6.imshow(overlap_matrix, cmap='Blues', vmin=0, vmax=1)\n",
    "            ax6.set_xticks(range(len(iterations)))\n",
    "            ax6.set_yticks(range(len(iterations)))\n",
    "            ax6.set_xticklabels([f'{i}' for i in iterations])\n",
    "            ax6.set_yticklabels([f'{i}' for i in iterations])\n",
    "            ax6.set_title('Molecule Set Overlap (Jaccard)')\n",
    "            \n",
    "            # Add text annotations only for smaller matrices\n",
    "            if len(iterations) <= 10:\n",
    "                for i in range(len(iterations)):\n",
    "                    for j in range(len(iterations)):\n",
    "                        ax6.text(j, i, f'{overlap_matrix[i, j]:.2f}',\n",
    "                                ha='center', va='center', \n",
    "                                color='white' if overlap_matrix[i, j] > 0.5 else 'black')\n",
    "        \n",
    "        plt.colorbar(im, ax=ax6, shrink=0.8)\n",
    "    else:\n",
    "        ax6.text(0.5, 0.5, 'Need multiple iterations\\nfor overlap analysis', \n",
    "                ha='center', va='center', transform=ax6.transAxes)\n",
    "        ax6.set_title('Molecule Overlap Analysis')\n",
    "    \n",
    "    plt.tight_layout()\n",
    "    \n",
    "    # Save plot with error handling\n",
    "    try:\n",
    "        plt.savefig('latent_logs/reward_analysis.png', dpi=300, bbox_inches='tight')\n",
    "        print(\"📊 Analysis plot saved to 'latent_logs/reward_analysis.png'\")\n",
    "    except Exception as e:\n",
    "        print(f\"⚠️ Could not save plot: {e}\")\n",
    "    \n",
    "    plt.show()\n",
    "    \n",
    "    # Print detailed analysis\n",
    "    print(\"\\n📈 DETAILED ANALYSIS\")\n",
    "    print(\"=\" * 60)\n",
    "    \n",
    "    # Convergence assessment with robust statistics\n",
    "    if len(iterations) >= 3:\n",
    "        recent_window = min(5, len(iterations))  # Use last 5 iterations or all if fewer\n",
    "        recent_means = means[-recent_window:]\n",
    "        mean_change = np.std(recent_means)\n",
    "        if mean_change < 0.01:\n",
    "            print(\"🔄 CONVERGENCE: Mean rewards have stabilized (std < 0.01)\")\n",
    "        else:\n",
    "            print(f\"📈 TRENDING: Mean rewards still changing (std = {mean_change:.3f})\")\n",
    "        \n",
    "        # Check for improvement\n",
    "        total_improvement = (means[-1] - means[0]) / abs(means[0]) * 100\n",
    "        print(f\"📊 OVERALL IMPROVEMENT: {total_improvement:+.1f}% from baseline\")\n",
    "        \n",
    "        # Best molecules\n",
    "        try:\n",
    "            best_iter = max(iterations, key=lambda x: iteration_data[x]['max'])\n",
    "            best_reward = iteration_data[best_iter]['max']\n",
    "            best_idx = np.argmax(iteration_data[best_iter]['rewards'])\n",
    "            best_molecule = iteration_data[best_iter]['molecules'][best_idx]\n",
    "            \n",
    "            print(f\"🏆 BEST MOLECULE: {best_molecule}\")\n",
    "            print(f\"   Reward: {best_reward:.3f} (Iteration {best_iter})\")\n",
    "        except Exception as e:\n",
    "            print(f\"⚠️ Could not identify best molecule: {e}\")\n",
    "        \n",
    "        # Diversity trend\n",
    "        try:\n",
    "            diversity_trend = np.polyfit(iterations, diversity_ratios, 1)[0]\n",
    "            if diversity_trend < -0.01:\n",
    "                print(f\"⚠️ DIVERSITY DECLINING: {diversity_trend:.3f}/iteration\")\n",
    "            elif diversity_trend > 0.01:\n",
    "                print(f\"✅ DIVERSITY IMPROVING: {diversity_trend:.3f}/iteration\")\n",
    "            else:\n",
    "                print(f\"➡️ DIVERSITY STABLE: {diversity_trend:.3f}/iteration\")\n",
    "        except Exception:\n",
    "            print(\"⚠️ Could not calculate diversity trend\")\n",
    "    \n",
    "    # Recommendations with robust checks\n",
    "    print(\"\\n💡 RECOMMENDATIONS\")\n",
    "    print(\"=\" * 30)\n",
    "    \n",
    "    latest_diversity = diversity_ratios[-1] if diversity_ratios else 0\n",
    "    if latest_diversity < 0.1:\n",
    "        print(\"🔧 INCREASE EXPLORATION: Very low diversity detected\")\n",
    "        print(\"   - Increase noise_sigma (try 0.1-0.2)\")\n",
    "        print(\"   - Reduce shift_alpha (try 0.2-0.3)\")\n",
    "        print(\"   - Add diversity penalty to reward function\")\n",
    "    \n",
    "    if len(iterations) >= 3:\n",
    "        try:\n",
    "            recent_improvement = (means[-1] - means[-3]) / abs(means[-3]) * 100\n",
    "            if abs(recent_improvement) < 1:\n",
    "                print(\"🔄 CONSIDER STOPPING: Minimal recent improvement\")\n",
    "                print(\"   - Try different hyperparameters\")\n",
    "                print(\"   - Or accept current results\")\n",
    "            elif recent_improvement > 0:\n",
    "                print(\"✅ CONTINUE OPTIMIZATION: Still improving\")\n",
    "            else:\n",
    "                print(\"📉 OPTIMIZATION ISSUES: Performance declining\")\n",
    "        except Exception:\n",
    "            print(\"⚠️ Could not assess recent improvement\")\n",
    "    \n",
    "    # Additional insights for long runs\n",
    "    if len(iterations) >= 10:\n",
    "        print(f\"\\n🔍 LONG RUN INSIGHTS:\")\n",
    "        print(f\"   - Total iterations analyzed: {len(iterations)}\")\n",
    "        print(f\"   - Total unique molecules discovered: {len(all_molecules)}\")\n",
    "        \n",
    "        # Check for plateaus\n",
    "        if len(means) >= 10:\n",
    "            last_10_improvement = (means[-1] - means[-10]) / abs(means[-10]) * 100\n",
    "            print(f\"   - Improvement over last 10 iterations: {last_10_improvement:+.1f}%\")\n",
    "            \n",
    "        # Memory usage estimate\n",
    "        total_molecules = sum(len(iteration_data[i]['molecules']) for i in iterations)\n",
    "        print(f\"   - Total molecules evaluated: {total_molecules}\")\n",
    "    \n",
    "    print(f\"\\n📋 SUMMARY STATISTICS\")\n",
    "    print(f\"   Best reward found: {max(maxs):.3f}\")\n",
    "    print(f\"   Final mean reward: {means[-1]:.3f}\")\n",
    "    print(f\"   Current diversity: {latest_diversity:.1%}\")\n",
    "    print(f\"   Iterations completed: {len(iterations)}\")\n",
    "    \n",
    "    return iteration_data\n",
    "\n",
    "if __name__ == \"__main__\":\n",
    "    result = analyze_reward_convergence()\n",
    "    if result is not None:\n",
    "        print(\"✅ Analysis completed successfully!\")\n",
    "    else:\n",
    "        print(\"❌ Analysis failed - check your data files!\")"
   ]
  },
  {
   "cell_type": "code",
   "execution_count": null,
   "metadata": {},
   "outputs": [],
   "source": [
    "import optuna\n",
    "import torch\n",
    "import logging\n",
    "from check import summarize  # your validation module\n",
    "\n",
    "# Setup logging\n",
    "logging.basicConfig(\n",
    "    filename=\"optuna_trials_v2.log\",\n",
    "    level=logging.INFO,\n",
    "    format=\"%(asctime)s [Trial %(levelname)s] %(message)s\",\n",
    "    filemode='w'  # overwrite each time\n",
    ")\n",
    "\n",
    "def make_objective(worker, pdb_id):\n",
    "    def objective(trial):\n",
    "        # Suggested hyperparameters\n",
    "        lambda_logp = trial.suggest_float(\"lambda_logp\", 0.05, 0.5)\n",
    "        lambda_mw   = trial.suggest_float(\"lambda_mw\", 0.05, 0.5)\n",
    "        alpha       = trial.suggest_float(\"alpha\", 0.1, 0.6)\n",
    "        top_k       = trial.suggest_categorical(\"top_k\", [10, 20, 50, 100])\n",
    "        docking_weight = trial.suggest_float(\"docking_weight\", 1.0, 4.0)\n",
    "        diversity_weight = trial.suggest_float(\"diversity_weight\", 0.1, 1.0)\n",
    "\n",
    "        # Fixed params\n",
    "        lambda_sas = 1.5\n",
    "        latent_dim = 256\n",
    "        maxseed    = 20\n",
    "        m_sample   = 1000\n",
    "        num_iter   = 10\n",
    "\n",
    "        try:\n",
    "            # Load data for current PDB\n",
    "            worker.reload_data(subset=\"gen_\" + pdb_id.lower())\n",
    "\n",
    "            # Run sampling optimization\n",
    "            final_smiles = worker.sample(\n",
    "                m_sample=m_sample,\n",
    "                num_iter=num_iter,\n",
    "                latent_dim=latent_dim,\n",
    "                alpha=alpha,\n",
    "                top_k=top_k,\n",
    "                lambda_sas=lambda_sas,\n",
    "                lambda_logp=lambda_logp,\n",
    "                lambda_mw=lambda_mw,\n",
    "                maxseed=maxseed,\n",
    "                use_cuda=torch.cuda.is_available(),\n",
    "                docking_weight=docking_weight,\n",
    "                diversity_weight=diversity_weight\n",
    "            )\n",
    "\n",
    "            # Evaluate results\n",
    "            result = summarize(final_smiles)\n",
    "            mean_qed = result[\"mean_qed\"]\n",
    "            mean_logp = result[\"mean_logp\"]\n",
    "            diversity = result[\"diversity_mean\"]\n",
    "            validity_pct = result[\"validity_pct\"]\n",
    "\n",
    "            # Log this trial\n",
    "            logging.info(\n",
    "                f\"Trial {trial.number}: QED={mean_qed:.4f}, LogP={mean_logp:.2f}, Diversity={diversity:.4f}, \"\n",
    "                f\"Validity={validity_pct:.1f}%, alpha={alpha}, top_k={top_k}, lambda_logp={lambda_logp}, \"\n",
    "           ``     f\"lambda_mw={lambda_mw}, docking_weight={docking_weight}, diversity_weight={diversity_weight}\"\n",
    "            )\n",
    "\n",
    "            # Return QED as optimization target (can change this)\n",
    "            return mean_qed\n",
    "\n",
    "        except Exception as e:\n",
    "            logging.error(f\"Trial {trial.number} failed: {str(e)}\")\n",
    "            return 0.0  # Return worst-case score on error\n",
    "    return objective\n"
   ]
  },
  {
   "cell_type": "code",
   "execution_count": 6,
   "metadata": {},
   "outputs": [
    {
     "name": "stderr",
     "output_type": "stream",
     "text": [
      "[I 2025-06-07 19:08:25,713] A new study created in memory with name: no-name-eeeeb227-5e63-46af-b52b-216073a66688\n",
      "2025-06-07 19:08:25,723 [INFO] 🚀 Starting TamGenRL feedback loop optimization\n",
      "2025-06-07 19:08:25,724 [INFO]    Target: 1000 molecules × 10 iterations\n",
      "2025-06-07 19:08:25,725 [INFO]    Device: cuda:0, Batch size: 4\n",
      "2025-06-07 19:08:25,727 [INFO] \n",
      "🔄 Iteration 1/10 (α=0.256)\n",
      "2025-06-07 19:08:25,728 [INFO] 🌱 Generating initial molecules with TamGen...\n"
     ]
    },
    {
     "name": "stdout",
     "output_type": "stream",
     "text": [
      "| loaded 1 examples from: ./TamGen_Demo_Data/gen_1hvh.tg-m1.tg\n",
      "| loaded 1 examples from: ./TamGen_Demo_Data/gen_1hvh.tg-m1.m1\n",
      "| ./TamGen_Demo_Data gen_1hvh tg-m1 1 examples\n",
      "| loaded 1 examples from: ./TamGen_Demo_Data/gen_1hvh.tg-m1.tg.coord\n"
     ]
    },
    {
     "name": "stderr",
     "output_type": "stream",
     "text": [
      "Initial generation:   0%|          | 0/1000 [00:00<?, ?it/s]2025-06-07 19:08:25,839 [INFO] 📦 Stored protein input: torch.Size([1, 83])\n",
      "Initial generation:   2%|▏         | 20/1000 [00:28<23:07,  1.42s/it]\n",
      "2025-06-07 19:08:54,046 [INFO]    ✓ Generated 20 initial molecules\n",
      "2025-06-07 19:08:54,047 [INFO]    ✓ Diversity: 5/20 (25.00%)\n",
      "2025-06-07 19:08:54,048 [WARNING] Low diversity detected (25.00% < 70.00%)\n",
      "2025-06-07 19:08:54,049 [INFO] 📊 Optimizing latent space...\n"
     ]
    },
    {
     "name": "stdout",
     "output_type": "stream",
     "text": [
      "🧠 Starting centroid shift optimization for 20 samples\n",
      "   Using top-20 samples for optimization\n",
      "[INFO] LatentRewardModel initialized on device: cuda\n",
      "📊 Computing molecular rewards...\n",
      "   ✓ Computed rewards for 20/20 valid molecules\n",
      "🎯 Training reward model...\n",
      "[INFO] Training complete. Final train loss: 0.8683\n",
      "   ✓ Training complete: 50 epochs, final loss: 0.8683\n",
      "🧭 Computing optimal shift direction...\n"
     ]
    },
    {
     "name": "stderr",
     "output_type": "stream",
     "text": [
      "2025-06-07 19:08:56,125 [INFO]    ✓ Saved results for iteration 1\n",
      "2025-06-07 19:08:56,126 [INFO]    ✓ Generated 20 molecules\n",
      "2025-06-07 19:08:56,127 [INFO]    ✓ Diversity: 5/20 (25.00%)\n",
      "2025-06-07 19:08:56,129 [INFO]    ✓ Reward: μ=2.057, σ=0.570, max=2.769\n",
      "2025-06-07 19:08:56,130 [INFO]    ✓ Time: 30.4s\n",
      "2025-06-07 19:08:56,131 [INFO] \n",
      "🔄 Iteration 2/10 (α=0.236)\n",
      "2025-06-07 19:08:56,133 [INFO] 🔄 Generating from 20 latent vectors...\n"
     ]
    },
    {
     "name": "stdout",
     "output_type": "stream",
     "text": [
      "   ✓ gradient-based optimization complete, direction norm: 5.8349\n",
      "🔄 Applying latent space shifts...\n",
      "📈 Optimization summary:\n",
      "   • Reward distribution: μ=2.057, σ=0.570\n",
      "   • Valid molecules: 20/20\n",
      "   • Shift magnitude: 5.8349\n",
      "   • Applied noise: σ=0.1000\n",
      "   ⚠️  Low diversity detected: 5/20 unique SMILES\n",
      "      Consider increasing noise_sigma or reducing shift_alpha\n",
      "[INFO] Cleared stored latent vectors and rewards.\n",
      "✅ Centroid shift optimization complete: 20 shifted vectors\n"
     ]
    },
    {
     "name": "stderr",
     "output_type": "stream",
     "text": [
      "2025-06-07 19:09:02,418 [INFO]    ✓ Generated 20/20 valid SMILES\n",
      "2025-06-07 19:09:02,421 [INFO] 📊 Optimizing latent space...\n"
     ]
    },
    {
     "name": "stdout",
     "output_type": "stream",
     "text": [
      "🧠 Starting centroid shift optimization for 20 samples\n",
      "   Using top-20 samples for optimization\n",
      "[INFO] LatentRewardModel initialized on device: cuda\n",
      "📊 Computing molecular rewards...\n",
      "   ✓ Computed rewards for 20/20 valid molecules\n",
      "🎯 Training reward model...\n",
      "[INFO] Training complete. Final train loss: 0.0063\n",
      "   ✓ Training complete: 60 epochs, final loss: 0.0063\n",
      "🧭 Computing optimal shift direction...\n"
     ]
    },
    {
     "name": "stderr",
     "output_type": "stream",
     "text": [
      "2025-06-07 19:09:03,626 [INFO]    ✓ Saved results for iteration 2\n",
      "2025-06-07 19:09:03,627 [INFO]    ✓ Generated 20 molecules\n",
      "2025-06-07 19:09:03,628 [INFO]    ✓ Diversity: 10/20 (50.00%)\n",
      "2025-06-07 19:09:03,630 [INFO]    ✓ Reward: μ=2.295, σ=0.962, max=3.484\n",
      "2025-06-07 19:09:03,631 [INFO]    ✓ Time: 7.5s\n",
      "2025-06-07 19:09:03,632 [INFO] \n",
      "🔄 Iteration 3/10 (α=0.216)\n",
      "2025-06-07 19:09:03,634 [INFO] 🔄 Generating from 20 latent vectors...\n"
     ]
    },
    {
     "name": "stdout",
     "output_type": "stream",
     "text": [
      "   ✓ gradient-based optimization complete, direction norm: 5.8295\n",
      "🔄 Applying latent space shifts...\n",
      "📈 Optimization summary:\n",
      "   • Reward distribution: μ=2.295, σ=0.962\n",
      "   • Valid molecules: 20/20\n",
      "   • Shift magnitude: 5.8295\n",
      "   • Applied noise: σ=0.0950\n",
      "   ✓ Good diversity: 10/20 unique SMILES\n",
      "[INFO] Cleared stored latent vectors and rewards.\n",
      "✅ Centroid shift optimization complete: 20 shifted vectors\n"
     ]
    },
    {
     "name": "stderr",
     "output_type": "stream",
     "text": [
      "2025-06-07 19:09:10,073 [INFO]    ✓ Generated 20/20 valid SMILES\n",
      "2025-06-07 19:09:10,074 [INFO] 📊 Optimizing latent space...\n"
     ]
    },
    {
     "name": "stdout",
     "output_type": "stream",
     "text": [
      "🧠 Starting centroid shift optimization for 20 samples\n",
      "   Using top-20 samples for optimization\n",
      "[INFO] LatentRewardModel initialized on device: cuda\n",
      "📊 Computing molecular rewards...\n",
      "   ✓ Computed rewards for 20/20 valid molecules\n",
      "🎯 Training reward model...\n",
      "[INFO] Training complete. Final train loss: 0.0312\n",
      "   ✓ Training complete: 70 epochs, final loss: 0.0312\n",
      "🧭 Computing optimal shift direction...\n"
     ]
    },
    {
     "name": "stderr",
     "output_type": "stream",
     "text": [
      "2025-06-07 19:09:11,716 [INFO]    ✓ Saved results for iteration 3\n",
      "2025-06-07 19:09:11,717 [INFO]    ✓ Generated 20 molecules\n",
      "2025-06-07 19:09:11,719 [INFO]    ✓ Diversity: 12/20 (60.00%)\n",
      "2025-06-07 19:09:11,720 [INFO]    ✓ Reward: μ=2.608, σ=0.696, max=3.484\n",
      "2025-06-07 19:09:11,722 [INFO]    ✓ Time: 8.1s\n",
      "2025-06-07 19:09:11,723 [INFO] \n",
      "🔄 Iteration 4/10 (α=0.196)\n",
      "2025-06-07 19:09:11,724 [INFO] 🔄 Generating from 20 latent vectors...\n"
     ]
    },
    {
     "name": "stdout",
     "output_type": "stream",
     "text": [
      "   ✓ gradient-based optimization complete, direction norm: 5.4801\n",
      "🔄 Applying latent space shifts...\n",
      "📈 Optimization summary:\n",
      "   • Reward distribution: μ=2.608, σ=0.696\n",
      "   • Valid molecules: 20/20\n",
      "   • Shift magnitude: 5.4801\n",
      "   • Applied noise: σ=0.0900\n",
      "   ✓ Good diversity: 12/20 unique SMILES\n",
      "[INFO] Cleared stored latent vectors and rewards.\n",
      "✅ Centroid shift optimization complete: 20 shifted vectors\n"
     ]
    },
    {
     "name": "stderr",
     "output_type": "stream",
     "text": [
      "2025-06-07 19:09:18,163 [INFO]    ✓ Generated 20/20 valid SMILES\n",
      "2025-06-07 19:09:18,166 [INFO] 📊 Optimizing latent space...\n"
     ]
    },
    {
     "name": "stdout",
     "output_type": "stream",
     "text": [
      "🧠 Starting centroid shift optimization for 20 samples\n",
      "   Using top-20 samples for optimization\n",
      "[INFO] LatentRewardModel initialized on device: cuda\n",
      "📊 Computing molecular rewards...\n",
      "   ✓ Computed rewards for 20/20 valid molecules\n",
      "🎯 Training reward model...\n",
      "[INFO] Training complete. Final train loss: 0.0082\n",
      "   ✓ Training complete: 80 epochs, final loss: 0.0082\n",
      "🧭 Computing optimal shift direction...\n"
     ]
    },
    {
     "name": "stderr",
     "output_type": "stream",
     "text": [
      "2025-06-07 19:09:19,648 [INFO]    ✓ Saved results for iteration 4\n",
      "2025-06-07 19:09:19,649 [INFO]    ✓ Generated 20 molecules\n",
      "2025-06-07 19:09:19,650 [INFO]    ✓ Diversity: 10/20 (50.00%)\n",
      "2025-06-07 19:09:19,653 [INFO]    ✓ Reward: μ=2.879, σ=0.572, max=3.334\n",
      "2025-06-07 19:09:19,654 [INFO]    ✓ Time: 7.9s\n",
      "2025-06-07 19:09:19,655 [INFO] \n",
      "🔄 Iteration 5/10 (α=0.176)\n",
      "2025-06-07 19:09:19,657 [INFO] 🔄 Generating from 20 latent vectors...\n"
     ]
    },
    {
     "name": "stdout",
     "output_type": "stream",
     "text": [
      "   ✓ gradient-based optimization complete, direction norm: 5.1915\n",
      "🔄 Applying latent space shifts...\n",
      "📈 Optimization summary:\n",
      "   • Reward distribution: μ=2.879, σ=0.572\n",
      "   • Valid molecules: 20/20\n",
      "   • Shift magnitude: 5.1915\n",
      "   • Applied noise: σ=0.0850\n",
      "   ✓ Good diversity: 10/20 unique SMILES\n",
      "[INFO] Cleared stored latent vectors and rewards.\n",
      "✅ Centroid shift optimization complete: 20 shifted vectors\n"
     ]
    },
    {
     "name": "stderr",
     "output_type": "stream",
     "text": [
      "2025-06-07 19:09:26,067 [INFO]    ✓ Generated 20/20 valid SMILES\n",
      "2025-06-07 19:09:26,068 [INFO] 📊 Optimizing latent space...\n"
     ]
    },
    {
     "name": "stdout",
     "output_type": "stream",
     "text": [
      "🧠 Starting centroid shift optimization for 20 samples\n",
      "   Using top-20 samples for optimization\n",
      "[INFO] LatentRewardModel initialized on device: cuda\n",
      "📊 Computing molecular rewards...\n",
      "   ✓ Computed rewards for 20/20 valid molecules\n",
      "🎯 Training reward model...\n",
      "[INFO] Training complete. Final train loss: 0.0364\n",
      "   ✓ Training complete: 90 epochs, final loss: 0.0364\n",
      "🧭 Computing optimal shift direction...\n"
     ]
    },
    {
     "name": "stderr",
     "output_type": "stream",
     "text": [
      "2025-06-07 19:09:27,641 [INFO]    ✓ Saved results for iteration 5\n",
      "2025-06-07 19:09:27,643 [INFO]    ✓ Generated 20 molecules\n",
      "2025-06-07 19:09:27,644 [INFO]    ✓ Diversity: 12/20 (60.00%)\n",
      "2025-06-07 19:09:27,645 [INFO]    ✓ Reward: μ=2.630, σ=0.708, max=3.428\n",
      "2025-06-07 19:09:27,648 [INFO]    ✓ Time: 8.0s\n",
      "2025-06-07 19:09:27,649 [INFO] \n",
      "🔄 Iteration 6/10 (α=0.156)\n",
      "2025-06-07 19:09:27,650 [INFO] 🔄 Generating from 20 latent vectors...\n"
     ]
    },
    {
     "name": "stdout",
     "output_type": "stream",
     "text": [
      "   ✓ gradient-based optimization complete, direction norm: 5.2585\n",
      "🔄 Applying latent space shifts...\n",
      "📈 Optimization summary:\n",
      "   • Reward distribution: μ=2.630, σ=0.708\n",
      "   • Valid molecules: 20/20\n",
      "   • Shift magnitude: 5.2585\n",
      "   • Applied noise: σ=0.0800\n",
      "   ✓ Good diversity: 12/20 unique SMILES\n",
      "[INFO] Cleared stored latent vectors and rewards.\n",
      "✅ Centroid shift optimization complete: 20 shifted vectors\n"
     ]
    },
    {
     "name": "stderr",
     "output_type": "stream",
     "text": [
      "2025-06-07 19:09:33,766 [INFO]    ✓ Generated 20/20 valid SMILES\n",
      "2025-06-07 19:09:33,769 [INFO] 📊 Optimizing latent space...\n"
     ]
    },
    {
     "name": "stdout",
     "output_type": "stream",
     "text": [
      "🧠 Starting centroid shift optimization for 20 samples\n",
      "   Using top-20 samples for optimization\n",
      "[INFO] LatentRewardModel initialized on device: cuda\n",
      "📊 Computing molecular rewards...\n",
      "   ✓ Computed rewards for 20/20 valid molecules\n",
      "🎯 Training reward model...\n",
      "[INFO] Training complete. Final train loss: 0.0140\n",
      "   ✓ Training complete: 100 epochs, final loss: 0.0140\n",
      "🧭 Computing optimal shift direction...\n"
     ]
    },
    {
     "name": "stderr",
     "output_type": "stream",
     "text": [
      "2025-06-07 19:09:35,540 [INFO]    ✓ Saved results for iteration 6\n",
      "2025-06-07 19:09:35,541 [INFO]    ✓ Generated 20 molecules\n",
      "2025-06-07 19:09:35,543 [INFO]    ✓ Diversity: 13/20 (65.00%)\n",
      "2025-06-07 19:09:35,545 [INFO]    ✓ Reward: μ=2.853, σ=0.482, max=3.442\n",
      "2025-06-07 19:09:35,546 [INFO]    ✓ Time: 7.9s\n",
      "2025-06-07 19:09:35,547 [INFO] \n",
      "🔄 Iteration 7/10 (α=0.137)\n",
      "2025-06-07 19:09:35,548 [INFO] 🔄 Generating from 20 latent vectors...\n"
     ]
    },
    {
     "name": "stdout",
     "output_type": "stream",
     "text": [
      "   ✓ gradient-based optimization complete, direction norm: 4.9434\n",
      "🔄 Applying latent space shifts...\n",
      "📈 Optimization summary:\n",
      "   • Reward distribution: μ=2.853, σ=0.482\n",
      "   • Valid molecules: 20/20\n",
      "   • Shift magnitude: 4.9434\n",
      "   • Applied noise: σ=0.0750\n",
      "   ✓ Good diversity: 13/20 unique SMILES\n",
      "[INFO] Cleared stored latent vectors and rewards.\n",
      "✅ Centroid shift optimization complete: 20 shifted vectors\n"
     ]
    },
    {
     "name": "stderr",
     "output_type": "stream",
     "text": [
      "2025-06-07 19:09:41,874 [INFO]    ✓ Generated 20/20 valid SMILES\n",
      "2025-06-07 19:09:41,875 [INFO] 📊 Optimizing latent space...\n"
     ]
    },
    {
     "name": "stdout",
     "output_type": "stream",
     "text": [
      "🧠 Starting centroid shift optimization for 20 samples\n",
      "   Using top-20 samples for optimization\n",
      "[INFO] LatentRewardModel initialized on device: cuda\n",
      "📊 Computing molecular rewards...\n",
      "   ✓ Computed rewards for 20/20 valid molecules\n",
      "🎯 Training reward model...\n",
      "[INFO] Training complete. Final train loss: 0.0260\n",
      "   ✓ Training complete: 100 epochs, final loss: 0.0260\n",
      "🧭 Computing optimal shift direction...\n"
     ]
    },
    {
     "name": "stderr",
     "output_type": "stream",
     "text": [
      "2025-06-07 19:09:43,468 [INFO]    ✓ Saved results for iteration 7\n",
      "2025-06-07 19:09:43,469 [INFO]    ✓ Generated 20 molecules\n",
      "2025-06-07 19:09:43,470 [INFO]    ✓ Diversity: 11/20 (55.00%)\n",
      "2025-06-07 19:09:43,473 [INFO]    ✓ Reward: μ=2.997, σ=0.401, max=3.334\n",
      "2025-06-07 19:09:43,474 [INFO]    ✓ Time: 7.9s\n",
      "2025-06-07 19:09:43,475 [INFO] \n",
      "🔄 Iteration 8/10 (α=0.117)\n",
      "2025-06-07 19:09:43,476 [INFO] 🔄 Generating from 20 latent vectors...\n"
     ]
    },
    {
     "name": "stdout",
     "output_type": "stream",
     "text": [
      "   ✓ gradient-based optimization complete, direction norm: 4.5148\n",
      "🔄 Applying latent space shifts...\n",
      "📈 Optimization summary:\n",
      "   • Reward distribution: μ=2.997, σ=0.401\n",
      "   • Valid molecules: 20/20\n",
      "   • Shift magnitude: 4.5148\n",
      "   • Applied noise: σ=0.0700\n",
      "   ✓ Good diversity: 11/20 unique SMILES\n",
      "[INFO] Cleared stored latent vectors and rewards.\n",
      "✅ Centroid shift optimization complete: 20 shifted vectors\n"
     ]
    },
    {
     "name": "stderr",
     "output_type": "stream",
     "text": [
      "2025-06-07 19:09:49,618 [INFO]    ✓ Generated 20/20 valid SMILES\n",
      "2025-06-07 19:09:49,619 [INFO] 📊 Optimizing latent space...\n"
     ]
    },
    {
     "name": "stdout",
     "output_type": "stream",
     "text": [
      "🧠 Starting centroid shift optimization for 20 samples\n",
      "   Using top-20 samples for optimization\n",
      "[INFO] LatentRewardModel initialized on device: cuda\n",
      "📊 Computing molecular rewards...\n",
      "   ✓ Computed rewards for 20/20 valid molecules\n",
      "🎯 Training reward model...\n",
      "[INFO] Training complete. Final train loss: 0.0151\n",
      "   ✓ Training complete: 100 epochs, final loss: 0.0151\n",
      "🧭 Computing optimal shift direction...\n"
     ]
    },
    {
     "name": "stderr",
     "output_type": "stream",
     "text": [
      "2025-06-07 19:09:51,256 [INFO]    ✓ Saved results for iteration 8\n",
      "2025-06-07 19:09:51,257 [INFO]    ✓ Generated 20 molecules\n",
      "2025-06-07 19:09:51,258 [INFO]    ✓ Diversity: 9/20 (45.00%)\n",
      "2025-06-07 19:09:51,260 [INFO]    ✓ Reward: μ=2.869, σ=0.557, max=3.334\n",
      "2025-06-07 19:09:51,262 [INFO]    ✓ Time: 7.8s\n",
      "2025-06-07 19:09:51,263 [INFO] \n",
      "🔄 Iteration 9/10 (α=0.097)\n",
      "2025-06-07 19:09:51,264 [INFO] 🔄 Generating from 20 latent vectors...\n"
     ]
    },
    {
     "name": "stdout",
     "output_type": "stream",
     "text": [
      "   ✓ gradient-based optimization complete, direction norm: 4.8729\n",
      "🔄 Applying latent space shifts...\n",
      "📈 Optimization summary:\n",
      "   • Reward distribution: μ=2.869, σ=0.557\n",
      "   • Valid molecules: 20/20\n",
      "   • Shift magnitude: 4.8729\n",
      "   • Applied noise: σ=0.0650\n",
      "   ✓ Good diversity: 9/20 unique SMILES\n",
      "[INFO] Cleared stored latent vectors and rewards.\n",
      "✅ Centroid shift optimization complete: 20 shifted vectors\n"
     ]
    },
    {
     "name": "stderr",
     "output_type": "stream",
     "text": [
      "2025-06-07 19:09:57,248 [INFO]    ✓ Generated 20/20 valid SMILES\n",
      "2025-06-07 19:09:57,250 [INFO] 📊 Optimizing latent space...\n"
     ]
    },
    {
     "name": "stdout",
     "output_type": "stream",
     "text": [
      "🧠 Starting centroid shift optimization for 20 samples\n",
      "   Using top-20 samples for optimization\n",
      "[INFO] LatentRewardModel initialized on device: cuda\n",
      "📊 Computing molecular rewards...\n",
      "   ✓ Computed rewards for 20/20 valid molecules\n",
      "🎯 Training reward model...\n",
      "[INFO] Training complete. Final train loss: 0.0172\n",
      "   ✓ Training complete: 100 epochs, final loss: 0.0172\n",
      "🧭 Computing optimal shift direction...\n"
     ]
    },
    {
     "name": "stderr",
     "output_type": "stream",
     "text": [
      "2025-06-07 19:09:58,915 [INFO]    ✓ Saved results for iteration 9\n",
      "2025-06-07 19:09:58,916 [INFO]    ✓ Generated 20 molecules\n",
      "2025-06-07 19:09:58,918 [INFO]    ✓ Diversity: 8/20 (40.00%)\n",
      "2025-06-07 19:09:58,919 [INFO]    ✓ Reward: μ=3.057, σ=0.410, max=3.334\n",
      "2025-06-07 19:09:58,921 [INFO]    ✓ Time: 7.7s\n",
      "2025-06-07 19:09:58,922 [INFO] \n",
      "🔄 Iteration 10/10 (α=0.077)\n",
      "2025-06-07 19:09:58,924 [INFO] 🔄 Generating from 20 latent vectors...\n"
     ]
    },
    {
     "name": "stdout",
     "output_type": "stream",
     "text": [
      "   ✓ gradient-based optimization complete, direction norm: 4.4350\n",
      "🔄 Applying latent space shifts...\n",
      "📈 Optimization summary:\n",
      "   • Reward distribution: μ=3.057, σ=0.410\n",
      "   • Valid molecules: 20/20\n",
      "   • Shift magnitude: 4.4350\n",
      "   • Applied noise: σ=0.0600\n",
      "   ✓ Good diversity: 8/20 unique SMILES\n",
      "[INFO] Cleared stored latent vectors and rewards.\n",
      "✅ Centroid shift optimization complete: 20 shifted vectors\n"
     ]
    },
    {
     "name": "stderr",
     "output_type": "stream",
     "text": [
      "2025-06-07 19:10:05,044 [INFO]    ✓ Generated 20/20 valid SMILES\n",
      "2025-06-07 19:10:05,045 [INFO] 📊 Optimizing latent space...\n"
     ]
    },
    {
     "name": "stdout",
     "output_type": "stream",
     "text": [
      "🧠 Starting centroid shift optimization for 20 samples\n",
      "   Using top-20 samples for optimization\n",
      "[INFO] LatentRewardModel initialized on device: cuda\n",
      "📊 Computing molecular rewards...\n",
      "   ✓ Computed rewards for 20/20 valid molecules\n",
      "🎯 Training reward model...\n",
      "[INFO] Training complete. Final train loss: 0.0074\n",
      "   ✓ Training complete: 100 epochs, final loss: 0.0074\n",
      "🧭 Computing optimal shift direction...\n"
     ]
    },
    {
     "name": "stderr",
     "output_type": "stream",
     "text": [
      "2025-06-07 19:10:06,717 [INFO]    ✓ Saved results for iteration 10\n",
      "2025-06-07 19:10:06,719 [INFO]    ✓ Generated 20 molecules\n",
      "2025-06-07 19:10:06,720 [INFO]    ✓ Diversity: 7/20 (35.00%)\n",
      "2025-06-07 19:10:06,722 [INFO]    ✓ Reward: μ=3.134, σ=0.383, max=3.408\n",
      "2025-06-07 19:10:06,724 [INFO]    ✓ Time: 7.8s\n",
      "2025-06-07 19:10:06,725 [INFO] \n",
      "📈 Final Optimization Summary:\n",
      "2025-06-07 19:10:06,726 [INFO]    Iteration | Molecules | Unique | Mean Reward | Max Reward | Time\n",
      "2025-06-07 19:10:06,728 [INFO]    ---------|-----------|--------|-------------|------------|-----\n",
      "2025-06-07 19:10:06,729 [INFO]           1 |        20 |      5 |       2.057 |      2.769 | 30.4s\n",
      "2025-06-07 19:10:06,731 [INFO]           2 |        20 |     10 |       2.295 |      3.484 |  7.5s\n",
      "2025-06-07 19:10:06,732 [INFO]           3 |        20 |     12 |       2.608 |      3.484 |  8.1s\n",
      "2025-06-07 19:10:06,733 [INFO]           4 |        20 |     10 |       2.879 |      3.334 |  7.9s\n",
      "2025-06-07 19:10:06,736 [INFO]           5 |        20 |     12 |       2.630 |      3.428 |  8.0s\n",
      "2025-06-07 19:10:06,737 [INFO]           6 |        20 |     13 |       2.853 |      3.442 |  7.9s\n",
      "2025-06-07 19:10:06,738 [INFO]           7 |        20 |     11 |       2.997 |      3.334 |  7.9s\n",
      "2025-06-07 19:10:06,739 [INFO]           8 |        20 |      9 |       2.869 |      3.334 |  7.8s\n",
      "2025-06-07 19:10:06,741 [INFO]           9 |        20 |      8 |       3.057 |      3.334 |  7.6s\n",
      "2025-06-07 19:10:06,742 [INFO]          10 |        20 |      7 |       3.134 |      3.408 |  7.8s\n",
      "2025-06-07 19:10:06,744 [INFO] \n",
      "   💡 Reward improvement: +1.077\n",
      "2025-06-07 19:10:06,745 [INFO]    🎯 Final diversity: 35.00%\n",
      "2025-06-07 19:10:06,746 [INFO]    ⏱️  Total time: 100.9s\n",
      "2025-06-07 19:10:06,748 [INFO] 🎉 TamGenRL optimization complete!\n",
      "2025-06-07 19:10:06,849 [Trial INFO] Trial 0: QED=0.7327, LogP=3.65, Diversity=0.4988, Validity=100.0%, alpha=0.25596302889981604, top_k=20, lambda_logp=0.241, lambda_mw=0.493, docking_weight=3.20, diversity_weight=0.95\n",
      "2025-06-07 19:10:06,849 [INFO] Trial 0: QED=0.7327, LogP=3.65, Diversity=0.4988, Validity=100.0%, alpha=0.25596302889981604, top_k=20, lambda_logp=0.241, lambda_mw=0.493, docking_weight=3.20, diversity_weight=0.95\n",
      "[I 2025-06-07 19:10:06,854] Trial 0 finished with value: 0.7326953878608523 and parameters: {'lambda_logp': 0.24128811768496544, 'lambda_mw': 0.4930235173084447, 'alpha': 0.25596302889981604, 'top_k': 20, 'docking_weight': 3.2018552627623365, 'diversity_weight': 0.9495379983055539}. Best is trial 0 with value: 0.7326953878608523.\n",
      "2025-06-07 19:10:06,860 [INFO] 🚀 Starting TamGenRL feedback loop optimization\n",
      "2025-06-07 19:10:06,861 [INFO]    Target: 1000 molecules × 10 iterations\n",
      "2025-06-07 19:10:06,862 [INFO]    Device: cuda:0, Batch size: 4\n",
      "2025-06-07 19:10:06,863 [INFO] \n",
      "🔄 Iteration 1/10 (α=0.539)\n",
      "2025-06-07 19:10:06,864 [INFO] 🌱 Generating initial molecules with TamGen...\n"
     ]
    },
    {
     "name": "stdout",
     "output_type": "stream",
     "text": [
      "   ✓ gradient-based optimization complete, direction norm: 3.7386\n",
      "🔄 Applying latent space shifts...\n",
      "📈 Optimization summary:\n",
      "   • Reward distribution: μ=3.134, σ=0.383\n",
      "   • Valid molecules: 20/20\n",
      "   • Shift magnitude: 3.7386\n",
      "   • Applied noise: σ=0.0550\n",
      "   ✓ Good diversity: 7/20 unique SMILES\n",
      "[INFO] Cleared stored latent vectors and rewards.\n",
      "✅ Centroid shift optimization complete: 20 shifted vectors\n",
      "| loaded 1 examples from: ./TamGen_Demo_Data/gen_1hvh.tg-m1.tg\n",
      "| loaded 1 examples from: ./TamGen_Demo_Data/gen_1hvh.tg-m1.m1\n",
      "| ./TamGen_Demo_Data gen_1hvh tg-m1 1 examples\n",
      "| loaded 1 examples from: ./TamGen_Demo_Data/gen_1hvh.tg-m1.tg.coord\n"
     ]
    },
    {
     "name": "stderr",
     "output_type": "stream",
     "text": [
      "Initial generation:   2%|▏         | 20/1000 [00:27<22:18,  1.37s/it]\n",
      "2025-06-07 19:10:34,178 [INFO]    ✓ Generated 20 initial molecules\n",
      "2025-06-07 19:10:34,179 [INFO]    ✓ Diversity: 5/20 (25.00%)\n",
      "2025-06-07 19:10:34,180 [WARNING] Low diversity detected (25.00% < 70.00%)\n",
      "2025-06-07 19:10:34,182 [INFO] 📊 Optimizing latent space...\n"
     ]
    },
    {
     "name": "stdout",
     "output_type": "stream",
     "text": [
      "🧠 Starting centroid shift optimization for 20 samples\n",
      "   Using top-20 samples for optimization\n",
      "[INFO] LatentRewardModel initialized on device: cuda\n",
      "📊 Computing molecular rewards...\n",
      "   ✓ Computed rewards for 20/20 valid molecules\n",
      "🎯 Training reward model...\n",
      "[INFO] Training complete. Final train loss: 1.1872\n",
      "   ✓ Training complete: 50 epochs, final loss: 1.1872\n",
      "🧭 Computing optimal shift direction...\n"
     ]
    },
    {
     "name": "stderr",
     "output_type": "stream",
     "text": [
      "2025-06-07 19:10:35,533 [INFO]    ✓ Saved results for iteration 1\n",
      "2025-06-07 19:10:35,534 [INFO]    ✓ Generated 20 molecules\n",
      "2025-06-07 19:10:35,536 [INFO]    ✓ Diversity: 5/20 (25.00%)\n",
      "2025-06-07 19:10:35,537 [INFO]    ✓ Reward: μ=2.057, σ=0.570, max=2.769\n",
      "2025-06-07 19:10:35,538 [INFO]    ✓ Time: 28.7s\n",
      "2025-06-07 19:10:35,539 [INFO] \n",
      "🔄 Iteration 2/10 (α=0.497)\n",
      "2025-06-07 19:10:35,541 [INFO] 🔄 Generating from 20 latent vectors...\n"
     ]
    },
    {
     "name": "stdout",
     "output_type": "stream",
     "text": [
      "   ✓ gradient-based optimization complete, direction norm: 5.0533\n",
      "🔄 Applying latent space shifts...\n",
      "📈 Optimization summary:\n",
      "   • Reward distribution: μ=2.057, σ=0.570\n",
      "   • Valid molecules: 20/20\n",
      "   • Shift magnitude: 5.0533\n",
      "   • Applied noise: σ=0.1000\n",
      "   ⚠️  Low diversity detected: 5/20 unique SMILES\n",
      "      Consider increasing noise_sigma or reducing shift_alpha\n",
      "[INFO] Cleared stored latent vectors and rewards.\n",
      "✅ Centroid shift optimization complete: 20 shifted vectors\n"
     ]
    },
    {
     "name": "stderr",
     "output_type": "stream",
     "text": [
      "2025-06-07 19:10:42,392 [INFO]    ✓ Generated 20/20 valid SMILES\n",
      "2025-06-07 19:10:42,393 [INFO] 📊 Optimizing latent space...\n"
     ]
    },
    {
     "name": "stdout",
     "output_type": "stream",
     "text": [
      "🧠 Starting centroid shift optimization for 20 samples\n",
      "   Using top-20 samples for optimization\n",
      "[INFO] LatentRewardModel initialized on device: cuda\n",
      "📊 Computing molecular rewards...\n",
      "   ✓ Computed rewards for 20/20 valid molecules\n",
      "🎯 Training reward model...\n",
      "[INFO] Training complete. Final train loss: 0.0212\n",
      "   ✓ Training complete: 60 epochs, final loss: 0.0212\n",
      "🧭 Computing optimal shift direction...\n"
     ]
    },
    {
     "name": "stderr",
     "output_type": "stream",
     "text": [
      "2025-06-07 19:10:43,979 [INFO]    ✓ Saved results for iteration 2\n",
      "2025-06-07 19:10:43,981 [INFO]    ✓ Generated 20 molecules\n",
      "2025-06-07 19:10:43,982 [INFO]    ✓ Diversity: 6/20 (30.00%)\n",
      "2025-06-07 19:10:43,983 [INFO]    ✓ Reward: μ=1.669, σ=0.734, max=2.769\n",
      "2025-06-07 19:10:43,984 [INFO]    ✓ Time: 8.4s\n",
      "2025-06-07 19:10:43,986 [INFO] \n",
      "🔄 Iteration 3/10 (α=0.455)\n",
      "2025-06-07 19:10:43,987 [INFO] 🔄 Generating from 20 latent vectors...\n"
     ]
    },
    {
     "name": "stdout",
     "output_type": "stream",
     "text": [
      "   ✓ gradient-based optimization complete, direction norm: 5.4211\n",
      "🔄 Applying latent space shifts...\n",
      "📈 Optimization summary:\n",
      "   • Reward distribution: μ=1.669, σ=0.734\n",
      "   • Valid molecules: 20/20\n",
      "   • Shift magnitude: 5.4211\n",
      "   • Applied noise: σ=0.0950\n",
      "   ✓ Good diversity: 6/20 unique SMILES\n",
      "[INFO] Cleared stored latent vectors and rewards.\n",
      "✅ Centroid shift optimization complete: 20 shifted vectors\n"
     ]
    },
    {
     "name": "stderr",
     "output_type": "stream",
     "text": [
      "2025-06-07 19:10:50,791 [INFO]    ✓ Generated 20/20 valid SMILES\n",
      "2025-06-07 19:10:50,792 [INFO] 📊 Optimizing latent space...\n"
     ]
    },
    {
     "name": "stdout",
     "output_type": "stream",
     "text": [
      "🧠 Starting centroid shift optimization for 20 samples\n",
      "   Using top-20 samples for optimization\n",
      "[INFO] LatentRewardModel initialized on device: cuda\n",
      "📊 Computing molecular rewards...\n",
      "   ✓ Computed rewards for 20/20 valid molecules\n",
      "🎯 Training reward model...\n",
      "[INFO] Training complete. Final train loss: 0.0094\n",
      "   ✓ Training complete: 70 epochs, final loss: 0.0094\n",
      "🧭 Computing optimal shift direction...\n"
     ]
    },
    {
     "name": "stderr",
     "output_type": "stream",
     "text": [
      "2025-06-07 19:10:52,834 [INFO]    ✓ Saved results for iteration 3\n",
      "2025-06-07 19:10:52,836 [INFO]    ✓ Generated 20 molecules\n",
      "2025-06-07 19:10:52,837 [INFO]    ✓ Diversity: 5/20 (25.00%)\n",
      "2025-06-07 19:10:52,839 [INFO]    ✓ Reward: μ=1.826, σ=0.483, max=2.769\n",
      "2025-06-07 19:10:52,840 [INFO]    ✓ Time: 8.9s\n",
      "2025-06-07 19:10:52,842 [INFO] \n",
      "🔄 Iteration 4/10 (α=0.413)\n",
      "2025-06-07 19:10:52,843 [INFO] 🔄 Generating from 20 latent vectors...\n"
     ]
    },
    {
     "name": "stdout",
     "output_type": "stream",
     "text": [
      "   ✓ gradient-based optimization complete, direction norm: 4.8956\n",
      "🔄 Applying latent space shifts...\n",
      "📈 Optimization summary:\n",
      "   • Reward distribution: μ=1.826, σ=0.483\n",
      "   • Valid molecules: 20/20\n",
      "   • Shift magnitude: 4.8956\n",
      "   • Applied noise: σ=0.0900\n",
      "   ⚠️  Low diversity detected: 5/20 unique SMILES\n",
      "      Consider increasing noise_sigma or reducing shift_alpha\n",
      "[INFO] Cleared stored latent vectors and rewards.\n",
      "✅ Centroid shift optimization complete: 20 shifted vectors\n"
     ]
    },
    {
     "name": "stderr",
     "output_type": "stream",
     "text": [
      "2025-06-07 19:10:59,445 [INFO]    ✓ Generated 20/20 valid SMILES\n",
      "2025-06-07 19:10:59,448 [INFO] 📊 Optimizing latent space...\n"
     ]
    },
    {
     "name": "stdout",
     "output_type": "stream",
     "text": [
      "🧠 Starting centroid shift optimization for 20 samples\n",
      "   Using top-20 samples for optimization\n",
      "[INFO] LatentRewardModel initialized on device: cuda\n",
      "📊 Computing molecular rewards...\n",
      "   ✓ Computed rewards for 20/20 valid molecules\n",
      "🎯 Training reward model...\n",
      "[INFO] Training complete. Final train loss: 0.0449\n",
      "   ✓ Training complete: 80 epochs, final loss: 0.0449\n",
      "🧭 Computing optimal shift direction...\n"
     ]
    },
    {
     "name": "stderr",
     "output_type": "stream",
     "text": [
      "2025-06-07 19:11:01,511 [INFO]    ✓ Saved results for iteration 4\n",
      "2025-06-07 19:11:01,512 [INFO]    ✓ Generated 20 molecules\n",
      "2025-06-07 19:11:01,513 [INFO]    ✓ Diversity: 5/20 (25.00%)\n",
      "2025-06-07 19:11:01,515 [INFO]    ✓ Reward: μ=1.804, σ=0.588, max=2.769\n",
      "2025-06-07 19:11:01,517 [INFO]    ✓ Time: 8.7s\n",
      "2025-06-07 19:11:01,518 [INFO] \n",
      "🔄 Iteration 5/10 (α=0.371)\n",
      "2025-06-07 19:11:01,520 [INFO] 🔄 Generating from 20 latent vectors...\n"
     ]
    },
    {
     "name": "stdout",
     "output_type": "stream",
     "text": [
      "   ✓ gradient-based optimization complete, direction norm: 5.7379\n",
      "🔄 Applying latent space shifts...\n",
      "📈 Optimization summary:\n",
      "   • Reward distribution: μ=1.804, σ=0.588\n",
      "   • Valid molecules: 20/20\n",
      "   • Shift magnitude: 5.7379\n",
      "   • Applied noise: σ=0.0850\n",
      "   ⚠️  Low diversity detected: 5/20 unique SMILES\n",
      "      Consider increasing noise_sigma or reducing shift_alpha\n",
      "[INFO] Cleared stored latent vectors and rewards.\n",
      "✅ Centroid shift optimization complete: 20 shifted vectors\n"
     ]
    },
    {
     "name": "stderr",
     "output_type": "stream",
     "text": [
      "2025-06-07 19:11:08,189 [INFO]    ✓ Generated 20/20 valid SMILES\n",
      "2025-06-07 19:11:08,190 [INFO] 📊 Optimizing latent space...\n"
     ]
    },
    {
     "name": "stdout",
     "output_type": "stream",
     "text": [
      "🧠 Starting centroid shift optimization for 20 samples\n",
      "   Using top-20 samples for optimization\n",
      "[INFO] LatentRewardModel initialized on device: cuda\n",
      "📊 Computing molecular rewards...\n",
      "   ✓ Computed rewards for 20/20 valid molecules\n",
      "🎯 Training reward model...\n",
      "[INFO] Training complete. Final train loss: 0.0329\n",
      "   ✓ Training complete: 90 epochs, final loss: 0.0329\n",
      "🧭 Computing optimal shift direction...\n"
     ]
    },
    {
     "name": "stderr",
     "output_type": "stream",
     "text": [
      "2025-06-07 19:11:10,263 [INFO]    ✓ Saved results for iteration 5\n",
      "2025-06-07 19:11:10,264 [INFO]    ✓ Generated 20 molecules\n",
      "2025-06-07 19:11:10,265 [INFO]    ✓ Diversity: 5/20 (25.00%)\n",
      "2025-06-07 19:11:10,267 [INFO]    ✓ Reward: μ=1.926, σ=0.657, max=2.769\n",
      "2025-06-07 19:11:10,268 [INFO]    ✓ Time: 8.8s\n",
      "2025-06-07 19:11:10,270 [INFO] \n",
      "🔄 Iteration 6/10 (α=0.329)\n",
      "2025-06-07 19:11:10,271 [INFO] 🔄 Generating from 20 latent vectors...\n"
     ]
    },
    {
     "name": "stdout",
     "output_type": "stream",
     "text": [
      "   ✓ gradient-based optimization complete, direction norm: 5.1993\n",
      "🔄 Applying latent space shifts...\n",
      "📈 Optimization summary:\n",
      "   • Reward distribution: μ=1.926, σ=0.657\n",
      "   • Valid molecules: 20/20\n",
      "   • Shift magnitude: 5.1993\n",
      "   • Applied noise: σ=0.0800\n",
      "   ⚠️  Low diversity detected: 5/20 unique SMILES\n",
      "      Consider increasing noise_sigma or reducing shift_alpha\n",
      "[INFO] Cleared stored latent vectors and rewards.\n",
      "✅ Centroid shift optimization complete: 20 shifted vectors\n"
     ]
    },
    {
     "name": "stderr",
     "output_type": "stream",
     "text": [
      "2025-06-07 19:11:16,829 [INFO]    ✓ Generated 20/20 valid SMILES\n",
      "2025-06-07 19:11:16,830 [INFO] 📊 Optimizing latent space...\n"
     ]
    },
    {
     "name": "stdout",
     "output_type": "stream",
     "text": [
      "🧠 Starting centroid shift optimization for 20 samples\n",
      "   Using top-20 samples for optimization\n",
      "[INFO] LatentRewardModel initialized on device: cuda\n",
      "📊 Computing molecular rewards...\n",
      "   ✓ Computed rewards for 20/20 valid molecules\n",
      "🎯 Training reward model...\n",
      "[INFO] Training complete. Final train loss: 0.0185\n",
      "   ✓ Training complete: 100 epochs, final loss: 0.0185\n",
      "🧭 Computing optimal shift direction...\n"
     ]
    },
    {
     "name": "stderr",
     "output_type": "stream",
     "text": [
      "2025-06-07 19:11:18,714 [INFO]    ✓ Saved results for iteration 6\n",
      "2025-06-07 19:11:18,716 [INFO]    ✓ Generated 20 molecules\n",
      "2025-06-07 19:11:18,717 [INFO]    ✓ Diversity: 8/20 (40.00%)\n",
      "2025-06-07 19:11:18,718 [INFO]    ✓ Reward: μ=2.181, σ=0.705, max=3.316\n",
      "2025-06-07 19:11:18,720 [INFO]    ✓ Time: 8.5s\n",
      "2025-06-07 19:11:18,722 [INFO] \n",
      "🔄 Iteration 7/10 (α=0.287)\n",
      "2025-06-07 19:11:18,723 [INFO] 🔄 Generating from 20 latent vectors...\n"
     ]
    },
    {
     "name": "stdout",
     "output_type": "stream",
     "text": [
      "   ✓ gradient-based optimization complete, direction norm: 4.5193\n",
      "🔄 Applying latent space shifts...\n",
      "📈 Optimization summary:\n",
      "   • Reward distribution: μ=2.181, σ=0.705\n",
      "   • Valid molecules: 20/20\n",
      "   • Shift magnitude: 4.5193\n",
      "   • Applied noise: σ=0.0750\n",
      "   ✓ Good diversity: 8/20 unique SMILES\n",
      "[INFO] Cleared stored latent vectors and rewards.\n",
      "✅ Centroid shift optimization complete: 20 shifted vectors\n"
     ]
    },
    {
     "name": "stderr",
     "output_type": "stream",
     "text": [
      "2025-06-07 19:11:25,260 [INFO]    ✓ Generated 20/20 valid SMILES\n",
      "2025-06-07 19:11:25,261 [INFO] 📊 Optimizing latent space...\n"
     ]
    },
    {
     "name": "stdout",
     "output_type": "stream",
     "text": [
      "🧠 Starting centroid shift optimization for 20 samples\n",
      "   Using top-20 samples for optimization\n",
      "[INFO] LatentRewardModel initialized on device: cuda\n",
      "📊 Computing molecular rewards...\n",
      "   ✓ Computed rewards for 20/20 valid molecules\n",
      "🎯 Training reward model...\n",
      "[INFO] Training complete. Final train loss: 0.0751\n",
      "   ✓ Training complete: 100 epochs, final loss: 0.0751\n",
      "🧭 Computing optimal shift direction...\n"
     ]
    },
    {
     "name": "stderr",
     "output_type": "stream",
     "text": [
      "2025-06-07 19:11:27,041 [INFO]    ✓ Saved results for iteration 7\n",
      "2025-06-07 19:11:27,043 [INFO]    ✓ Generated 20 molecules\n",
      "2025-06-07 19:11:27,044 [INFO]    ✓ Diversity: 8/20 (40.00%)\n",
      "2025-06-07 19:11:27,046 [INFO]    ✓ Reward: μ=2.219, σ=0.655, max=2.979\n",
      "2025-06-07 19:11:27,047 [INFO]    ✓ Time: 8.3s\n",
      "2025-06-07 19:11:27,048 [INFO] \n",
      "🔄 Iteration 8/10 (α=0.245)\n",
      "2025-06-07 19:11:27,050 [INFO] 🔄 Generating from 20 latent vectors...\n"
     ]
    },
    {
     "name": "stdout",
     "output_type": "stream",
     "text": [
      "   ✓ gradient-based optimization complete, direction norm: 4.6376\n",
      "🔄 Applying latent space shifts...\n",
      "📈 Optimization summary:\n",
      "   • Reward distribution: μ=2.219, σ=0.655\n",
      "   • Valid molecules: 20/20\n",
      "   • Shift magnitude: 4.6376\n",
      "   • Applied noise: σ=0.0700\n",
      "   ✓ Good diversity: 8/20 unique SMILES\n",
      "[INFO] Cleared stored latent vectors and rewards.\n",
      "✅ Centroid shift optimization complete: 20 shifted vectors\n"
     ]
    },
    {
     "name": "stderr",
     "output_type": "stream",
     "text": [
      "2025-06-07 19:11:33,450 [INFO]    ✓ Generated 20/20 valid SMILES\n",
      "2025-06-07 19:11:33,452 [INFO] 📊 Optimizing latent space...\n"
     ]
    },
    {
     "name": "stdout",
     "output_type": "stream",
     "text": [
      "🧠 Starting centroid shift optimization for 20 samples\n",
      "   Using top-20 samples for optimization\n",
      "[INFO] LatentRewardModel initialized on device: cuda\n",
      "📊 Computing molecular rewards...\n",
      "   ✓ Computed rewards for 20/20 valid molecules\n",
      "🎯 Training reward model...\n",
      "[INFO] Training complete. Final train loss: 0.0150\n",
      "   ✓ Training complete: 100 epochs, final loss: 0.0150\n",
      "🧭 Computing optimal shift direction...\n"
     ]
    },
    {
     "name": "stderr",
     "output_type": "stream",
     "text": [
      "2025-06-07 19:11:34,923 [INFO]    ✓ Saved results for iteration 8\n",
      "2025-06-07 19:11:34,924 [INFO]    ✓ Generated 20 molecules\n",
      "2025-06-07 19:11:34,925 [INFO]    ✓ Diversity: 7/20 (35.00%)\n",
      "2025-06-07 19:11:34,927 [INFO]    ✓ Reward: μ=2.559, σ=0.583, max=3.316\n",
      "2025-06-07 19:11:34,928 [INFO]    ✓ Time: 7.9s\n",
      "2025-06-07 19:11:34,929 [INFO] \n",
      "🔄 Iteration 9/10 (α=0.204)\n",
      "2025-06-07 19:11:34,931 [INFO] 🔄 Generating from 20 latent vectors...\n"
     ]
    },
    {
     "name": "stdout",
     "output_type": "stream",
     "text": [
      "   ✓ gradient-based optimization complete, direction norm: 4.6378\n",
      "🔄 Applying latent space shifts...\n",
      "📈 Optimization summary:\n",
      "   • Reward distribution: μ=2.559, σ=0.583\n",
      "   • Valid molecules: 20/20\n",
      "   • Shift magnitude: 4.6378\n",
      "   • Applied noise: σ=0.0650\n",
      "   ✓ Good diversity: 7/20 unique SMILES\n",
      "[INFO] Cleared stored latent vectors and rewards.\n",
      "✅ Centroid shift optimization complete: 20 shifted vectors\n"
     ]
    },
    {
     "name": "stderr",
     "output_type": "stream",
     "text": [
      "2025-06-07 19:11:41,224 [INFO]    ✓ Generated 20/20 valid SMILES\n",
      "2025-06-07 19:11:41,225 [INFO] 📊 Optimizing latent space...\n"
     ]
    },
    {
     "name": "stdout",
     "output_type": "stream",
     "text": [
      "🧠 Starting centroid shift optimization for 20 samples\n",
      "   Using top-20 samples for optimization\n",
      "[INFO] LatentRewardModel initialized on device: cuda\n",
      "📊 Computing molecular rewards...\n",
      "   ✓ Computed rewards for 20/20 valid molecules\n",
      "🎯 Training reward model...\n",
      "[INFO] Training complete. Final train loss: 0.0170\n",
      "   ✓ Training complete: 100 epochs, final loss: 0.0170\n",
      "🧭 Computing optimal shift direction...\n"
     ]
    },
    {
     "name": "stderr",
     "output_type": "stream",
     "text": [
      "2025-06-07 19:11:42,733 [INFO]    ✓ Saved results for iteration 9\n",
      "2025-06-07 19:11:42,734 [INFO]    ✓ Generated 20 molecules\n",
      "2025-06-07 19:11:42,735 [INFO]    ✓ Diversity: 7/20 (35.00%)\n",
      "2025-06-07 19:11:42,736 [INFO]    ✓ Reward: μ=2.661, σ=0.425, max=3.316\n",
      "2025-06-07 19:11:42,737 [INFO]    ✓ Time: 7.8s\n",
      "2025-06-07 19:11:42,738 [INFO] \n",
      "🔄 Iteration 10/10 (α=0.162)\n",
      "2025-06-07 19:11:42,738 [INFO] 🔄 Generating from 20 latent vectors...\n"
     ]
    },
    {
     "name": "stdout",
     "output_type": "stream",
     "text": [
      "   ✓ gradient-based optimization complete, direction norm: 5.0881\n",
      "🔄 Applying latent space shifts...\n",
      "📈 Optimization summary:\n",
      "   • Reward distribution: μ=2.661, σ=0.425\n",
      "   • Valid molecules: 20/20\n",
      "   • Shift magnitude: 5.0881\n",
      "   • Applied noise: σ=0.0600\n",
      "   ✓ Good diversity: 7/20 unique SMILES\n",
      "[INFO] Cleared stored latent vectors and rewards.\n",
      "✅ Centroid shift optimization complete: 20 shifted vectors\n"
     ]
    },
    {
     "name": "stderr",
     "output_type": "stream",
     "text": [
      "2025-06-07 19:11:49,210 [INFO]    ✓ Generated 20/20 valid SMILES\n",
      "2025-06-07 19:11:49,211 [INFO] 📊 Optimizing latent space...\n"
     ]
    },
    {
     "name": "stdout",
     "output_type": "stream",
     "text": [
      "🧠 Starting centroid shift optimization for 20 samples\n",
      "   Using top-20 samples for optimization\n",
      "[INFO] LatentRewardModel initialized on device: cuda\n",
      "📊 Computing molecular rewards...\n",
      "   ✓ Computed rewards for 20/20 valid molecules\n",
      "🎯 Training reward model...\n",
      "[INFO] Training complete. Final train loss: 0.0121\n",
      "   ✓ Training complete: 100 epochs, final loss: 0.0121\n",
      "🧭 Computing optimal shift direction...\n"
     ]
    },
    {
     "name": "stderr",
     "output_type": "stream",
     "text": [
      "2025-06-07 19:11:50,533 [INFO]    ✓ Saved results for iteration 10\n",
      "2025-06-07 19:11:50,534 [INFO]    ✓ Generated 20 molecules\n",
      "2025-06-07 19:11:50,535 [INFO]    ✓ Diversity: 8/20 (40.00%)\n",
      "2025-06-07 19:11:50,537 [INFO]    ✓ Reward: μ=2.652, σ=0.647, max=3.376\n",
      "2025-06-07 19:11:50,538 [INFO]    ✓ Time: 7.8s\n",
      "2025-06-07 19:11:50,539 [INFO] \n",
      "📈 Final Optimization Summary:\n",
      "2025-06-07 19:11:50,541 [INFO]    Iteration | Molecules | Unique | Mean Reward | Max Reward | Time\n",
      "2025-06-07 19:11:50,542 [INFO]    ---------|-----------|--------|-------------|------------|-----\n",
      "2025-06-07 19:11:50,544 [INFO]           1 |        20 |      5 |       2.057 |      2.769 | 28.7s\n",
      "2025-06-07 19:11:50,545 [INFO]           2 |        20 |      6 |       1.669 |      2.769 |  8.4s\n",
      "2025-06-07 19:11:50,547 [INFO]           3 |        20 |      5 |       1.826 |      2.769 |  8.8s\n",
      "2025-06-07 19:11:50,548 [INFO]           4 |        20 |      5 |       1.804 |      2.769 |  8.7s\n",
      "2025-06-07 19:11:50,549 [INFO]           5 |        20 |      5 |       1.926 |      2.769 |  8.7s\n",
      "2025-06-07 19:11:50,551 [INFO]           6 |        20 |      8 |       2.181 |      3.316 |  8.4s\n",
      "2025-06-07 19:11:50,552 [INFO]           7 |        20 |      8 |       2.219 |      2.979 |  8.3s\n",
      "2025-06-07 19:11:50,553 [INFO]           8 |        20 |      7 |       2.559 |      3.316 |  7.9s\n",
      "2025-06-07 19:11:50,555 [INFO]           9 |        20 |      7 |       2.661 |      3.316 |  7.8s\n",
      "2025-06-07 19:11:50,556 [INFO]          10 |        20 |      8 |       2.652 |      3.376 |  7.8s\n",
      "2025-06-07 19:11:50,557 [INFO] \n",
      "   💡 Reward improvement: +0.596\n",
      "2025-06-07 19:11:50,558 [INFO]    🎯 Final diversity: 40.00%\n",
      "2025-06-07 19:11:50,559 [INFO]    ⏱️  Total time: 103.6s\n",
      "2025-06-07 19:11:50,561 [INFO] 🎉 TamGenRL optimization complete!\n",
      "2025-06-07 19:11:50,666 [Trial INFO] Trial 1: QED=0.6268, LogP=2.28, Diversity=0.3498, Validity=100.0%, alpha=0.538783909989479, top_k=20, lambda_logp=0.105, lambda_mw=0.120, docking_weight=3.51, diversity_weight=0.74\n",
      "2025-06-07 19:11:50,666 [INFO] Trial 1: QED=0.6268, LogP=2.28, Diversity=0.3498, Validity=100.0%, alpha=0.538783909989479, top_k=20, lambda_logp=0.105, lambda_mw=0.120, docking_weight=3.51, diversity_weight=0.74\n",
      "[I 2025-06-07 19:11:50,670] Trial 1 finished with value: 0.6267719135479244 and parameters: {'lambda_logp': 0.10482750169200336, 'lambda_mw': 0.1200940772870949, 'alpha': 0.538783909989479, 'top_k': 20, 'docking_weight': 3.5075101775052726, 'diversity_weight': 0.7415385852773966}. Best is trial 0 with value: 0.7326953878608523.\n",
      "2025-06-07 19:11:50,676 [INFO] 🚀 Starting TamGenRL feedback loop optimization\n",
      "2025-06-07 19:11:50,677 [INFO]    Target: 1000 molecules × 10 iterations\n",
      "2025-06-07 19:11:50,678 [INFO]    Device: cuda:0, Batch size: 4\n",
      "2025-06-07 19:11:50,679 [INFO] \n",
      "🔄 Iteration 1/10 (α=0.195)\n",
      "2025-06-07 19:11:50,680 [INFO] 🌱 Generating initial molecules with TamGen...\n"
     ]
    },
    {
     "name": "stdout",
     "output_type": "stream",
     "text": [
      "   ✓ gradient-based optimization complete, direction norm: 4.5285\n",
      "🔄 Applying latent space shifts...\n",
      "📈 Optimization summary:\n",
      "   • Reward distribution: μ=2.652, σ=0.647\n",
      "   • Valid molecules: 20/20\n",
      "   • Shift magnitude: 4.5285\n",
      "   • Applied noise: σ=0.0550\n",
      "   ✓ Good diversity: 8/20 unique SMILES\n",
      "[INFO] Cleared stored latent vectors and rewards.\n",
      "✅ Centroid shift optimization complete: 20 shifted vectors\n",
      "| loaded 1 examples from: ./TamGen_Demo_Data/gen_1hvh.tg-m1.tg\n",
      "| loaded 1 examples from: ./TamGen_Demo_Data/gen_1hvh.tg-m1.m1\n",
      "| ./TamGen_Demo_Data gen_1hvh tg-m1 1 examples\n",
      "| loaded 1 examples from: ./TamGen_Demo_Data/gen_1hvh.tg-m1.tg.coord\n"
     ]
    },
    {
     "name": "stderr",
     "output_type": "stream",
     "text": [
      "Initial generation:   2%|▏         | 20/1000 [00:26<21:50,  1.34s/it]\n",
      "2025-06-07 19:12:17,437 [INFO]    ✓ Generated 20 initial molecules\n",
      "2025-06-07 19:12:17,438 [INFO]    ✓ Diversity: 5/20 (25.00%)\n",
      "2025-06-07 19:12:17,439 [WARNING] Low diversity detected (25.00% < 70.00%)\n",
      "2025-06-07 19:12:17,441 [INFO] 📊 Optimizing latent space...\n"
     ]
    },
    {
     "name": "stdout",
     "output_type": "stream",
     "text": [
      "🧠 Starting centroid shift optimization for 20 samples\n",
      "   Using top-20 samples for optimization\n",
      "[INFO] LatentRewardModel initialized on device: cuda\n",
      "📊 Computing molecular rewards...\n",
      "   ✓ Computed rewards for 20/20 valid molecules\n",
      "🎯 Training reward model...\n",
      "[INFO] Training complete. Final train loss: 1.1848\n",
      "   ✓ Training complete: 50 epochs, final loss: 1.1848\n",
      "🧭 Computing optimal shift direction...\n"
     ]
    },
    {
     "name": "stderr",
     "output_type": "stream",
     "text": [
      "2025-06-07 19:12:18,705 [INFO]    ✓ Saved results for iteration 1\n",
      "2025-06-07 19:12:18,706 [INFO]    ✓ Generated 20 molecules\n",
      "2025-06-07 19:12:18,707 [INFO]    ✓ Diversity: 5/20 (25.00%)\n",
      "2025-06-07 19:12:18,709 [INFO]    ✓ Reward: μ=2.057, σ=0.570, max=2.769\n",
      "2025-06-07 19:12:18,710 [INFO]    ✓ Time: 28.0s\n",
      "2025-06-07 19:12:18,711 [INFO] \n",
      "🔄 Iteration 2/10 (α=0.180)\n",
      "2025-06-07 19:12:18,712 [INFO] 🔄 Generating from 20 latent vectors...\n"
     ]
    },
    {
     "name": "stdout",
     "output_type": "stream",
     "text": [
      "   ✓ gradient-based optimization complete, direction norm: 6.2701\n",
      "🔄 Applying latent space shifts...\n",
      "📈 Optimization summary:\n",
      "   • Reward distribution: μ=2.057, σ=0.570\n",
      "   • Valid molecules: 20/20\n",
      "   • Shift magnitude: 6.2701\n",
      "   • Applied noise: σ=0.1000\n",
      "   ⚠️  Low diversity detected: 5/20 unique SMILES\n",
      "      Consider increasing noise_sigma or reducing shift_alpha\n",
      "[INFO] Cleared stored latent vectors and rewards.\n",
      "✅ Centroid shift optimization complete: 20 shifted vectors\n"
     ]
    },
    {
     "name": "stderr",
     "output_type": "stream",
     "text": [
      "2025-06-07 19:12:25,063 [INFO]    ✓ Generated 20/20 valid SMILES\n",
      "2025-06-07 19:12:25,064 [INFO] 📊 Optimizing latent space...\n"
     ]
    },
    {
     "name": "stdout",
     "output_type": "stream",
     "text": [
      "🧠 Starting centroid shift optimization for 20 samples\n",
      "   Using top-20 samples for optimization\n",
      "[INFO] LatentRewardModel initialized on device: cuda\n",
      "📊 Computing molecular rewards...\n",
      "   ✓ Computed rewards for 20/20 valid molecules\n",
      "🎯 Training reward model...\n",
      "[INFO] Training complete. Final train loss: 0.0209\n",
      "   ✓ Training complete: 60 epochs, final loss: 0.0209\n",
      "🧭 Computing optimal shift direction...\n"
     ]
    },
    {
     "name": "stderr",
     "output_type": "stream",
     "text": [
      "2025-06-07 19:12:26,162 [INFO]    ✓ Saved results for iteration 2\n",
      "2025-06-07 19:12:26,163 [INFO]    ✓ Generated 20 molecules\n",
      "2025-06-07 19:12:26,164 [INFO]    ✓ Diversity: 11/20 (55.00%)\n",
      "2025-06-07 19:12:26,166 [INFO]    ✓ Reward: μ=1.784, σ=0.801, max=3.428\n",
      "2025-06-07 19:12:26,167 [INFO]    ✓ Time: 7.5s\n",
      "2025-06-07 19:12:26,168 [INFO] \n",
      "🔄 Iteration 3/10 (α=0.165)\n",
      "2025-06-07 19:12:26,170 [INFO] 🔄 Generating from 20 latent vectors...\n"
     ]
    },
    {
     "name": "stdout",
     "output_type": "stream",
     "text": [
      "   ✓ gradient-based optimization complete, direction norm: 5.6597\n",
      "🔄 Applying latent space shifts...\n",
      "📈 Optimization summary:\n",
      "   • Reward distribution: μ=1.784, σ=0.801\n",
      "   • Valid molecules: 20/20\n",
      "   • Shift magnitude: 5.6597\n",
      "   • Applied noise: σ=0.0950\n",
      "   ✓ Good diversity: 11/20 unique SMILES\n",
      "[INFO] Cleared stored latent vectors and rewards.\n",
      "✅ Centroid shift optimization complete: 20 shifted vectors\n"
     ]
    },
    {
     "name": "stderr",
     "output_type": "stream",
     "text": [
      "2025-06-07 19:12:32,472 [INFO]    ✓ Generated 20/20 valid SMILES\n",
      "2025-06-07 19:12:32,473 [INFO] 📊 Optimizing latent space...\n"
     ]
    },
    {
     "name": "stdout",
     "output_type": "stream",
     "text": [
      "🧠 Starting centroid shift optimization for 20 samples\n",
      "   Using top-20 samples for optimization\n",
      "[INFO] LatentRewardModel initialized on device: cuda\n",
      "📊 Computing molecular rewards...\n",
      "   ✓ Computed rewards for 20/20 valid molecules\n",
      "🎯 Training reward model...\n",
      "[INFO] Training complete. Final train loss: 0.0078\n",
      "   ✓ Training complete: 70 epochs, final loss: 0.0078\n",
      "🧭 Computing optimal shift direction...\n"
     ]
    },
    {
     "name": "stderr",
     "output_type": "stream",
     "text": [
      "2025-06-07 19:12:33,928 [INFO]    ✓ Saved results for iteration 3\n",
      "2025-06-07 19:12:33,930 [INFO]    ✓ Generated 20 molecules\n",
      "2025-06-07 19:12:33,931 [INFO]    ✓ Diversity: 9/20 (45.00%)\n",
      "2025-06-07 19:12:33,932 [INFO]    ✓ Reward: μ=2.167, σ=0.778, max=3.450\n",
      "2025-06-07 19:12:33,934 [INFO]    ✓ Time: 7.8s\n",
      "2025-06-07 19:12:33,935 [INFO] \n",
      "🔄 Iteration 4/10 (α=0.149)\n",
      "2025-06-07 19:12:33,936 [INFO] 🔄 Generating from 20 latent vectors...\n"
     ]
    },
    {
     "name": "stdout",
     "output_type": "stream",
     "text": [
      "   ✓ gradient-based optimization complete, direction norm: 5.7179\n",
      "🔄 Applying latent space shifts...\n",
      "📈 Optimization summary:\n",
      "   • Reward distribution: μ=2.167, σ=0.778\n",
      "   • Valid molecules: 20/20\n",
      "   • Shift magnitude: 5.7179\n",
      "   • Applied noise: σ=0.0900\n",
      "   ✓ Good diversity: 9/20 unique SMILES\n",
      "[INFO] Cleared stored latent vectors and rewards.\n",
      "✅ Centroid shift optimization complete: 20 shifted vectors\n"
     ]
    },
    {
     "name": "stderr",
     "output_type": "stream",
     "text": [
      "2025-06-07 19:12:40,361 [INFO]    ✓ Generated 20/20 valid SMILES\n",
      "2025-06-07 19:12:40,364 [INFO] 📊 Optimizing latent space...\n"
     ]
    },
    {
     "name": "stdout",
     "output_type": "stream",
     "text": [
      "🧠 Starting centroid shift optimization for 20 samples\n",
      "   Using top-20 samples for optimization\n",
      "[INFO] LatentRewardModel initialized on device: cuda\n",
      "📊 Computing molecular rewards...\n",
      "   ✓ Computed rewards for 20/20 valid molecules\n",
      "🎯 Training reward model...\n",
      "[INFO] Training complete. Final train loss: 0.0068\n",
      "   ✓ Training complete: 80 epochs, final loss: 0.0068\n",
      "🧭 Computing optimal shift direction...\n"
     ]
    },
    {
     "name": "stderr",
     "output_type": "stream",
     "text": [
      "2025-06-07 19:12:41,755 [INFO]    ✓ Saved results for iteration 4\n",
      "2025-06-07 19:12:41,756 [INFO]    ✓ Generated 20 molecules\n",
      "2025-06-07 19:12:41,757 [INFO]    ✓ Diversity: 10/20 (50.00%)\n",
      "2025-06-07 19:12:41,758 [INFO]    ✓ Reward: μ=2.314, σ=0.856, max=3.484\n",
      "2025-06-07 19:12:41,760 [INFO]    ✓ Time: 7.8s\n",
      "2025-06-07 19:12:41,761 [INFO] \n",
      "🔄 Iteration 5/10 (α=0.134)\n",
      "2025-06-07 19:12:41,763 [INFO] 🔄 Generating from 20 latent vectors...\n"
     ]
    },
    {
     "name": "stdout",
     "output_type": "stream",
     "text": [
      "   ✓ gradient-based optimization complete, direction norm: 5.8359\n",
      "🔄 Applying latent space shifts...\n",
      "📈 Optimization summary:\n",
      "   • Reward distribution: μ=2.314, σ=0.856\n",
      "   • Valid molecules: 20/20\n",
      "   • Shift magnitude: 5.8359\n",
      "   • Applied noise: σ=0.0850\n",
      "   ✓ Good diversity: 10/20 unique SMILES\n",
      "[INFO] Cleared stored latent vectors and rewards.\n",
      "✅ Centroid shift optimization complete: 20 shifted vectors\n"
     ]
    },
    {
     "name": "stderr",
     "output_type": "stream",
     "text": [
      "2025-06-07 19:12:48,060 [INFO]    ✓ Generated 20/20 valid SMILES\n",
      "2025-06-07 19:12:48,061 [INFO] 📊 Optimizing latent space...\n"
     ]
    },
    {
     "name": "stdout",
     "output_type": "stream",
     "text": [
      "🧠 Starting centroid shift optimization for 20 samples\n",
      "   Using top-20 samples for optimization\n",
      "[INFO] LatentRewardModel initialized on device: cuda\n",
      "📊 Computing molecular rewards...\n",
      "   ✓ Computed rewards for 20/20 valid molecules\n",
      "🎯 Training reward model...\n",
      "[INFO] Training complete. Final train loss: 0.0214\n",
      "   ✓ Training complete: 90 epochs, final loss: 0.0214\n",
      "🧭 Computing optimal shift direction...\n"
     ]
    },
    {
     "name": "stderr",
     "output_type": "stream",
     "text": [
      "2025-06-07 19:12:49,463 [INFO]    ✓ Saved results for iteration 5\n",
      "2025-06-07 19:12:49,464 [INFO]    ✓ Generated 20 molecules\n",
      "2025-06-07 19:12:49,466 [INFO]    ✓ Diversity: 13/20 (65.00%)\n",
      "2025-06-07 19:12:49,467 [INFO]    ✓ Reward: μ=2.653, σ=0.593, max=3.438\n",
      "2025-06-07 19:12:49,468 [INFO]    ✓ Time: 7.7s\n",
      "2025-06-07 19:12:49,471 [INFO] \n",
      "🔄 Iteration 6/10 (α=0.119)\n",
      "2025-06-07 19:12:49,472 [INFO] 🔄 Generating from 20 latent vectors...\n"
     ]
    },
    {
     "name": "stdout",
     "output_type": "stream",
     "text": [
      "   ✓ gradient-based optimization complete, direction norm: 4.6231\n",
      "🔄 Applying latent space shifts...\n",
      "📈 Optimization summary:\n",
      "   • Reward distribution: μ=2.653, σ=0.593\n",
      "   • Valid molecules: 20/20\n",
      "   • Shift magnitude: 4.6231\n",
      "   • Applied noise: σ=0.0800\n",
      "   ✓ Good diversity: 13/20 unique SMILES\n",
      "[INFO] Cleared stored latent vectors and rewards.\n",
      "✅ Centroid shift optimization complete: 20 shifted vectors\n"
     ]
    },
    {
     "name": "stderr",
     "output_type": "stream",
     "text": [
      "2025-06-07 19:12:55,899 [INFO]    ✓ Generated 20/20 valid SMILES\n",
      "2025-06-07 19:12:55,900 [INFO] 📊 Optimizing latent space...\n"
     ]
    },
    {
     "name": "stdout",
     "output_type": "stream",
     "text": [
      "🧠 Starting centroid shift optimization for 20 samples\n",
      "   Using top-20 samples for optimization\n",
      "[INFO] LatentRewardModel initialized on device: cuda\n",
      "📊 Computing molecular rewards...\n",
      "   ✓ Computed rewards for 20/20 valid molecules\n",
      "🎯 Training reward model...\n",
      "[INFO] Training complete. Final train loss: 0.0297\n",
      "   ✓ Training complete: 100 epochs, final loss: 0.0297\n",
      "🧭 Computing optimal shift direction...\n"
     ]
    },
    {
     "name": "stderr",
     "output_type": "stream",
     "text": [
      "2025-06-07 19:12:57,446 [INFO]    ✓ Saved results for iteration 6\n",
      "2025-06-07 19:12:57,447 [INFO]    ✓ Generated 20 molecules\n",
      "2025-06-07 19:12:57,449 [INFO]    ✓ Diversity: 11/20 (55.00%)\n",
      "2025-06-07 19:12:57,450 [INFO]    ✓ Reward: μ=2.664, σ=0.561, max=3.334\n",
      "2025-06-07 19:12:57,451 [INFO]    ✓ Time: 8.0s\n",
      "2025-06-07 19:12:57,453 [INFO] \n",
      "🔄 Iteration 7/10 (α=0.104)\n",
      "2025-06-07 19:12:57,455 [INFO] 🔄 Generating from 20 latent vectors...\n"
     ]
    },
    {
     "name": "stdout",
     "output_type": "stream",
     "text": [
      "   ✓ gradient-based optimization complete, direction norm: 5.1937\n",
      "🔄 Applying latent space shifts...\n",
      "📈 Optimization summary:\n",
      "   • Reward distribution: μ=2.664, σ=0.561\n",
      "   • Valid molecules: 20/20\n",
      "   • Shift magnitude: 5.1937\n",
      "   • Applied noise: σ=0.0750\n",
      "   ✓ Good diversity: 11/20 unique SMILES\n",
      "[INFO] Cleared stored latent vectors and rewards.\n",
      "✅ Centroid shift optimization complete: 20 shifted vectors\n"
     ]
    },
    {
     "name": "stderr",
     "output_type": "stream",
     "text": [
      "2025-06-07 19:13:03,872 [INFO]    ✓ Generated 20/20 valid SMILES\n",
      "2025-06-07 19:13:03,874 [INFO] 📊 Optimizing latent space...\n"
     ]
    },
    {
     "name": "stdout",
     "output_type": "stream",
     "text": [
      "🧠 Starting centroid shift optimization for 20 samples\n",
      "   Using top-20 samples for optimization\n",
      "[INFO] LatentRewardModel initialized on device: cuda\n",
      "📊 Computing molecular rewards...\n",
      "   ✓ Computed rewards for 20/20 valid molecules\n",
      "🎯 Training reward model...\n",
      "[INFO] Training complete. Final train loss: 0.0150\n",
      "   ✓ Training complete: 100 epochs, final loss: 0.0150\n",
      "🧭 Computing optimal shift direction...\n"
     ]
    },
    {
     "name": "stderr",
     "output_type": "stream",
     "text": [
      "2025-06-07 19:13:05,306 [INFO]    ✓ Saved results for iteration 7\n",
      "2025-06-07 19:13:05,307 [INFO]    ✓ Generated 20 molecules\n",
      "2025-06-07 19:13:05,308 [INFO]    ✓ Diversity: 10/20 (50.00%)\n",
      "2025-06-07 19:13:05,310 [INFO]    ✓ Reward: μ=2.996, σ=0.478, max=3.487\n",
      "2025-06-07 19:13:05,311 [INFO]    ✓ Time: 7.9s\n",
      "2025-06-07 19:13:05,314 [INFO] \n",
      "🔄 Iteration 8/10 (α=0.089)\n",
      "2025-06-07 19:13:05,315 [INFO] 🔄 Generating from 20 latent vectors...\n"
     ]
    },
    {
     "name": "stdout",
     "output_type": "stream",
     "text": [
      "   ✓ gradient-based optimization complete, direction norm: 4.6124\n",
      "🔄 Applying latent space shifts...\n",
      "📈 Optimization summary:\n",
      "   • Reward distribution: μ=2.996, σ=0.478\n",
      "   • Valid molecules: 20/20\n",
      "   • Shift magnitude: 4.6124\n",
      "   • Applied noise: σ=0.0700\n",
      "   ✓ Good diversity: 10/20 unique SMILES\n",
      "[INFO] Cleared stored latent vectors and rewards.\n",
      "✅ Centroid shift optimization complete: 20 shifted vectors\n"
     ]
    },
    {
     "name": "stderr",
     "output_type": "stream",
     "text": [
      "2025-06-07 19:13:11,346 [INFO]    ✓ Generated 20/20 valid SMILES\n",
      "2025-06-07 19:13:11,347 [INFO] 📊 Optimizing latent space...\n"
     ]
    },
    {
     "name": "stdout",
     "output_type": "stream",
     "text": [
      "🧠 Starting centroid shift optimization for 20 samples\n",
      "   Using top-20 samples for optimization\n",
      "[INFO] LatentRewardModel initialized on device: cuda\n",
      "📊 Computing molecular rewards...\n",
      "   ✓ Computed rewards for 20/20 valid molecules\n",
      "🎯 Training reward model...\n",
      "[INFO] Training complete. Final train loss: 0.0161\n",
      "   ✓ Training complete: 100 epochs, final loss: 0.0161\n",
      "🧭 Computing optimal shift direction...\n"
     ]
    },
    {
     "name": "stderr",
     "output_type": "stream",
     "text": [
      "2025-06-07 19:13:12,714 [INFO]    ✓ Saved results for iteration 8\n",
      "2025-06-07 19:13:12,715 [INFO]    ✓ Generated 20 molecules\n",
      "2025-06-07 19:13:12,717 [INFO]    ✓ Diversity: 9/20 (45.00%)\n",
      "2025-06-07 19:13:12,718 [INFO]    ✓ Reward: μ=2.852, σ=0.741, max=3.334\n",
      "2025-06-07 19:13:12,719 [INFO]    ✓ Time: 7.4s\n",
      "2025-06-07 19:13:12,721 [INFO] \n",
      "🔄 Iteration 9/10 (α=0.074)\n",
      "2025-06-07 19:13:12,722 [INFO] 🔄 Generating from 20 latent vectors...\n"
     ]
    },
    {
     "name": "stdout",
     "output_type": "stream",
     "text": [
      "   ✓ gradient-based optimization complete, direction norm: 4.0526\n",
      "🔄 Applying latent space shifts...\n",
      "📈 Optimization summary:\n",
      "   • Reward distribution: μ=2.852, σ=0.741\n",
      "   • Valid molecules: 20/20\n",
      "   • Shift magnitude: 4.0526\n",
      "   • Applied noise: σ=0.0650\n",
      "   ✓ Good diversity: 9/20 unique SMILES\n",
      "[INFO] Cleared stored latent vectors and rewards.\n",
      "✅ Centroid shift optimization complete: 20 shifted vectors\n"
     ]
    },
    {
     "name": "stderr",
     "output_type": "stream",
     "text": [
      "2025-06-07 19:13:19,085 [INFO]    ✓ Generated 20/20 valid SMILES\n",
      "2025-06-07 19:13:19,086 [INFO] 📊 Optimizing latent space...\n"
     ]
    },
    {
     "name": "stdout",
     "output_type": "stream",
     "text": [
      "🧠 Starting centroid shift optimization for 20 samples\n",
      "   Using top-20 samples for optimization\n",
      "[INFO] LatentRewardModel initialized on device: cuda\n",
      "📊 Computing molecular rewards...\n",
      "   ✓ Computed rewards for 20/20 valid molecules\n",
      "🎯 Training reward model...\n",
      "[INFO] Training complete. Final train loss: 0.0078\n",
      "   ✓ Training complete: 100 epochs, final loss: 0.0078\n",
      "🧭 Computing optimal shift direction...\n"
     ]
    },
    {
     "name": "stderr",
     "output_type": "stream",
     "text": [
      "2025-06-07 19:13:20,541 [INFO]    ✓ Saved results for iteration 9\n",
      "2025-06-07 19:13:20,543 [INFO]    ✓ Generated 20 molecules\n",
      "2025-06-07 19:13:20,544 [INFO]    ✓ Diversity: 8/20 (40.00%)\n",
      "2025-06-07 19:13:20,545 [INFO]    ✓ Reward: μ=2.969, σ=0.602, max=3.453\n",
      "2025-06-07 19:13:20,547 [INFO]    ✓ Time: 7.8s\n",
      "2025-06-07 19:13:20,548 [INFO] \n",
      "🔄 Iteration 10/10 (α=0.058)\n",
      "2025-06-07 19:13:20,550 [INFO] 🔄 Generating from 20 latent vectors...\n"
     ]
    },
    {
     "name": "stdout",
     "output_type": "stream",
     "text": [
      "   ✓ gradient-based optimization complete, direction norm: 4.0608\n",
      "🔄 Applying latent space shifts...\n",
      "📈 Optimization summary:\n",
      "   • Reward distribution: μ=2.969, σ=0.602\n",
      "   • Valid molecules: 20/20\n",
      "   • Shift magnitude: 4.0608\n",
      "   • Applied noise: σ=0.0600\n",
      "   ✓ Good diversity: 8/20 unique SMILES\n",
      "[INFO] Cleared stored latent vectors and rewards.\n",
      "✅ Centroid shift optimization complete: 20 shifted vectors\n"
     ]
    },
    {
     "name": "stderr",
     "output_type": "stream",
     "text": [
      "2025-06-07 19:13:26,663 [INFO]    ✓ Generated 20/20 valid SMILES\n",
      "2025-06-07 19:13:26,664 [INFO] 📊 Optimizing latent space...\n"
     ]
    },
    {
     "name": "stdout",
     "output_type": "stream",
     "text": [
      "🧠 Starting centroid shift optimization for 20 samples\n",
      "   Using top-20 samples for optimization\n",
      "[INFO] LatentRewardModel initialized on device: cuda\n",
      "📊 Computing molecular rewards...\n",
      "   ✓ Computed rewards for 20/20 valid molecules\n",
      "🎯 Training reward model...\n",
      "[INFO] Training complete. Final train loss: 0.0083\n",
      "   ✓ Training complete: 100 epochs, final loss: 0.0083\n",
      "🧭 Computing optimal shift direction...\n"
     ]
    },
    {
     "name": "stderr",
     "output_type": "stream",
     "text": [
      "2025-06-07 19:13:28,082 [INFO]    ✓ Saved results for iteration 10\n",
      "2025-06-07 19:13:28,083 [INFO]    ✓ Generated 20 molecules\n",
      "2025-06-07 19:13:28,085 [INFO]    ✓ Diversity: 8/20 (40.00%)\n",
      "2025-06-07 19:13:28,086 [INFO]    ✓ Reward: μ=2.986, σ=0.490, max=3.484\n",
      "2025-06-07 19:13:28,088 [INFO]    ✓ Time: 7.5s\n",
      "2025-06-07 19:13:28,089 [INFO] \n",
      "📈 Final Optimization Summary:\n",
      "2025-06-07 19:13:28,090 [INFO]    Iteration | Molecules | Unique | Mean Reward | Max Reward | Time\n",
      "2025-06-07 19:13:28,091 [INFO]    ---------|-----------|--------|-------------|------------|-----\n",
      "2025-06-07 19:13:28,092 [INFO]           1 |        20 |      5 |       2.057 |      2.769 | 28.0s\n",
      "2025-06-07 19:13:28,094 [INFO]           2 |        20 |     11 |       1.784 |      3.428 |  7.4s\n",
      "2025-06-07 19:13:28,095 [INFO]           3 |        20 |      9 |       2.167 |      3.450 |  7.8s\n",
      "2025-06-07 19:13:28,096 [INFO]           4 |        20 |     10 |       2.314 |      3.484 |  7.8s\n",
      "2025-06-07 19:13:28,097 [INFO]           5 |        20 |     13 |       2.653 |      3.438 |  7.7s\n",
      "2025-06-07 19:13:28,099 [INFO]           6 |        20 |     11 |       2.664 |      3.334 |  8.0s\n",
      "2025-06-07 19:13:28,100 [INFO]           7 |        20 |     10 |       2.996 |      3.487 |  7.8s\n",
      "2025-06-07 19:13:28,101 [INFO]           8 |        20 |      9 |       2.852 |      3.334 |  7.4s\n",
      "2025-06-07 19:13:28,102 [INFO]           9 |        20 |      8 |       2.969 |      3.453 |  7.8s\n",
      "2025-06-07 19:13:28,104 [INFO]          10 |        20 |      8 |       2.986 |      3.484 |  7.5s\n",
      "2025-06-07 19:13:28,105 [INFO] \n",
      "   💡 Reward improvement: +0.929\n",
      "2025-06-07 19:13:28,106 [INFO]    🎯 Final diversity: 40.00%\n",
      "2025-06-07 19:13:28,107 [INFO]    ⏱️  Total time: 97.3s\n",
      "2025-06-07 19:13:28,109 [INFO] 🎉 TamGenRL optimization complete!\n",
      "2025-06-07 19:13:28,206 [Trial INFO] Trial 2: QED=0.6902, LogP=3.71, Diversity=0.3373, Validity=100.0%, alpha=0.19486579873132656, top_k=100, lambda_logp=0.159, lambda_mw=0.432, docking_weight=3.66, diversity_weight=0.91\n",
      "2025-06-07 19:13:28,206 [INFO] Trial 2: QED=0.6902, LogP=3.71, Diversity=0.3373, Validity=100.0%, alpha=0.19486579873132656, top_k=100, lambda_logp=0.159, lambda_mw=0.432, docking_weight=3.66, diversity_weight=0.91\n",
      "[I 2025-06-07 19:13:28,210] Trial 2 finished with value: 0.690195878745554 and parameters: {'lambda_logp': 0.15930545605198618, 'lambda_mw': 0.43157274733655615, 'alpha': 0.19486579873132656, 'top_k': 100, 'docking_weight': 3.662586160454114, 'diversity_weight': 0.9129053198627822}. Best is trial 0 with value: 0.7326953878608523.\n",
      "2025-06-07 19:13:28,215 [INFO] 🚀 Starting TamGenRL feedback loop optimization\n",
      "2025-06-07 19:13:28,216 [INFO]    Target: 1000 molecules × 10 iterations\n",
      "2025-06-07 19:13:28,217 [INFO]    Device: cuda:0, Batch size: 4\n",
      "2025-06-07 19:13:28,218 [INFO] \n",
      "🔄 Iteration 1/10 (α=0.309)\n",
      "2025-06-07 19:13:28,219 [INFO] 🌱 Generating initial molecules with TamGen...\n"
     ]
    },
    {
     "name": "stdout",
     "output_type": "stream",
     "text": [
      "   ✓ gradient-based optimization complete, direction norm: 5.3136\n",
      "🔄 Applying latent space shifts...\n",
      "📈 Optimization summary:\n",
      "   • Reward distribution: μ=2.986, σ=0.490\n",
      "   • Valid molecules: 20/20\n",
      "   • Shift magnitude: 5.3136\n",
      "   • Applied noise: σ=0.0550\n",
      "   ✓ Good diversity: 8/20 unique SMILES\n",
      "[INFO] Cleared stored latent vectors and rewards.\n",
      "✅ Centroid shift optimization complete: 20 shifted vectors\n",
      "| loaded 1 examples from: ./TamGen_Demo_Data/gen_1hvh.tg-m1.tg\n",
      "| loaded 1 examples from: ./TamGen_Demo_Data/gen_1hvh.tg-m1.m1\n",
      "| ./TamGen_Demo_Data gen_1hvh tg-m1 1 examples\n",
      "| loaded 1 examples from: ./TamGen_Demo_Data/gen_1hvh.tg-m1.tg.coord\n"
     ]
    },
    {
     "name": "stderr",
     "output_type": "stream",
     "text": [
      "Initial generation:   2%|▏         | 20/1000 [00:27<22:20,  1.37s/it]\n",
      "2025-06-07 19:13:55,578 [INFO]    ✓ Generated 20 initial molecules\n",
      "2025-06-07 19:13:55,579 [INFO]    ✓ Diversity: 5/20 (25.00%)\n",
      "2025-06-07 19:13:55,580 [WARNING] Low diversity detected (25.00% < 70.00%)\n",
      "2025-06-07 19:13:55,582 [INFO] 📊 Optimizing latent space...\n"
     ]
    },
    {
     "name": "stdout",
     "output_type": "stream",
     "text": [
      "🧠 Starting centroid shift optimization for 20 samples\n",
      "   Using top-20 samples for optimization\n",
      "[INFO] LatentRewardModel initialized on device: cuda\n",
      "📊 Computing molecular rewards...\n",
      "   ✓ Computed rewards for 20/20 valid molecules\n",
      "🎯 Training reward model...\n",
      "[INFO] Training complete. Final train loss: 1.0413\n",
      "   ✓ Training complete: 50 epochs, final loss: 1.0413\n",
      "🧭 Computing optimal shift direction...\n"
     ]
    },
    {
     "name": "stderr",
     "output_type": "stream",
     "text": [
      "2025-06-07 19:13:56,825 [INFO]    ✓ Saved results for iteration 1\n",
      "2025-06-07 19:13:56,827 [INFO]    ✓ Generated 20 molecules\n",
      "2025-06-07 19:13:56,828 [INFO]    ✓ Diversity: 5/20 (25.00%)\n",
      "2025-06-07 19:13:56,830 [INFO]    ✓ Reward: μ=2.057, σ=0.570, max=2.769\n",
      "2025-06-07 19:13:56,831 [INFO]    ✓ Time: 28.6s\n",
      "2025-06-07 19:13:56,832 [INFO] \n",
      "🔄 Iteration 2/10 (α=0.285)\n",
      "2025-06-07 19:13:56,833 [INFO] 🔄 Generating from 20 latent vectors...\n"
     ]
    },
    {
     "name": "stdout",
     "output_type": "stream",
     "text": [
      "   ✓ gradient-based optimization complete, direction norm: 2.9185\n",
      "🔄 Applying latent space shifts...\n",
      "📈 Optimization summary:\n",
      "   • Reward distribution: μ=2.057, σ=0.570\n",
      "   • Valid molecules: 20/20\n",
      "   • Shift magnitude: 2.9185\n",
      "   • Applied noise: σ=0.1000\n",
      "   ⚠️  Low diversity detected: 5/20 unique SMILES\n",
      "      Consider increasing noise_sigma or reducing shift_alpha\n",
      "[INFO] Cleared stored latent vectors and rewards.\n",
      "✅ Centroid shift optimization complete: 20 shifted vectors\n"
     ]
    },
    {
     "name": "stderr",
     "output_type": "stream",
     "text": [
      "2025-06-07 19:14:03,439 [INFO]    ✓ Generated 20/20 valid SMILES\n",
      "2025-06-07 19:14:03,440 [INFO] 📊 Optimizing latent space...\n"
     ]
    },
    {
     "name": "stdout",
     "output_type": "stream",
     "text": [
      "🧠 Starting centroid shift optimization for 20 samples\n",
      "   Using top-20 samples for optimization\n",
      "[INFO] LatentRewardModel initialized on device: cuda\n",
      "📊 Computing molecular rewards...\n",
      "   ✓ Computed rewards for 20/20 valid molecules\n",
      "🎯 Training reward model...\n",
      "[INFO] Training complete. Final train loss: 0.0230\n",
      "   ✓ Training complete: 60 epochs, final loss: 0.0230\n",
      "🧭 Computing optimal shift direction...\n"
     ]
    },
    {
     "name": "stderr",
     "output_type": "stream",
     "text": [
      "2025-06-07 19:14:04,689 [INFO]    ✓ Saved results for iteration 2\n",
      "2025-06-07 19:14:04,690 [INFO]    ✓ Generated 20 molecules\n",
      "2025-06-07 19:14:04,691 [INFO]    ✓ Diversity: 9/20 (45.00%)\n",
      "2025-06-07 19:14:04,693 [INFO]    ✓ Reward: μ=1.853, σ=0.705, max=3.316\n",
      "2025-06-07 19:14:04,694 [INFO]    ✓ Time: 7.9s\n",
      "2025-06-07 19:14:04,696 [INFO] \n",
      "🔄 Iteration 3/10 (α=0.261)\n",
      "2025-06-07 19:14:04,697 [INFO] 🔄 Generating from 20 latent vectors...\n"
     ]
    },
    {
     "name": "stdout",
     "output_type": "stream",
     "text": [
      "   ✓ gradient-based optimization complete, direction norm: 5.7029\n",
      "🔄 Applying latent space shifts...\n",
      "📈 Optimization summary:\n",
      "   • Reward distribution: μ=1.853, σ=0.705\n",
      "   • Valid molecules: 20/20\n",
      "   • Shift magnitude: 5.7029\n",
      "   • Applied noise: σ=0.0950\n",
      "   ✓ Good diversity: 9/20 unique SMILES\n",
      "[INFO] Cleared stored latent vectors and rewards.\n",
      "✅ Centroid shift optimization complete: 20 shifted vectors\n"
     ]
    },
    {
     "name": "stderr",
     "output_type": "stream",
     "text": [
      "2025-06-07 19:14:11,279 [INFO]    ✓ Generated 20/20 valid SMILES\n",
      "2025-06-07 19:14:11,280 [INFO] 📊 Optimizing latent space...\n"
     ]
    },
    {
     "name": "stdout",
     "output_type": "stream",
     "text": [
      "🧠 Starting centroid shift optimization for 20 samples\n",
      "   Using top-20 samples for optimization\n",
      "[INFO] LatentRewardModel initialized on device: cuda\n",
      "📊 Computing molecular rewards...\n",
      "   ✓ Computed rewards for 20/20 valid molecules\n",
      "🎯 Training reward model...\n",
      "[INFO] Training complete. Final train loss: 0.0184\n",
      "   ✓ Training complete: 70 epochs, final loss: 0.0184\n",
      "🧭 Computing optimal shift direction...\n"
     ]
    },
    {
     "name": "stderr",
     "output_type": "stream",
     "text": [
      "2025-06-07 19:14:13,248 [INFO]    ✓ Saved results for iteration 3\n",
      "2025-06-07 19:14:13,249 [INFO]    ✓ Generated 20 molecules\n",
      "2025-06-07 19:14:13,250 [INFO]    ✓ Diversity: 7/20 (35.00%)\n",
      "2025-06-07 19:14:13,252 [INFO]    ✓ Reward: μ=2.126, σ=0.351, max=2.786\n",
      "2025-06-07 19:14:13,254 [INFO]    ✓ Time: 8.6s\n",
      "2025-06-07 19:14:13,255 [INFO] \n",
      "🔄 Iteration 4/10 (α=0.237)\n",
      "2025-06-07 19:14:13,257 [INFO] 🔄 Generating from 20 latent vectors...\n"
     ]
    },
    {
     "name": "stdout",
     "output_type": "stream",
     "text": [
      "   ✓ gradient-based optimization complete, direction norm: 5.5459\n",
      "🔄 Applying latent space shifts...\n",
      "📈 Optimization summary:\n",
      "   • Reward distribution: μ=2.126, σ=0.351\n",
      "   • Valid molecules: 20/20\n",
      "   • Shift magnitude: 5.5459\n",
      "   • Applied noise: σ=0.0900\n",
      "   ✓ Good diversity: 7/20 unique SMILES\n",
      "[INFO] Cleared stored latent vectors and rewards.\n",
      "✅ Centroid shift optimization complete: 20 shifted vectors\n"
     ]
    },
    {
     "name": "stderr",
     "output_type": "stream",
     "text": [
      "2025-06-07 19:14:19,919 [INFO]    ✓ Generated 20/20 valid SMILES\n",
      "2025-06-07 19:14:19,921 [INFO] 📊 Optimizing latent space...\n"
     ]
    },
    {
     "name": "stdout",
     "output_type": "stream",
     "text": [
      "🧠 Starting centroid shift optimization for 20 samples\n",
      "   Using top-20 samples for optimization\n",
      "[INFO] LatentRewardModel initialized on device: cuda\n",
      "📊 Computing molecular rewards...\n",
      "   ✓ Computed rewards for 20/20 valid molecules\n",
      "🎯 Training reward model...\n",
      "[INFO] Training complete. Final train loss: 0.0155\n",
      "   ✓ Training complete: 80 epochs, final loss: 0.0155\n",
      "🧭 Computing optimal shift direction...\n"
     ]
    },
    {
     "name": "stderr",
     "output_type": "stream",
     "text": [
      "2025-06-07 19:14:21,638 [INFO]    ✓ Saved results for iteration 4\n",
      "2025-06-07 19:14:21,640 [INFO]    ✓ Generated 20 molecules\n",
      "2025-06-07 19:14:21,641 [INFO]    ✓ Diversity: 11/20 (55.00%)\n",
      "2025-06-07 19:14:21,643 [INFO]    ✓ Reward: μ=2.028, σ=0.527, max=2.769\n",
      "2025-06-07 19:14:21,645 [INFO]    ✓ Time: 8.4s\n",
      "2025-06-07 19:14:21,646 [INFO] \n",
      "🔄 Iteration 5/10 (α=0.213)\n",
      "2025-06-07 19:14:21,648 [INFO] 🔄 Generating from 20 latent vectors...\n"
     ]
    },
    {
     "name": "stdout",
     "output_type": "stream",
     "text": [
      "   ✓ gradient-based optimization complete, direction norm: 6.2012\n",
      "🔄 Applying latent space shifts...\n",
      "📈 Optimization summary:\n",
      "   • Reward distribution: μ=2.028, σ=0.527\n",
      "   • Valid molecules: 20/20\n",
      "   • Shift magnitude: 6.2012\n",
      "   • Applied noise: σ=0.0850\n",
      "   ✓ Good diversity: 11/20 unique SMILES\n",
      "[INFO] Cleared stored latent vectors and rewards.\n",
      "✅ Centroid shift optimization complete: 20 shifted vectors\n"
     ]
    },
    {
     "name": "stderr",
     "output_type": "stream",
     "text": [
      "2025-06-07 19:14:28,276 [INFO]    ✓ Generated 20/20 valid SMILES\n",
      "2025-06-07 19:14:28,277 [INFO] 📊 Optimizing latent space...\n"
     ]
    },
    {
     "name": "stdout",
     "output_type": "stream",
     "text": [
      "🧠 Starting centroid shift optimization for 20 samples\n",
      "   Using top-20 samples for optimization\n",
      "[INFO] LatentRewardModel initialized on device: cuda\n",
      "📊 Computing molecular rewards...\n",
      "   ✓ Computed rewards for 20/20 valid molecules\n",
      "🎯 Training reward model...\n",
      "[INFO] Training complete. Final train loss: 0.0350\n",
      "   ✓ Training complete: 90 epochs, final loss: 0.0350\n",
      "🧭 Computing optimal shift direction...\n"
     ]
    },
    {
     "name": "stderr",
     "output_type": "stream",
     "text": [
      "2025-06-07 19:14:29,835 [INFO]    ✓ Saved results for iteration 5\n",
      "2025-06-07 19:14:29,836 [INFO]    ✓ Generated 20 molecules\n",
      "2025-06-07 19:14:29,838 [INFO]    ✓ Diversity: 13/20 (65.00%)\n",
      "2025-06-07 19:14:29,839 [INFO]    ✓ Reward: μ=2.305, σ=0.504, max=3.442\n",
      "2025-06-07 19:14:29,841 [INFO]    ✓ Time: 8.2s\n",
      "2025-06-07 19:14:29,842 [INFO] \n",
      "🔄 Iteration 6/10 (α=0.189)\n",
      "2025-06-07 19:14:29,844 [INFO] 🔄 Generating from 20 latent vectors...\n"
     ]
    },
    {
     "name": "stdout",
     "output_type": "stream",
     "text": [
      "   ✓ gradient-based optimization complete, direction norm: 5.6022\n",
      "🔄 Applying latent space shifts...\n",
      "📈 Optimization summary:\n",
      "   • Reward distribution: μ=2.305, σ=0.504\n",
      "   • Valid molecules: 20/20\n",
      "   • Shift magnitude: 5.6022\n",
      "   • Applied noise: σ=0.0800\n",
      "   ✓ Good diversity: 13/20 unique SMILES\n",
      "[INFO] Cleared stored latent vectors and rewards.\n",
      "✅ Centroid shift optimization complete: 20 shifted vectors\n"
     ]
    },
    {
     "name": "stderr",
     "output_type": "stream",
     "text": [
      "2025-06-07 19:14:36,360 [INFO]    ✓ Generated 20/20 valid SMILES\n",
      "2025-06-07 19:14:36,363 [INFO] 📊 Optimizing latent space...\n"
     ]
    },
    {
     "name": "stdout",
     "output_type": "stream",
     "text": [
      "🧠 Starting centroid shift optimization for 20 samples\n",
      "   Using top-20 samples for optimization\n",
      "[INFO] LatentRewardModel initialized on device: cuda\n",
      "📊 Computing molecular rewards...\n",
      "   ✓ Computed rewards for 20/20 valid molecules\n",
      "🎯 Training reward model...\n",
      "[INFO] Training complete. Final train loss: 0.0098\n",
      "   ✓ Training complete: 100 epochs, final loss: 0.0098\n",
      "🧭 Computing optimal shift direction...\n"
     ]
    },
    {
     "name": "stderr",
     "output_type": "stream",
     "text": [
      "2025-06-07 19:14:37,808 [INFO]    ✓ Saved results for iteration 6\n",
      "2025-06-07 19:14:37,810 [INFO]    ✓ Generated 20 molecules\n",
      "2025-06-07 19:14:37,811 [INFO]    ✓ Diversity: 8/20 (40.00%)\n",
      "2025-06-07 19:14:37,812 [INFO]    ✓ Reward: μ=2.777, σ=0.484, max=3.484\n",
      "2025-06-07 19:14:37,814 [INFO]    ✓ Time: 8.0s\n",
      "2025-06-07 19:14:37,815 [INFO] \n",
      "🔄 Iteration 7/10 (α=0.165)\n",
      "2025-06-07 19:14:37,816 [INFO] 🔄 Generating from 20 latent vectors...\n"
     ]
    },
    {
     "name": "stdout",
     "output_type": "stream",
     "text": [
      "   ✓ gradient-based optimization complete, direction norm: 5.1238\n",
      "🔄 Applying latent space shifts...\n",
      "📈 Optimization summary:\n",
      "   • Reward distribution: μ=2.777, σ=0.484\n",
      "   • Valid molecules: 20/20\n",
      "   • Shift magnitude: 5.1238\n",
      "   • Applied noise: σ=0.0750\n",
      "   ✓ Good diversity: 8/20 unique SMILES\n",
      "[INFO] Cleared stored latent vectors and rewards.\n",
      "✅ Centroid shift optimization complete: 20 shifted vectors\n"
     ]
    },
    {
     "name": "stderr",
     "output_type": "stream",
     "text": [
      "[W 2025-06-07 19:14:43,018] Trial 3 failed with parameters: {'lambda_logp': 0.4658781693198746, 'lambda_mw': 0.4933446763859231, 'alpha': 0.3093130034540603, 'top_k': 20, 'docking_weight': 1.910020206268706, 'diversity_weight': 0.9573275435591837} because of the following error: KeyboardInterrupt().\n",
      "Traceback (most recent call last):\n",
      "  File \"/root/miniconda3/envs/TamGen/lib/python3.9/site-packages/optuna/study/_optimize.py\", line 197, in _run_trial\n",
      "    value_or_values = func(trial)\n",
      "  File \"/tmp/ipykernel_1456685/2412429644.py\", line 49, in objective\n",
      "    final_smiles = worker.sample(\n",
      "  File \"/workspace/workspace/TamGen/TamGen_RL.py\", line 145, in sample\n",
      "    smiles_list = self._generate_from_latents(\n",
      "  File \"/workspace/workspace/TamGen/TamGen_RL.py\", line 366, in _generate_from_latents\n",
      "    batch_results = self._generate_batch_with_latent_injection(\n",
      "  File \"/workspace/workspace/TamGen/TamGen_RL.py\", line 457, in _generate_batch_with_latent_injection\n",
      "    hypos = self.task.inference_step(self.generator, self.models, sample, prefix_tokens)\n",
      "  File \"/workspace/workspace/TamGen/fairseq/tasks/fairseq_task.py\", line 244, in inference_step\n",
      "    return generator.generate(models, sample, prefix_tokens=prefix_tokens)\n",
      "  File \"/root/miniconda3/envs/TamGen/lib/python3.9/site-packages/torch/utils/_contextlib.py\", line 116, in decorate_context\n",
      "    return func(*args, **kwargs)\n",
      "  File \"/workspace/workspace/TamGen/fairseq/sequence_generator.py\", line 292, in generate\n",
      "    lprobs, avg_attn_scores = model.forward_decoder(\n",
      "  File \"/root/miniconda3/envs/TamGen/lib/python3.9/site-packages/torch/utils/_contextlib.py\", line 116, in decorate_context\n",
      "    return func(*args, **kwargs)\n",
      "  File \"/workspace/workspace/TamGen/fairseq/sequence_generator.py\", line 545, in forward_decoder\n",
      "    return self._decode_one(\n",
      "  File \"/workspace/workspace/TamGen/fairseq/sequence_generator.py\", line 581, in _decode_one\n",
      "    decoder_out = list(model.decoder(tokens, encoder_out, incremental_state=self.incremental_states[model]))\n",
      "  File \"/root/miniconda3/envs/TamGen/lib/python3.9/site-packages/torch/nn/modules/module.py\", line 1767, in _wrapped_call_impl\n",
      "    return self._call_impl(*args, **kwargs)\n",
      "  File \"/root/miniconda3/envs/TamGen/lib/python3.9/site-packages/torch/nn/modules/module.py\", line 1778, in _call_impl\n",
      "    return forward_call(*args, **kwargs)\n",
      "  File \"/workspace/workspace/TamGen/fairseq/models/tgt2drug/transformer_3d.py\", line 580, in forward\n",
      "    return super().forward(\n",
      "  File \"/workspace/workspace/TamGen/fairseq/models/transformer.py\", line 393, in forward\n",
      "    x, extra = self.extract_features(prev_output_tokens, encoder_out, incremental_state)\n",
      "  File \"/workspace/workspace/TamGen/fairseq/models/transformer.py\", line 435, in extract_features\n",
      "    x, attn = layer(\n",
      "  File \"/root/miniconda3/envs/TamGen/lib/python3.9/site-packages/torch/nn/modules/module.py\", line 1767, in _wrapped_call_impl\n",
      "    return self._call_impl(*args, **kwargs)\n",
      "  File \"/root/miniconda3/envs/TamGen/lib/python3.9/site-packages/torch/nn/modules/module.py\", line 1778, in _call_impl\n",
      "    return forward_call(*args, **kwargs)\n",
      "  File \"/workspace/workspace/TamGen/fairseq/modules/transformer_layer.py\", line 246, in forward\n",
      "    x = residual + x\n",
      "KeyboardInterrupt\n",
      "[W 2025-06-07 19:14:43,022] Trial 3 failed with value None.\n"
     ]
    },
    {
     "ename": "KeyboardInterrupt",
     "evalue": "",
     "output_type": "error",
     "traceback": [
      "\u001b[0;31m---------------------------------------------------------------------------\u001b[0m",
      "\u001b[0;31mKeyboardInterrupt\u001b[0m                         Traceback (most recent call last)",
      "Cell \u001b[0;32mIn[6], line 6\u001b[0m\n\u001b[1;32m      4\u001b[0m \u001b[38;5;66;03m# Create Optuna study\u001b[39;00m\n\u001b[1;32m      5\u001b[0m study \u001b[38;5;241m=\u001b[39m optuna\u001b[38;5;241m.\u001b[39mcreate_study(direction\u001b[38;5;241m=\u001b[39m\u001b[38;5;124m\"\u001b[39m\u001b[38;5;124mmaximize\u001b[39m\u001b[38;5;124m\"\u001b[39m)\n\u001b[0;32m----> 6\u001b[0m \u001b[43mstudy\u001b[49m\u001b[38;5;241;43m.\u001b[39;49m\u001b[43moptimize\u001b[49m\u001b[43m(\u001b[49m\u001b[43mobjective\u001b[49m\u001b[43m,\u001b[49m\u001b[43m \u001b[49m\u001b[43mn_trials\u001b[49m\u001b[38;5;241;43m=\u001b[39;49m\u001b[38;5;241;43m30\u001b[39;49m\u001b[43m)\u001b[49m\n\u001b[1;32m      8\u001b[0m \u001b[38;5;66;03m# Print best results\u001b[39;00m\n\u001b[1;32m      9\u001b[0m \u001b[38;5;28mprint\u001b[39m(\u001b[38;5;124m\"\u001b[39m\u001b[38;5;124mBest hyperparameters:\u001b[39m\u001b[38;5;124m\"\u001b[39m, study\u001b[38;5;241m.\u001b[39mbest_params)\n",
      "File \u001b[0;32m~/miniconda3/envs/TamGen/lib/python3.9/site-packages/optuna/study/study.py:475\u001b[0m, in \u001b[0;36mStudy.optimize\u001b[0;34m(self, func, n_trials, timeout, n_jobs, catch, callbacks, gc_after_trial, show_progress_bar)\u001b[0m\n\u001b[1;32m    373\u001b[0m \u001b[38;5;28;01mdef\u001b[39;00m\u001b[38;5;250m \u001b[39m\u001b[38;5;21moptimize\u001b[39m(\n\u001b[1;32m    374\u001b[0m     \u001b[38;5;28mself\u001b[39m,\n\u001b[1;32m    375\u001b[0m     func: ObjectiveFuncType,\n\u001b[0;32m   (...)\u001b[0m\n\u001b[1;32m    382\u001b[0m     show_progress_bar: \u001b[38;5;28mbool\u001b[39m \u001b[38;5;241m=\u001b[39m \u001b[38;5;28;01mFalse\u001b[39;00m,\n\u001b[1;32m    383\u001b[0m ) \u001b[38;5;241m-\u001b[39m\u001b[38;5;241m>\u001b[39m \u001b[38;5;28;01mNone\u001b[39;00m:\n\u001b[1;32m    384\u001b[0m \u001b[38;5;250m    \u001b[39m\u001b[38;5;124;03m\"\"\"Optimize an objective function.\u001b[39;00m\n\u001b[1;32m    385\u001b[0m \n\u001b[1;32m    386\u001b[0m \u001b[38;5;124;03m    Optimization is done by choosing a suitable set of hyperparameter values from a given\u001b[39;00m\n\u001b[0;32m   (...)\u001b[0m\n\u001b[1;32m    473\u001b[0m \u001b[38;5;124;03m            If nested invocation of this method occurs.\u001b[39;00m\n\u001b[1;32m    474\u001b[0m \u001b[38;5;124;03m    \"\"\"\u001b[39;00m\n\u001b[0;32m--> 475\u001b[0m     \u001b[43m_optimize\u001b[49m\u001b[43m(\u001b[49m\n\u001b[1;32m    476\u001b[0m \u001b[43m        \u001b[49m\u001b[43mstudy\u001b[49m\u001b[38;5;241;43m=\u001b[39;49m\u001b[38;5;28;43mself\u001b[39;49m\u001b[43m,\u001b[49m\n\u001b[1;32m    477\u001b[0m \u001b[43m        \u001b[49m\u001b[43mfunc\u001b[49m\u001b[38;5;241;43m=\u001b[39;49m\u001b[43mfunc\u001b[49m\u001b[43m,\u001b[49m\n\u001b[1;32m    478\u001b[0m \u001b[43m        \u001b[49m\u001b[43mn_trials\u001b[49m\u001b[38;5;241;43m=\u001b[39;49m\u001b[43mn_trials\u001b[49m\u001b[43m,\u001b[49m\n\u001b[1;32m    479\u001b[0m \u001b[43m        \u001b[49m\u001b[43mtimeout\u001b[49m\u001b[38;5;241;43m=\u001b[39;49m\u001b[43mtimeout\u001b[49m\u001b[43m,\u001b[49m\n\u001b[1;32m    480\u001b[0m \u001b[43m        \u001b[49m\u001b[43mn_jobs\u001b[49m\u001b[38;5;241;43m=\u001b[39;49m\u001b[43mn_jobs\u001b[49m\u001b[43m,\u001b[49m\n\u001b[1;32m    481\u001b[0m \u001b[43m        \u001b[49m\u001b[43mcatch\u001b[49m\u001b[38;5;241;43m=\u001b[39;49m\u001b[38;5;28;43mtuple\u001b[39;49m\u001b[43m(\u001b[49m\u001b[43mcatch\u001b[49m\u001b[43m)\u001b[49m\u001b[43m \u001b[49m\u001b[38;5;28;43;01mif\u001b[39;49;00m\u001b[43m \u001b[49m\u001b[38;5;28;43misinstance\u001b[39;49m\u001b[43m(\u001b[49m\u001b[43mcatch\u001b[49m\u001b[43m,\u001b[49m\u001b[43m \u001b[49m\u001b[43mIterable\u001b[49m\u001b[43m)\u001b[49m\u001b[43m \u001b[49m\u001b[38;5;28;43;01melse\u001b[39;49;00m\u001b[43m \u001b[49m\u001b[43m(\u001b[49m\u001b[43mcatch\u001b[49m\u001b[43m,\u001b[49m\u001b[43m)\u001b[49m\u001b[43m,\u001b[49m\n\u001b[1;32m    482\u001b[0m \u001b[43m        \u001b[49m\u001b[43mcallbacks\u001b[49m\u001b[38;5;241;43m=\u001b[39;49m\u001b[43mcallbacks\u001b[49m\u001b[43m,\u001b[49m\n\u001b[1;32m    483\u001b[0m \u001b[43m        \u001b[49m\u001b[43mgc_after_trial\u001b[49m\u001b[38;5;241;43m=\u001b[39;49m\u001b[43mgc_after_trial\u001b[49m\u001b[43m,\u001b[49m\n\u001b[1;32m    484\u001b[0m \u001b[43m        \u001b[49m\u001b[43mshow_progress_bar\u001b[49m\u001b[38;5;241;43m=\u001b[39;49m\u001b[43mshow_progress_bar\u001b[49m\u001b[43m,\u001b[49m\n\u001b[1;32m    485\u001b[0m \u001b[43m    \u001b[49m\u001b[43m)\u001b[49m\n",
      "File \u001b[0;32m~/miniconda3/envs/TamGen/lib/python3.9/site-packages/optuna/study/_optimize.py:63\u001b[0m, in \u001b[0;36m_optimize\u001b[0;34m(study, func, n_trials, timeout, n_jobs, catch, callbacks, gc_after_trial, show_progress_bar)\u001b[0m\n\u001b[1;32m     61\u001b[0m \u001b[38;5;28;01mtry\u001b[39;00m:\n\u001b[1;32m     62\u001b[0m     \u001b[38;5;28;01mif\u001b[39;00m n_jobs \u001b[38;5;241m==\u001b[39m \u001b[38;5;241m1\u001b[39m:\n\u001b[0;32m---> 63\u001b[0m         \u001b[43m_optimize_sequential\u001b[49m\u001b[43m(\u001b[49m\n\u001b[1;32m     64\u001b[0m \u001b[43m            \u001b[49m\u001b[43mstudy\u001b[49m\u001b[43m,\u001b[49m\n\u001b[1;32m     65\u001b[0m \u001b[43m            \u001b[49m\u001b[43mfunc\u001b[49m\u001b[43m,\u001b[49m\n\u001b[1;32m     66\u001b[0m \u001b[43m            \u001b[49m\u001b[43mn_trials\u001b[49m\u001b[43m,\u001b[49m\n\u001b[1;32m     67\u001b[0m \u001b[43m            \u001b[49m\u001b[43mtimeout\u001b[49m\u001b[43m,\u001b[49m\n\u001b[1;32m     68\u001b[0m \u001b[43m            \u001b[49m\u001b[43mcatch\u001b[49m\u001b[43m,\u001b[49m\n\u001b[1;32m     69\u001b[0m \u001b[43m            \u001b[49m\u001b[43mcallbacks\u001b[49m\u001b[43m,\u001b[49m\n\u001b[1;32m     70\u001b[0m \u001b[43m            \u001b[49m\u001b[43mgc_after_trial\u001b[49m\u001b[43m,\u001b[49m\n\u001b[1;32m     71\u001b[0m \u001b[43m            \u001b[49m\u001b[43mreseed_sampler_rng\u001b[49m\u001b[38;5;241;43m=\u001b[39;49m\u001b[38;5;28;43;01mFalse\u001b[39;49;00m\u001b[43m,\u001b[49m\n\u001b[1;32m     72\u001b[0m \u001b[43m            \u001b[49m\u001b[43mtime_start\u001b[49m\u001b[38;5;241;43m=\u001b[39;49m\u001b[38;5;28;43;01mNone\u001b[39;49;00m\u001b[43m,\u001b[49m\n\u001b[1;32m     73\u001b[0m \u001b[43m            \u001b[49m\u001b[43mprogress_bar\u001b[49m\u001b[38;5;241;43m=\u001b[39;49m\u001b[43mprogress_bar\u001b[49m\u001b[43m,\u001b[49m\n\u001b[1;32m     74\u001b[0m \u001b[43m        \u001b[49m\u001b[43m)\u001b[49m\n\u001b[1;32m     75\u001b[0m     \u001b[38;5;28;01melse\u001b[39;00m:\n\u001b[1;32m     76\u001b[0m         \u001b[38;5;28;01mif\u001b[39;00m n_jobs \u001b[38;5;241m==\u001b[39m \u001b[38;5;241m-\u001b[39m\u001b[38;5;241m1\u001b[39m:\n",
      "File \u001b[0;32m~/miniconda3/envs/TamGen/lib/python3.9/site-packages/optuna/study/_optimize.py:160\u001b[0m, in \u001b[0;36m_optimize_sequential\u001b[0;34m(study, func, n_trials, timeout, catch, callbacks, gc_after_trial, reseed_sampler_rng, time_start, progress_bar)\u001b[0m\n\u001b[1;32m    157\u001b[0m         \u001b[38;5;28;01mbreak\u001b[39;00m\n\u001b[1;32m    159\u001b[0m \u001b[38;5;28;01mtry\u001b[39;00m:\n\u001b[0;32m--> 160\u001b[0m     frozen_trial \u001b[38;5;241m=\u001b[39m \u001b[43m_run_trial\u001b[49m\u001b[43m(\u001b[49m\u001b[43mstudy\u001b[49m\u001b[43m,\u001b[49m\u001b[43m \u001b[49m\u001b[43mfunc\u001b[49m\u001b[43m,\u001b[49m\u001b[43m \u001b[49m\u001b[43mcatch\u001b[49m\u001b[43m)\u001b[49m\n\u001b[1;32m    161\u001b[0m \u001b[38;5;28;01mfinally\u001b[39;00m:\n\u001b[1;32m    162\u001b[0m     \u001b[38;5;66;03m# The following line mitigates memory problems that can be occurred in some\u001b[39;00m\n\u001b[1;32m    163\u001b[0m     \u001b[38;5;66;03m# environments (e.g., services that use computing containers such as GitHub Actions).\u001b[39;00m\n\u001b[1;32m    164\u001b[0m     \u001b[38;5;66;03m# Please refer to the following PR for further details:\u001b[39;00m\n\u001b[1;32m    165\u001b[0m     \u001b[38;5;66;03m# https://github.com/optuna/optuna/pull/325.\u001b[39;00m\n\u001b[1;32m    166\u001b[0m     \u001b[38;5;28;01mif\u001b[39;00m gc_after_trial:\n",
      "File \u001b[0;32m~/miniconda3/envs/TamGen/lib/python3.9/site-packages/optuna/study/_optimize.py:248\u001b[0m, in \u001b[0;36m_run_trial\u001b[0;34m(study, func, catch)\u001b[0m\n\u001b[1;32m    241\u001b[0m         \u001b[38;5;28;01massert\u001b[39;00m \u001b[38;5;28;01mFalse\u001b[39;00m, \u001b[38;5;124m\"\u001b[39m\u001b[38;5;124mShould not reach.\u001b[39m\u001b[38;5;124m\"\u001b[39m\n\u001b[1;32m    243\u001b[0m \u001b[38;5;28;01mif\u001b[39;00m (\n\u001b[1;32m    244\u001b[0m     frozen_trial\u001b[38;5;241m.\u001b[39mstate \u001b[38;5;241m==\u001b[39m TrialState\u001b[38;5;241m.\u001b[39mFAIL\n\u001b[1;32m    245\u001b[0m     \u001b[38;5;129;01mand\u001b[39;00m func_err \u001b[38;5;129;01mis\u001b[39;00m \u001b[38;5;129;01mnot\u001b[39;00m \u001b[38;5;28;01mNone\u001b[39;00m\n\u001b[1;32m    246\u001b[0m     \u001b[38;5;129;01mand\u001b[39;00m \u001b[38;5;129;01mnot\u001b[39;00m \u001b[38;5;28misinstance\u001b[39m(func_err, catch)\n\u001b[1;32m    247\u001b[0m ):\n\u001b[0;32m--> 248\u001b[0m     \u001b[38;5;28;01mraise\u001b[39;00m func_err\n\u001b[1;32m    249\u001b[0m \u001b[38;5;28;01mreturn\u001b[39;00m frozen_trial\n",
      "File \u001b[0;32m~/miniconda3/envs/TamGen/lib/python3.9/site-packages/optuna/study/_optimize.py:197\u001b[0m, in \u001b[0;36m_run_trial\u001b[0;34m(study, func, catch)\u001b[0m\n\u001b[1;32m    195\u001b[0m \u001b[38;5;28;01mwith\u001b[39;00m get_heartbeat_thread(trial\u001b[38;5;241m.\u001b[39m_trial_id, study\u001b[38;5;241m.\u001b[39m_storage):\n\u001b[1;32m    196\u001b[0m     \u001b[38;5;28;01mtry\u001b[39;00m:\n\u001b[0;32m--> 197\u001b[0m         value_or_values \u001b[38;5;241m=\u001b[39m \u001b[43mfunc\u001b[49m\u001b[43m(\u001b[49m\u001b[43mtrial\u001b[49m\u001b[43m)\u001b[49m\n\u001b[1;32m    198\u001b[0m     \u001b[38;5;28;01mexcept\u001b[39;00m exceptions\u001b[38;5;241m.\u001b[39mTrialPruned \u001b[38;5;28;01mas\u001b[39;00m e:\n\u001b[1;32m    199\u001b[0m         \u001b[38;5;66;03m# TODO(mamu): Handle multi-objective cases.\u001b[39;00m\n\u001b[1;32m    200\u001b[0m         state \u001b[38;5;241m=\u001b[39m TrialState\u001b[38;5;241m.\u001b[39mPRUNED\n",
      "Cell \u001b[0;32mIn[5], line 49\u001b[0m, in \u001b[0;36mmake_objective.<locals>.objective\u001b[0;34m(trial)\u001b[0m\n\u001b[1;32m     46\u001b[0m worker\u001b[38;5;241m.\u001b[39mreload_data(subset\u001b[38;5;241m=\u001b[39m\u001b[38;5;124m\"\u001b[39m\u001b[38;5;124mgen_\u001b[39m\u001b[38;5;124m\"\u001b[39m \u001b[38;5;241m+\u001b[39m pdb_id\u001b[38;5;241m.\u001b[39mlower())\n\u001b[1;32m     48\u001b[0m \u001b[38;5;66;03m# Run sampling\u001b[39;00m\n\u001b[0;32m---> 49\u001b[0m final_smiles \u001b[38;5;241m=\u001b[39m \u001b[43mworker\u001b[49m\u001b[38;5;241;43m.\u001b[39;49m\u001b[43msample\u001b[49m\u001b[43m(\u001b[49m\n\u001b[1;32m     50\u001b[0m \u001b[43m    \u001b[49m\u001b[43mm_sample\u001b[49m\u001b[38;5;241;43m=\u001b[39;49m\u001b[43mm_sample\u001b[49m\u001b[43m,\u001b[49m\n\u001b[1;32m     51\u001b[0m \u001b[43m    \u001b[49m\u001b[43mnum_iter\u001b[49m\u001b[38;5;241;43m=\u001b[39;49m\u001b[43mnum_iter\u001b[49m\u001b[43m,\u001b[49m\n\u001b[1;32m     52\u001b[0m \u001b[43m    \u001b[49m\u001b[43mlatent_dim\u001b[49m\u001b[38;5;241;43m=\u001b[39;49m\u001b[43mlatent_dim\u001b[49m\u001b[43m,\u001b[49m\n\u001b[1;32m     53\u001b[0m \u001b[43m    \u001b[49m\u001b[43malpha\u001b[49m\u001b[38;5;241;43m=\u001b[39;49m\u001b[43malpha\u001b[49m\u001b[43m,\u001b[49m\n\u001b[1;32m     54\u001b[0m \u001b[43m    \u001b[49m\u001b[43mtop_k\u001b[49m\u001b[38;5;241;43m=\u001b[39;49m\u001b[43mtop_k\u001b[49m\u001b[43m,\u001b[49m\n\u001b[1;32m     55\u001b[0m \u001b[43m    \u001b[49m\u001b[43mlambda_sas\u001b[49m\u001b[38;5;241;43m=\u001b[39;49m\u001b[43mlambda_sas\u001b[49m\u001b[43m,\u001b[49m\n\u001b[1;32m     56\u001b[0m \u001b[43m    \u001b[49m\u001b[43mlambda_logp\u001b[49m\u001b[38;5;241;43m=\u001b[39;49m\u001b[43mlambda_logp\u001b[49m\u001b[43m,\u001b[49m\n\u001b[1;32m     57\u001b[0m \u001b[43m    \u001b[49m\u001b[43mlambda_mw\u001b[49m\u001b[38;5;241;43m=\u001b[39;49m\u001b[43mlambda_mw\u001b[49m\u001b[43m,\u001b[49m\n\u001b[1;32m     58\u001b[0m \u001b[43m    \u001b[49m\u001b[43mmaxseed\u001b[49m\u001b[38;5;241;43m=\u001b[39;49m\u001b[43mmaxseed\u001b[49m\u001b[43m,\u001b[49m\n\u001b[1;32m     59\u001b[0m \u001b[43m    \u001b[49m\u001b[43muse_cuda\u001b[49m\u001b[38;5;241;43m=\u001b[39;49m\u001b[43mtorch\u001b[49m\u001b[38;5;241;43m.\u001b[39;49m\u001b[43mcuda\u001b[49m\u001b[38;5;241;43m.\u001b[39;49m\u001b[43mis_available\u001b[49m\u001b[43m(\u001b[49m\u001b[43m)\u001b[49m\u001b[43m,\u001b[49m\n\u001b[1;32m     60\u001b[0m \u001b[43m    \u001b[49m\u001b[43mdocking_weight\u001b[49m\u001b[38;5;241;43m=\u001b[39;49m\u001b[43mdocking_weight\u001b[49m\u001b[43m,\u001b[49m\n\u001b[1;32m     61\u001b[0m \u001b[43m    \u001b[49m\u001b[43mdiversity_weight\u001b[49m\u001b[38;5;241;43m=\u001b[39;49m\u001b[43mdiversity_weight\u001b[49m\n\u001b[1;32m     62\u001b[0m \u001b[43m\u001b[49m\u001b[43m)\u001b[49m\n\u001b[1;32m     64\u001b[0m \u001b[38;5;66;03m# Evaluate and log results\u001b[39;00m\n\u001b[1;32m     65\u001b[0m result \u001b[38;5;241m=\u001b[39m summarize(final_smiles)\n",
      "File \u001b[0;32m/workspace/workspace/TamGen/TamGen_RL.py:145\u001b[0m, in \u001b[0;36mTamGenRL.sample\u001b[0;34m(self, m_sample, num_iter, alpha, top_k, lambda_sas, lambda_logp, lambda_mw, maxseed, use_cuda, batch_size, adaptive_alpha, save_intermediates, diversity_target, **kwargs)\u001b[0m\n\u001b[1;32m    137\u001b[0m     z_vectors, smiles_list \u001b[38;5;241m=\u001b[39m \u001b[38;5;28mself\u001b[39m\u001b[38;5;241m.\u001b[39m_initial_generation(\n\u001b[1;32m    138\u001b[0m         m_sample\u001b[38;5;241m=\u001b[39mm_sample,\n\u001b[1;32m    139\u001b[0m         maxseed\u001b[38;5;241m=\u001b[39mmaxseed,\n\u001b[1;32m    140\u001b[0m         use_cuda\u001b[38;5;241m=\u001b[39muse_cuda,\n\u001b[1;32m    141\u001b[0m         diversity_target\u001b[38;5;241m=\u001b[39mdiversity_target\n\u001b[1;32m    142\u001b[0m     )\n\u001b[1;32m    143\u001b[0m \u001b[38;5;28;01melse\u001b[39;00m:\n\u001b[1;32m    144\u001b[0m     \u001b[38;5;66;03m# Generate from optimized latent vectors\u001b[39;00m\n\u001b[0;32m--> 145\u001b[0m     smiles_list \u001b[38;5;241m=\u001b[39m \u001b[38;5;28;43mself\u001b[39;49m\u001b[38;5;241;43m.\u001b[39;49m\u001b[43m_generate_from_latents\u001b[49m\u001b[43m(\u001b[49m\n\u001b[1;32m    146\u001b[0m \u001b[43m        \u001b[49m\u001b[43mz_vectors\u001b[49m\u001b[38;5;241;43m=\u001b[39;49m\u001b[43mz_vectors\u001b[49m\u001b[43m,\u001b[49m\n\u001b[1;32m    147\u001b[0m \u001b[43m        \u001b[49m\u001b[43mbatch_size\u001b[49m\u001b[38;5;241;43m=\u001b[39;49m\u001b[43mbatch_size\u001b[49m\u001b[43m,\u001b[49m\n\u001b[1;32m    148\u001b[0m \u001b[43m        \u001b[49m\u001b[43muse_cuda\u001b[49m\u001b[38;5;241;43m=\u001b[39;49m\u001b[43muse_cuda\u001b[49m\n\u001b[1;32m    149\u001b[0m \u001b[43m    \u001b[49m\u001b[43m)\u001b[49m\n\u001b[1;32m    151\u001b[0m     \u001b[38;5;66;03m# Update z_vectors to match successful generations\u001b[39;00m\n\u001b[1;32m    152\u001b[0m     z_vectors \u001b[38;5;241m=\u001b[39m z_vectors[:\u001b[38;5;28mlen\u001b[39m(smiles_list)]\n",
      "File \u001b[0;32m/workspace/workspace/TamGen/TamGen_RL.py:366\u001b[0m, in \u001b[0;36mTamGenRL._generate_from_latents\u001b[0;34m(self, z_vectors, batch_size, use_cuda)\u001b[0m\n\u001b[1;32m    363\u001b[0m batch_z \u001b[38;5;241m=\u001b[39m z_vectors[start_idx:end_idx]\n\u001b[1;32m    365\u001b[0m \u001b[38;5;28;01mtry\u001b[39;00m:\n\u001b[0;32m--> 366\u001b[0m     batch_results \u001b[38;5;241m=\u001b[39m \u001b[38;5;28;43mself\u001b[39;49m\u001b[38;5;241;43m.\u001b[39;49m\u001b[43m_generate_batch_with_latent_injection\u001b[49m\u001b[43m(\u001b[49m\n\u001b[1;32m    367\u001b[0m \u001b[43m        \u001b[49m\u001b[43mbatch_z\u001b[49m\u001b[43m,\u001b[49m\u001b[43m \u001b[49m\u001b[43mprotein_input\u001b[49m\u001b[43m,\u001b[49m\u001b[43m \u001b[49m\u001b[43muse_cuda\u001b[49m\n\u001b[1;32m    368\u001b[0m \u001b[43m    \u001b[49m\u001b[43m)\u001b[49m\n\u001b[1;32m    369\u001b[0m     all_results\u001b[38;5;241m.\u001b[39mextend(batch_results)\n\u001b[1;32m    371\u001b[0m \u001b[38;5;28;01mexcept\u001b[39;00m \u001b[38;5;167;01mRuntimeError\u001b[39;00m \u001b[38;5;28;01mas\u001b[39;00m e:\n",
      "File \u001b[0;32m/workspace/workspace/TamGen/TamGen_RL.py:457\u001b[0m, in \u001b[0;36mTamGenRL._generate_batch_with_latent_injection\u001b[0;34m(self, z_batch, protein_input, use_cuda)\u001b[0m\n\u001b[1;32m    455\u001b[0m     \u001b[38;5;66;03m# Generate with modified encoder output\u001b[39;00m\n\u001b[1;32m    456\u001b[0m     prefix_tokens \u001b[38;5;241m=\u001b[39m \u001b[38;5;28;01mNone\u001b[39;00m\n\u001b[0;32m--> 457\u001b[0m     hypos \u001b[38;5;241m=\u001b[39m \u001b[38;5;28;43mself\u001b[39;49m\u001b[38;5;241;43m.\u001b[39;49m\u001b[43mtask\u001b[49m\u001b[38;5;241;43m.\u001b[39;49m\u001b[43minference_step\u001b[49m\u001b[43m(\u001b[49m\u001b[38;5;28;43mself\u001b[39;49m\u001b[38;5;241;43m.\u001b[39;49m\u001b[43mgenerator\u001b[49m\u001b[43m,\u001b[49m\u001b[43m \u001b[49m\u001b[38;5;28;43mself\u001b[39;49m\u001b[38;5;241;43m.\u001b[39;49m\u001b[43mmodels\u001b[49m\u001b[43m,\u001b[49m\u001b[43m \u001b[49m\u001b[43msample\u001b[49m\u001b[43m,\u001b[49m\u001b[43m \u001b[49m\u001b[43mprefix_tokens\u001b[49m\u001b[43m)\u001b[49m\n\u001b[1;32m    459\u001b[0m \u001b[38;5;28;01mexcept\u001b[39;00m \u001b[38;5;167;01mException\u001b[39;00m \u001b[38;5;28;01mas\u001b[39;00m e:\n\u001b[1;32m    460\u001b[0m     logging\u001b[38;5;241m.\u001b[39merror(\u001b[38;5;124mf\u001b[39m\u001b[38;5;124m\"\u001b[39m\u001b[38;5;124mLatent injection failed: \u001b[39m\u001b[38;5;132;01m{\u001b[39;00me\u001b[38;5;132;01m}\u001b[39;00m\u001b[38;5;124m\"\u001b[39m)\n",
      "File \u001b[0;32m/workspace/workspace/TamGen/fairseq/tasks/fairseq_task.py:244\u001b[0m, in \u001b[0;36mFairseqTask.inference_step\u001b[0;34m(self, generator, models, sample, prefix_tokens)\u001b[0m\n\u001b[1;32m    242\u001b[0m \u001b[38;5;28;01mdef\u001b[39;00m\u001b[38;5;250m \u001b[39m\u001b[38;5;21minference_step\u001b[39m(\u001b[38;5;28mself\u001b[39m, generator, models, sample, prefix_tokens\u001b[38;5;241m=\u001b[39m\u001b[38;5;28;01mNone\u001b[39;00m):\n\u001b[1;32m    243\u001b[0m     \u001b[38;5;28;01mwith\u001b[39;00m torch\u001b[38;5;241m.\u001b[39mno_grad():\n\u001b[0;32m--> 244\u001b[0m         \u001b[38;5;28;01mreturn\u001b[39;00m \u001b[43mgenerator\u001b[49m\u001b[38;5;241;43m.\u001b[39;49m\u001b[43mgenerate\u001b[49m\u001b[43m(\u001b[49m\u001b[43mmodels\u001b[49m\u001b[43m,\u001b[49m\u001b[43m \u001b[49m\u001b[43msample\u001b[49m\u001b[43m,\u001b[49m\u001b[43m \u001b[49m\u001b[43mprefix_tokens\u001b[49m\u001b[38;5;241;43m=\u001b[39;49m\u001b[43mprefix_tokens\u001b[49m\u001b[43m)\u001b[49m\n",
      "File \u001b[0;32m~/miniconda3/envs/TamGen/lib/python3.9/site-packages/torch/utils/_contextlib.py:116\u001b[0m, in \u001b[0;36mcontext_decorator.<locals>.decorate_context\u001b[0;34m(*args, **kwargs)\u001b[0m\n\u001b[1;32m    113\u001b[0m \u001b[38;5;129m@functools\u001b[39m\u001b[38;5;241m.\u001b[39mwraps(func)\n\u001b[1;32m    114\u001b[0m \u001b[38;5;28;01mdef\u001b[39;00m\u001b[38;5;250m \u001b[39m\u001b[38;5;21mdecorate_context\u001b[39m(\u001b[38;5;241m*\u001b[39margs, \u001b[38;5;241m*\u001b[39m\u001b[38;5;241m*\u001b[39mkwargs):\n\u001b[1;32m    115\u001b[0m     \u001b[38;5;28;01mwith\u001b[39;00m ctx_factory():\n\u001b[0;32m--> 116\u001b[0m         \u001b[38;5;28;01mreturn\u001b[39;00m \u001b[43mfunc\u001b[49m\u001b[43m(\u001b[49m\u001b[38;5;241;43m*\u001b[39;49m\u001b[43margs\u001b[49m\u001b[43m,\u001b[49m\u001b[43m \u001b[49m\u001b[38;5;241;43m*\u001b[39;49m\u001b[38;5;241;43m*\u001b[39;49m\u001b[43mkwargs\u001b[49m\u001b[43m)\u001b[49m\n",
      "File \u001b[0;32m/workspace/workspace/TamGen/fairseq/sequence_generator.py:292\u001b[0m, in \u001b[0;36mSequenceGenerator.generate\u001b[0;34m(self, models, sample, prefix_tokens, bos_token, **kwargs)\u001b[0m\n\u001b[1;32m    289\u001b[0m     model\u001b[38;5;241m.\u001b[39mreorder_incremental_state(reorder_state)\n\u001b[1;32m    290\u001b[0m     encoder_outs \u001b[38;5;241m=\u001b[39m model\u001b[38;5;241m.\u001b[39mreorder_encoder_out(encoder_outs, reorder_state)\n\u001b[0;32m--> 292\u001b[0m lprobs, avg_attn_scores \u001b[38;5;241m=\u001b[39m \u001b[43mmodel\u001b[49m\u001b[38;5;241;43m.\u001b[39;49m\u001b[43mforward_decoder\u001b[49m\u001b[43m(\u001b[49m\n\u001b[1;32m    293\u001b[0m \u001b[43m    \u001b[49m\u001b[43mtokens\u001b[49m\u001b[43m[\u001b[49m\u001b[43m:\u001b[49m\u001b[43m,\u001b[49m\u001b[43m \u001b[49m\u001b[43m:\u001b[49m\u001b[43mstep\u001b[49m\u001b[43m \u001b[49m\u001b[38;5;241;43m+\u001b[39;49m\u001b[43m \u001b[49m\u001b[38;5;241;43m1\u001b[39;49m\u001b[43m]\u001b[49m\u001b[43m,\u001b[49m\u001b[43m \u001b[49m\u001b[43mencoder_outs\u001b[49m\u001b[43m,\u001b[49m\u001b[43m \u001b[49m\u001b[43mtemperature\u001b[49m\u001b[38;5;241;43m=\u001b[39;49m\u001b[38;5;28;43mself\u001b[39;49m\u001b[38;5;241;43m.\u001b[39;49m\u001b[43mtemperature\u001b[49m\u001b[43m,\u001b[49m\n\u001b[1;32m    294\u001b[0m \u001b[43m\u001b[49m\u001b[43m)\u001b[49m\n\u001b[1;32m    296\u001b[0m lprobs[:, \u001b[38;5;28mself\u001b[39m\u001b[38;5;241m.\u001b[39mpad] \u001b[38;5;241m=\u001b[39m \u001b[38;5;241m-\u001b[39mmath\u001b[38;5;241m.\u001b[39minf  \u001b[38;5;66;03m# never select pad\u001b[39;00m\n\u001b[1;32m    297\u001b[0m lprobs[:, \u001b[38;5;28mself\u001b[39m\u001b[38;5;241m.\u001b[39munk] \u001b[38;5;241m-\u001b[39m\u001b[38;5;241m=\u001b[39m \u001b[38;5;28mself\u001b[39m\u001b[38;5;241m.\u001b[39munk_penalty  \u001b[38;5;66;03m# apply unk penalty\u001b[39;00m\n",
      "File \u001b[0;32m~/miniconda3/envs/TamGen/lib/python3.9/site-packages/torch/utils/_contextlib.py:116\u001b[0m, in \u001b[0;36mcontext_decorator.<locals>.decorate_context\u001b[0;34m(*args, **kwargs)\u001b[0m\n\u001b[1;32m    113\u001b[0m \u001b[38;5;129m@functools\u001b[39m\u001b[38;5;241m.\u001b[39mwraps(func)\n\u001b[1;32m    114\u001b[0m \u001b[38;5;28;01mdef\u001b[39;00m\u001b[38;5;250m \u001b[39m\u001b[38;5;21mdecorate_context\u001b[39m(\u001b[38;5;241m*\u001b[39margs, \u001b[38;5;241m*\u001b[39m\u001b[38;5;241m*\u001b[39mkwargs):\n\u001b[1;32m    115\u001b[0m     \u001b[38;5;28;01mwith\u001b[39;00m ctx_factory():\n\u001b[0;32m--> 116\u001b[0m         \u001b[38;5;28;01mreturn\u001b[39;00m \u001b[43mfunc\u001b[49m\u001b[43m(\u001b[49m\u001b[38;5;241;43m*\u001b[39;49m\u001b[43margs\u001b[49m\u001b[43m,\u001b[49m\u001b[43m \u001b[49m\u001b[38;5;241;43m*\u001b[39;49m\u001b[38;5;241;43m*\u001b[39;49m\u001b[43mkwargs\u001b[49m\u001b[43m)\u001b[49m\n",
      "File \u001b[0;32m/workspace/workspace/TamGen/fairseq/sequence_generator.py:545\u001b[0m, in \u001b[0;36mEnsembleModel.forward_decoder\u001b[0;34m(self, tokens, encoder_outs, temperature)\u001b[0m\n\u001b[1;32m    542\u001b[0m \u001b[38;5;129m@torch\u001b[39m\u001b[38;5;241m.\u001b[39mno_grad()\n\u001b[1;32m    543\u001b[0m \u001b[38;5;28;01mdef\u001b[39;00m\u001b[38;5;250m \u001b[39m\u001b[38;5;21mforward_decoder\u001b[39m(\u001b[38;5;28mself\u001b[39m, tokens, encoder_outs, temperature\u001b[38;5;241m=\u001b[39m\u001b[38;5;241m1.\u001b[39m):\n\u001b[1;32m    544\u001b[0m     \u001b[38;5;28;01mif\u001b[39;00m \u001b[38;5;28mlen\u001b[39m(\u001b[38;5;28mself\u001b[39m\u001b[38;5;241m.\u001b[39mmodels) \u001b[38;5;241m==\u001b[39m \u001b[38;5;241m1\u001b[39m:\n\u001b[0;32m--> 545\u001b[0m         \u001b[38;5;28;01mreturn\u001b[39;00m \u001b[38;5;28;43mself\u001b[39;49m\u001b[38;5;241;43m.\u001b[39;49m\u001b[43m_decode_one\u001b[49m\u001b[43m(\u001b[49m\n\u001b[1;32m    546\u001b[0m \u001b[43m            \u001b[49m\u001b[43mtokens\u001b[49m\u001b[43m,\u001b[49m\n\u001b[1;32m    547\u001b[0m \u001b[43m            \u001b[49m\u001b[38;5;28;43mself\u001b[39;49m\u001b[38;5;241;43m.\u001b[39;49m\u001b[43mmodels\u001b[49m\u001b[43m[\u001b[49m\u001b[38;5;241;43m0\u001b[39;49m\u001b[43m]\u001b[49m\u001b[43m,\u001b[49m\n\u001b[1;32m    548\u001b[0m \u001b[43m            \u001b[49m\u001b[43mencoder_outs\u001b[49m\u001b[43m[\u001b[49m\u001b[38;5;241;43m0\u001b[39;49m\u001b[43m]\u001b[49m\u001b[43m \u001b[49m\u001b[38;5;28;43;01mif\u001b[39;49;00m\u001b[43m \u001b[49m\u001b[38;5;28;43mself\u001b[39;49m\u001b[38;5;241;43m.\u001b[39;49m\u001b[43mhas_encoder\u001b[49m\u001b[43m(\u001b[49m\u001b[43m)\u001b[49m\u001b[43m \u001b[49m\u001b[38;5;28;43;01melse\u001b[39;49;00m\u001b[43m \u001b[49m\u001b[38;5;28;43;01mNone\u001b[39;49;00m\u001b[43m,\u001b[49m\n\u001b[1;32m    549\u001b[0m \u001b[43m            \u001b[49m\u001b[38;5;28;43mself\u001b[39;49m\u001b[38;5;241;43m.\u001b[39;49m\u001b[43mincremental_states\u001b[49m\u001b[43m,\u001b[49m\n\u001b[1;32m    550\u001b[0m \u001b[43m            \u001b[49m\u001b[43mlog_probs\u001b[49m\u001b[38;5;241;43m=\u001b[39;49m\u001b[38;5;28;43;01mTrue\u001b[39;49;00m\u001b[43m,\u001b[49m\n\u001b[1;32m    551\u001b[0m \u001b[43m            \u001b[49m\u001b[43mtemperature\u001b[49m\u001b[38;5;241;43m=\u001b[39;49m\u001b[43mtemperature\u001b[49m\u001b[43m,\u001b[49m\n\u001b[1;32m    552\u001b[0m \u001b[43m        \u001b[49m\u001b[43m)\u001b[49m\n\u001b[1;32m    554\u001b[0m     log_probs \u001b[38;5;241m=\u001b[39m []\n\u001b[1;32m    555\u001b[0m     avg_attn \u001b[38;5;241m=\u001b[39m \u001b[38;5;28;01mNone\u001b[39;00m\n",
      "File \u001b[0;32m/workspace/workspace/TamGen/fairseq/sequence_generator.py:581\u001b[0m, in \u001b[0;36mEnsembleModel._decode_one\u001b[0;34m(self, tokens, model, encoder_out, incremental_states, log_probs, temperature)\u001b[0m\n\u001b[1;32m    576\u001b[0m \u001b[38;5;28;01mdef\u001b[39;00m\u001b[38;5;250m \u001b[39m\u001b[38;5;21m_decode_one\u001b[39m(\n\u001b[1;32m    577\u001b[0m     \u001b[38;5;28mself\u001b[39m, tokens, model, encoder_out, incremental_states, log_probs,\n\u001b[1;32m    578\u001b[0m     temperature\u001b[38;5;241m=\u001b[39m\u001b[38;5;241m1.\u001b[39m,\n\u001b[1;32m    579\u001b[0m ):\n\u001b[1;32m    580\u001b[0m     \u001b[38;5;28;01mif\u001b[39;00m \u001b[38;5;28mself\u001b[39m\u001b[38;5;241m.\u001b[39mincremental_states \u001b[38;5;129;01mis\u001b[39;00m \u001b[38;5;129;01mnot\u001b[39;00m \u001b[38;5;28;01mNone\u001b[39;00m:\n\u001b[0;32m--> 581\u001b[0m         decoder_out \u001b[38;5;241m=\u001b[39m \u001b[38;5;28mlist\u001b[39m(\u001b[43mmodel\u001b[49m\u001b[38;5;241;43m.\u001b[39;49m\u001b[43mdecoder\u001b[49m\u001b[43m(\u001b[49m\u001b[43mtokens\u001b[49m\u001b[43m,\u001b[49m\u001b[43m \u001b[49m\u001b[43mencoder_out\u001b[49m\u001b[43m,\u001b[49m\u001b[43m \u001b[49m\u001b[43mincremental_state\u001b[49m\u001b[38;5;241;43m=\u001b[39;49m\u001b[38;5;28;43mself\u001b[39;49m\u001b[38;5;241;43m.\u001b[39;49m\u001b[43mincremental_states\u001b[49m\u001b[43m[\u001b[49m\u001b[43mmodel\u001b[49m\u001b[43m]\u001b[49m\u001b[43m)\u001b[49m)\n\u001b[1;32m    582\u001b[0m     \u001b[38;5;28;01melse\u001b[39;00m:\n\u001b[1;32m    583\u001b[0m         decoder_out \u001b[38;5;241m=\u001b[39m \u001b[38;5;28mlist\u001b[39m(model\u001b[38;5;241m.\u001b[39mdecoder(tokens, encoder_out))\n",
      "File \u001b[0;32m~/miniconda3/envs/TamGen/lib/python3.9/site-packages/torch/nn/modules/module.py:1767\u001b[0m, in \u001b[0;36mModule._wrapped_call_impl\u001b[0;34m(self, *args, **kwargs)\u001b[0m\n\u001b[1;32m   1765\u001b[0m     \u001b[38;5;28;01mreturn\u001b[39;00m \u001b[38;5;28mself\u001b[39m\u001b[38;5;241m.\u001b[39m_compiled_call_impl(\u001b[38;5;241m*\u001b[39margs, \u001b[38;5;241m*\u001b[39m\u001b[38;5;241m*\u001b[39mkwargs)  \u001b[38;5;66;03m# type: ignore[misc]\u001b[39;00m\n\u001b[1;32m   1766\u001b[0m \u001b[38;5;28;01melse\u001b[39;00m:\n\u001b[0;32m-> 1767\u001b[0m     \u001b[38;5;28;01mreturn\u001b[39;00m \u001b[38;5;28;43mself\u001b[39;49m\u001b[38;5;241;43m.\u001b[39;49m\u001b[43m_call_impl\u001b[49m\u001b[43m(\u001b[49m\u001b[38;5;241;43m*\u001b[39;49m\u001b[43margs\u001b[49m\u001b[43m,\u001b[49m\u001b[43m \u001b[49m\u001b[38;5;241;43m*\u001b[39;49m\u001b[38;5;241;43m*\u001b[39;49m\u001b[43mkwargs\u001b[49m\u001b[43m)\u001b[49m\n",
      "File \u001b[0;32m~/miniconda3/envs/TamGen/lib/python3.9/site-packages/torch/nn/modules/module.py:1778\u001b[0m, in \u001b[0;36mModule._call_impl\u001b[0;34m(self, *args, **kwargs)\u001b[0m\n\u001b[1;32m   1773\u001b[0m \u001b[38;5;66;03m# If we don't have any hooks, we want to skip the rest of the logic in\u001b[39;00m\n\u001b[1;32m   1774\u001b[0m \u001b[38;5;66;03m# this function, and just call forward.\u001b[39;00m\n\u001b[1;32m   1775\u001b[0m \u001b[38;5;28;01mif\u001b[39;00m \u001b[38;5;129;01mnot\u001b[39;00m (\u001b[38;5;28mself\u001b[39m\u001b[38;5;241m.\u001b[39m_backward_hooks \u001b[38;5;129;01mor\u001b[39;00m \u001b[38;5;28mself\u001b[39m\u001b[38;5;241m.\u001b[39m_backward_pre_hooks \u001b[38;5;129;01mor\u001b[39;00m \u001b[38;5;28mself\u001b[39m\u001b[38;5;241m.\u001b[39m_forward_hooks \u001b[38;5;129;01mor\u001b[39;00m \u001b[38;5;28mself\u001b[39m\u001b[38;5;241m.\u001b[39m_forward_pre_hooks\n\u001b[1;32m   1776\u001b[0m         \u001b[38;5;129;01mor\u001b[39;00m _global_backward_pre_hooks \u001b[38;5;129;01mor\u001b[39;00m _global_backward_hooks\n\u001b[1;32m   1777\u001b[0m         \u001b[38;5;129;01mor\u001b[39;00m _global_forward_hooks \u001b[38;5;129;01mor\u001b[39;00m _global_forward_pre_hooks):\n\u001b[0;32m-> 1778\u001b[0m     \u001b[38;5;28;01mreturn\u001b[39;00m \u001b[43mforward_call\u001b[49m\u001b[43m(\u001b[49m\u001b[38;5;241;43m*\u001b[39;49m\u001b[43margs\u001b[49m\u001b[43m,\u001b[49m\u001b[43m \u001b[49m\u001b[38;5;241;43m*\u001b[39;49m\u001b[38;5;241;43m*\u001b[39;49m\u001b[43mkwargs\u001b[49m\u001b[43m)\u001b[49m\n\u001b[1;32m   1780\u001b[0m result \u001b[38;5;241m=\u001b[39m \u001b[38;5;28;01mNone\u001b[39;00m\n\u001b[1;32m   1781\u001b[0m called_always_called_hooks \u001b[38;5;241m=\u001b[39m \u001b[38;5;28mset\u001b[39m()\n",
      "File \u001b[0;32m/workspace/workspace/TamGen/fairseq/models/tgt2drug/transformer_3d.py:580\u001b[0m, in \u001b[0;36mTransformerDecoderFromPretrained.forward\u001b[0;34m(self, prev_output_tokens, encoder_out, features_only, alignment_layer, alignment_heads, src_lengths, return_all_hiddens, **unused)\u001b[0m\n\u001b[1;32m    577\u001b[0m tgt_len \u001b[38;5;241m=\u001b[39m prev_output_tokens\u001b[38;5;241m.\u001b[39msize(\u001b[38;5;241m1\u001b[39m)\n\u001b[1;32m    578\u001b[0m mask \u001b[38;5;241m=\u001b[39m torch\u001b[38;5;241m.\u001b[39mtril(torch\u001b[38;5;241m.\u001b[39mones((tgt_len, tgt_len), dtype\u001b[38;5;241m=\u001b[39mtorch\u001b[38;5;241m.\u001b[39mbool, device\u001b[38;5;241m=\u001b[39mprev_output_tokens\u001b[38;5;241m.\u001b[39mdevice))\n\u001b[0;32m--> 580\u001b[0m \u001b[38;5;28;01mreturn\u001b[39;00m \u001b[38;5;28;43msuper\u001b[39;49m\u001b[43m(\u001b[49m\u001b[43m)\u001b[49m\u001b[38;5;241;43m.\u001b[39;49m\u001b[43mforward\u001b[49m\u001b[43m(\u001b[49m\n\u001b[1;32m    581\u001b[0m \u001b[43m    \u001b[49m\u001b[43mprev_output_tokens\u001b[49m\u001b[43m,\u001b[49m\n\u001b[1;32m    582\u001b[0m \u001b[43m    \u001b[49m\u001b[43mencoder_out\u001b[49m\u001b[38;5;241;43m=\u001b[39;49m\u001b[43mencoder_out\u001b[49m\u001b[43m,\u001b[49m\n\u001b[1;32m    583\u001b[0m \u001b[43m    \u001b[49m\u001b[43mfeatures_only\u001b[49m\u001b[38;5;241;43m=\u001b[39;49m\u001b[43mfeatures_only\u001b[49m\u001b[43m,\u001b[49m\n\u001b[1;32m    584\u001b[0m \u001b[43m    \u001b[49m\u001b[43malignment_layer\u001b[49m\u001b[38;5;241;43m=\u001b[39;49m\u001b[43malignment_layer\u001b[49m\u001b[43m,\u001b[49m\n\u001b[1;32m    585\u001b[0m \u001b[43m    \u001b[49m\u001b[43malignment_heads\u001b[49m\u001b[38;5;241;43m=\u001b[39;49m\u001b[43malignment_heads\u001b[49m\u001b[43m,\u001b[49m\n\u001b[1;32m    586\u001b[0m \u001b[43m    \u001b[49m\u001b[43msrc_lengths\u001b[49m\u001b[38;5;241;43m=\u001b[39;49m\u001b[43msrc_lengths\u001b[49m\u001b[43m,\u001b[49m\n\u001b[1;32m    587\u001b[0m \u001b[43m    \u001b[49m\u001b[43mreturn_all_hiddens\u001b[49m\u001b[38;5;241;43m=\u001b[39;49m\u001b[43mreturn_all_hiddens\u001b[49m\u001b[43m,\u001b[49m\n\u001b[1;32m    588\u001b[0m \u001b[43m    \u001b[49m\u001b[43mmask\u001b[49m\u001b[38;5;241;43m=\u001b[39;49m\u001b[43mmask\u001b[49m\u001b[43m,\u001b[49m\n\u001b[1;32m    589\u001b[0m \u001b[43m    \u001b[49m\u001b[38;5;241;43m*\u001b[39;49m\u001b[38;5;241;43m*\u001b[39;49m\u001b[43munused\u001b[49m\u001b[43m,\u001b[49m\n\u001b[1;32m    590\u001b[0m \u001b[43m\u001b[49m\u001b[43m)\u001b[49m\n",
      "File \u001b[0;32m/workspace/workspace/TamGen/fairseq/models/transformer.py:393\u001b[0m, in \u001b[0;36mTransformerDecoder.forward\u001b[0;34m(self, prev_output_tokens, encoder_out, incremental_state, **unused)\u001b[0m\n\u001b[1;32m    378\u001b[0m \u001b[38;5;28;01mdef\u001b[39;00m\u001b[38;5;250m \u001b[39m\u001b[38;5;21mforward\u001b[39m(\u001b[38;5;28mself\u001b[39m, prev_output_tokens, encoder_out\u001b[38;5;241m=\u001b[39m\u001b[38;5;28;01mNone\u001b[39;00m, incremental_state\u001b[38;5;241m=\u001b[39m\u001b[38;5;28;01mNone\u001b[39;00m, \u001b[38;5;241m*\u001b[39m\u001b[38;5;241m*\u001b[39munused):\n\u001b[1;32m    379\u001b[0m \u001b[38;5;250m    \u001b[39m\u001b[38;5;124;03m\"\"\"\u001b[39;00m\n\u001b[1;32m    380\u001b[0m \u001b[38;5;124;03m    Args:\u001b[39;00m\n\u001b[1;32m    381\u001b[0m \u001b[38;5;124;03m        prev_output_tokens (LongTensor): previous decoder outputs of shape\u001b[39;00m\n\u001b[0;32m   (...)\u001b[0m\n\u001b[1;32m    391\u001b[0m \u001b[38;5;124;03m            - a dictionary with any model-specific outputs\u001b[39;00m\n\u001b[1;32m    392\u001b[0m \u001b[38;5;124;03m    \"\"\"\u001b[39;00m\n\u001b[0;32m--> 393\u001b[0m     x, extra \u001b[38;5;241m=\u001b[39m \u001b[38;5;28;43mself\u001b[39;49m\u001b[38;5;241;43m.\u001b[39;49m\u001b[43mextract_features\u001b[49m\u001b[43m(\u001b[49m\u001b[43mprev_output_tokens\u001b[49m\u001b[43m,\u001b[49m\u001b[43m \u001b[49m\u001b[43mencoder_out\u001b[49m\u001b[43m,\u001b[49m\u001b[43m \u001b[49m\u001b[43mincremental_state\u001b[49m\u001b[43m)\u001b[49m\n\u001b[1;32m    394\u001b[0m     x \u001b[38;5;241m=\u001b[39m \u001b[38;5;28mself\u001b[39m\u001b[38;5;241m.\u001b[39moutput_layer(x)\n\u001b[1;32m    395\u001b[0m     \u001b[38;5;28;01mreturn\u001b[39;00m x, extra\n",
      "File \u001b[0;32m/workspace/workspace/TamGen/fairseq/models/transformer.py:435\u001b[0m, in \u001b[0;36mTransformerDecoder.extract_features\u001b[0;34m(self, prev_output_tokens, encoder_out, incremental_state, **unused)\u001b[0m\n\u001b[1;32m    433\u001b[0m \u001b[38;5;66;03m# decoder layers\u001b[39;00m\n\u001b[1;32m    434\u001b[0m \u001b[38;5;28;01mfor\u001b[39;00m layer \u001b[38;5;129;01min\u001b[39;00m \u001b[38;5;28mself\u001b[39m\u001b[38;5;241m.\u001b[39mlayers:\n\u001b[0;32m--> 435\u001b[0m     x, attn \u001b[38;5;241m=\u001b[39m \u001b[43mlayer\u001b[49m\u001b[43m(\u001b[49m\n\u001b[1;32m    436\u001b[0m \u001b[43m        \u001b[49m\u001b[43mx\u001b[49m\u001b[43m,\u001b[49m\n\u001b[1;32m    437\u001b[0m \u001b[43m        \u001b[49m\u001b[43mencoder_out\u001b[49m\u001b[43m[\u001b[49m\u001b[38;5;124;43m'\u001b[39;49m\u001b[38;5;124;43mencoder_out\u001b[39;49m\u001b[38;5;124;43m'\u001b[39;49m\u001b[43m]\u001b[49m\u001b[43m \u001b[49m\u001b[38;5;28;43;01mif\u001b[39;49;00m\u001b[43m \u001b[49m\u001b[43mencoder_out\u001b[49m\u001b[43m \u001b[49m\u001b[38;5;129;43;01mis\u001b[39;49;00m\u001b[43m \u001b[49m\u001b[38;5;129;43;01mnot\u001b[39;49;00m\u001b[43m \u001b[49m\u001b[38;5;28;43;01mNone\u001b[39;49;00m\u001b[43m \u001b[49m\u001b[38;5;28;43;01melse\u001b[39;49;00m\u001b[43m \u001b[49m\u001b[38;5;28;43;01mNone\u001b[39;49;00m\u001b[43m,\u001b[49m\n\u001b[1;32m    438\u001b[0m \u001b[43m        \u001b[49m\u001b[43mencoder_out\u001b[49m\u001b[43m[\u001b[49m\u001b[38;5;124;43m'\u001b[39;49m\u001b[38;5;124;43mencoder_padding_mask\u001b[39;49m\u001b[38;5;124;43m'\u001b[39;49m\u001b[43m]\u001b[49m\u001b[43m \u001b[49m\u001b[38;5;28;43;01mif\u001b[39;49;00m\u001b[43m \u001b[49m\u001b[43mencoder_out\u001b[49m\u001b[43m \u001b[49m\u001b[38;5;129;43;01mis\u001b[39;49;00m\u001b[43m \u001b[49m\u001b[38;5;129;43;01mnot\u001b[39;49;00m\u001b[43m \u001b[49m\u001b[38;5;28;43;01mNone\u001b[39;49;00m\u001b[43m \u001b[49m\u001b[38;5;28;43;01melse\u001b[39;49;00m\u001b[43m \u001b[49m\u001b[38;5;28;43;01mNone\u001b[39;49;00m\u001b[43m,\u001b[49m\n\u001b[1;32m    439\u001b[0m \u001b[43m        \u001b[49m\u001b[43mincremental_state\u001b[49m\u001b[43m,\u001b[49m\n\u001b[1;32m    440\u001b[0m \u001b[43m        \u001b[49m\u001b[43mself_attn_mask\u001b[49m\u001b[38;5;241;43m=\u001b[39;49m\u001b[38;5;28;43mself\u001b[39;49m\u001b[38;5;241;43m.\u001b[39;49m\u001b[43mbuffered_future_mask\u001b[49m\u001b[43m(\u001b[49m\u001b[43mx\u001b[49m\u001b[43m)\u001b[49m\u001b[43m \u001b[49m\u001b[38;5;28;43;01mif\u001b[39;49;00m\u001b[43m \u001b[49m\u001b[43mincremental_state\u001b[49m\u001b[43m \u001b[49m\u001b[38;5;129;43;01mis\u001b[39;49;00m\u001b[43m \u001b[49m\u001b[38;5;28;43;01mNone\u001b[39;49;00m\u001b[43m \u001b[49m\u001b[38;5;28;43;01melse\u001b[39;49;00m\u001b[43m \u001b[49m\u001b[38;5;28;43;01mNone\u001b[39;49;00m\u001b[43m,\u001b[49m\n\u001b[1;32m    441\u001b[0m \u001b[43m    \u001b[49m\u001b[43m)\u001b[49m\n\u001b[1;32m    442\u001b[0m     inner_states\u001b[38;5;241m.\u001b[39mappend(x)\n\u001b[1;32m    444\u001b[0m \u001b[38;5;28;01mif\u001b[39;00m \u001b[38;5;28mself\u001b[39m\u001b[38;5;241m.\u001b[39mlayer_norm:\n",
      "File \u001b[0;32m~/miniconda3/envs/TamGen/lib/python3.9/site-packages/torch/nn/modules/module.py:1767\u001b[0m, in \u001b[0;36mModule._wrapped_call_impl\u001b[0;34m(self, *args, **kwargs)\u001b[0m\n\u001b[1;32m   1765\u001b[0m     \u001b[38;5;28;01mreturn\u001b[39;00m \u001b[38;5;28mself\u001b[39m\u001b[38;5;241m.\u001b[39m_compiled_call_impl(\u001b[38;5;241m*\u001b[39margs, \u001b[38;5;241m*\u001b[39m\u001b[38;5;241m*\u001b[39mkwargs)  \u001b[38;5;66;03m# type: ignore[misc]\u001b[39;00m\n\u001b[1;32m   1766\u001b[0m \u001b[38;5;28;01melse\u001b[39;00m:\n\u001b[0;32m-> 1767\u001b[0m     \u001b[38;5;28;01mreturn\u001b[39;00m \u001b[38;5;28;43mself\u001b[39;49m\u001b[38;5;241;43m.\u001b[39;49m\u001b[43m_call_impl\u001b[49m\u001b[43m(\u001b[49m\u001b[38;5;241;43m*\u001b[39;49m\u001b[43margs\u001b[49m\u001b[43m,\u001b[49m\u001b[43m \u001b[49m\u001b[38;5;241;43m*\u001b[39;49m\u001b[38;5;241;43m*\u001b[39;49m\u001b[43mkwargs\u001b[49m\u001b[43m)\u001b[49m\n",
      "File \u001b[0;32m~/miniconda3/envs/TamGen/lib/python3.9/site-packages/torch/nn/modules/module.py:1778\u001b[0m, in \u001b[0;36mModule._call_impl\u001b[0;34m(self, *args, **kwargs)\u001b[0m\n\u001b[1;32m   1773\u001b[0m \u001b[38;5;66;03m# If we don't have any hooks, we want to skip the rest of the logic in\u001b[39;00m\n\u001b[1;32m   1774\u001b[0m \u001b[38;5;66;03m# this function, and just call forward.\u001b[39;00m\n\u001b[1;32m   1775\u001b[0m \u001b[38;5;28;01mif\u001b[39;00m \u001b[38;5;129;01mnot\u001b[39;00m (\u001b[38;5;28mself\u001b[39m\u001b[38;5;241m.\u001b[39m_backward_hooks \u001b[38;5;129;01mor\u001b[39;00m \u001b[38;5;28mself\u001b[39m\u001b[38;5;241m.\u001b[39m_backward_pre_hooks \u001b[38;5;129;01mor\u001b[39;00m \u001b[38;5;28mself\u001b[39m\u001b[38;5;241m.\u001b[39m_forward_hooks \u001b[38;5;129;01mor\u001b[39;00m \u001b[38;5;28mself\u001b[39m\u001b[38;5;241m.\u001b[39m_forward_pre_hooks\n\u001b[1;32m   1776\u001b[0m         \u001b[38;5;129;01mor\u001b[39;00m _global_backward_pre_hooks \u001b[38;5;129;01mor\u001b[39;00m _global_backward_hooks\n\u001b[1;32m   1777\u001b[0m         \u001b[38;5;129;01mor\u001b[39;00m _global_forward_hooks \u001b[38;5;129;01mor\u001b[39;00m _global_forward_pre_hooks):\n\u001b[0;32m-> 1778\u001b[0m     \u001b[38;5;28;01mreturn\u001b[39;00m \u001b[43mforward_call\u001b[49m\u001b[43m(\u001b[49m\u001b[38;5;241;43m*\u001b[39;49m\u001b[43margs\u001b[49m\u001b[43m,\u001b[49m\u001b[43m \u001b[49m\u001b[38;5;241;43m*\u001b[39;49m\u001b[38;5;241;43m*\u001b[39;49m\u001b[43mkwargs\u001b[49m\u001b[43m)\u001b[49m\n\u001b[1;32m   1780\u001b[0m result \u001b[38;5;241m=\u001b[39m \u001b[38;5;28;01mNone\u001b[39;00m\n\u001b[1;32m   1781\u001b[0m called_always_called_hooks \u001b[38;5;241m=\u001b[39m \u001b[38;5;28mset\u001b[39m()\n",
      "File \u001b[0;32m/workspace/workspace/TamGen/fairseq/modules/transformer_layer.py:246\u001b[0m, in \u001b[0;36mTransformerDecoderLayer.forward\u001b[0;34m(self, x, encoder_out, encoder_padding_mask, incremental_state, prev_self_attn_state, prev_attn_state, self_attn_mask, self_attn_padding_mask)\u001b[0m\n\u001b[1;32m    236\u001b[0m     x, attn \u001b[38;5;241m=\u001b[39m \u001b[38;5;28mself\u001b[39m\u001b[38;5;241m.\u001b[39mencoder_attn(\n\u001b[1;32m    237\u001b[0m         query\u001b[38;5;241m=\u001b[39mx,\n\u001b[1;32m    238\u001b[0m         key\u001b[38;5;241m=\u001b[39mencoder_out,\n\u001b[0;32m   (...)\u001b[0m\n\u001b[1;32m    243\u001b[0m         need_weights\u001b[38;5;241m=\u001b[39m(\u001b[38;5;129;01mnot\u001b[39;00m \u001b[38;5;28mself\u001b[39m\u001b[38;5;241m.\u001b[39mtraining \u001b[38;5;129;01mand\u001b[39;00m \u001b[38;5;28mself\u001b[39m\u001b[38;5;241m.\u001b[39mneed_attn),\n\u001b[1;32m    244\u001b[0m     )\n\u001b[1;32m    245\u001b[0m     x \u001b[38;5;241m=\u001b[39m F\u001b[38;5;241m.\u001b[39mdropout(x, p\u001b[38;5;241m=\u001b[39m\u001b[38;5;28mself\u001b[39m\u001b[38;5;241m.\u001b[39mdropout, training\u001b[38;5;241m=\u001b[39m\u001b[38;5;28mself\u001b[39m\u001b[38;5;241m.\u001b[39mtraining)\n\u001b[0;32m--> 246\u001b[0m     x \u001b[38;5;241m=\u001b[39m \u001b[43mresidual\u001b[49m\u001b[43m \u001b[49m\u001b[38;5;241;43m+\u001b[39;49m\u001b[43m \u001b[49m\u001b[43mx\u001b[49m\n\u001b[1;32m    247\u001b[0m     x \u001b[38;5;241m=\u001b[39m \u001b[38;5;28mself\u001b[39m\u001b[38;5;241m.\u001b[39mmaybe_layer_norm(\u001b[38;5;28mself\u001b[39m\u001b[38;5;241m.\u001b[39mencoder_attn_layer_norm, x, after\u001b[38;5;241m=\u001b[39m\u001b[38;5;28;01mTrue\u001b[39;00m)\n\u001b[1;32m    249\u001b[0m residual \u001b[38;5;241m=\u001b[39m x\n",
      "\u001b[0;31mKeyboardInterrupt\u001b[0m: "
     ]
    }
   ],
   "source": [
    "# Assume worker is already instantiated, and pdb_id is a string\n",
    "objective = make_objective(worker, pdb_id=pdb_id)  # Change as needed\n",
    "\n",
    "# Create Optuna study\n",
    "study = optuna.create_study(direction=\"maximize\")\n",
    "study.optimize(objective, n_trials=30)\n",
    "\n",
    "# Print best results\n",
    "print(\"Best hyperparameters:\", study.best_params)\n",
    "print(\"Best QED score:\", study.best_value)"
   ]
  },
  {
   "cell_type": "code",
   "execution_count": null,
   "metadata": {},
   "outputs": [],
   "source": [
    "# Optimization history (Objective vs. Trial Number)\n",
    "def plot_optimization_history_matplotlib(study):\n",
    "    trial_numbers = [t.number for t in study.trials if t.value is not None]\n",
    "    values = [t.value for t in study.trials if t.value is not None]\n",
    "\n",
    "    plt.figure(figsize=(10, 5))\n",
    "    plt.plot(trial_numbers, values, marker='o')\n",
    "    plt.title('Optimization History')\n",
    "    plt.xlabel('Trial Number')\n",
    "    plt.ylabel('Objective Value')\n",
    "    plt.grid(True)\n",
    "    plt.show()\n",
    "\n",
    "import matplotlib.pyplot as plt\n",
    "from optuna.importance import get_param_importances\n",
    "\n",
    "# Parameter importances\n",
    "def plot_param_importances_matplotlib(study):\n",
    "    importances = get_param_importances(study)\n",
    "    params = list(importances.keys())\n",
    "    scores = list(importances.values())\n",
    "\n",
    "    plt.figure(figsize=(10, 5))\n",
    "    plt.barh(params, scores, color='skyblue')\n",
    "    plt.xlabel('Importance')\n",
    "    plt.title('Hyperparameter Importances')\n",
    "    plt.gca().invert_yaxis()  # Highest importance on top\n",
    "    plt.grid(axis='x')\n",
    "    plt.show()"
   ]
  },
  {
   "cell_type": "code",
   "execution_count": null,
   "metadata": {},
   "outputs": [],
   "source": [
    "plot_optimization_history_matplotlib(study)"
   ]
  },
  {
   "cell_type": "code",
   "execution_count": null,
   "metadata": {},
   "outputs": [],
   "source": [
    "best_trial = study.best_trial\n",
    "print(\"\\n=== Best Trial Info ===\")\n",
    "print(f\"Trial Number: {best_trial.number}\")\n",
    "print(f\"Best QED Score: {best_trial.value:.4f}\")\n",
    "print(\"Best Hyperparameters:\")\n",
    "for key, value in best_trial.params.items():\n",
    "    print(f\"  {key}: {value}\")"
   ]
  }
 ],
 "metadata": {
  "kernelspec": {
   "display_name": "TamGen",
   "language": "python",
   "name": "python3"
  },
  "language_info": {
   "codemirror_mode": {
    "name": "ipython",
    "version": 3
   },
   "file_extension": ".py",
   "mimetype": "text/x-python",
   "name": "python",
   "nbconvert_exporter": "python",
   "pygments_lexer": "ipython3",
   "version": "3.9.21"
  }
 },
 "nbformat": 4,
 "nbformat_minor": 2
}
